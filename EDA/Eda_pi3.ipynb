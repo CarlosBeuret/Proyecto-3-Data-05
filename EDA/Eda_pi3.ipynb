{
 "cells": [
  {
   "attachments": {},
   "cell_type": "markdown",
   "metadata": {},
   "source": [
    "<h1 align=center>Proyecto Individual 3: Data Analist.</h1>\n",
    "<hr>"
   ]
  },
  {
   "attachments": {},
   "cell_type": "markdown",
   "metadata": {},
   "source": [
    "<h2 align=center>Análisis Exploratorio de Datos (EDA)</h2>"
   ]
  },
  {
   "attachments": {},
   "cell_type": "markdown",
   "metadata": {},
   "source": [
    "**Importamos librerias**"
   ]
  },
  {
   "cell_type": "code",
   "execution_count": 383,
   "metadata": {},
   "outputs": [],
   "source": [
    "import pandas as pd\n",
    "import matplotlib.pyplot as plt\n",
    "import seaborn as sns\n",
    "import numpy as np\n"
   ]
  },
  {
   "attachments": {},
   "cell_type": "markdown",
   "metadata": {},
   "source": [
    "**1.-Extracción de los datos**\n",
    "\n",
    "Lo primero que hacemos es leer los archivos csv con una estructura de dataframe de pandas."
   ]
  },
  {
   "cell_type": "code",
   "execution_count": 384,
   "metadata": {},
   "outputs": [],
   "source": [
    "penet_100hog = pd.read_csv('../Datasets/dataset/Penetración de Internet fijo (accesos por cada 100 hogares).csv',decimal=',')#Primer kpi\n",
    "\n",
    "penet_hog = pd.read_csv('../Datasets/dataset/Penetración por hogares nacional de Internet fijo.csv', decimal= ',')\n",
    "velmed = pd.read_csv('../Datasets/dataset/Velocidad Media de bajada de Internet fijo.csv', decimal=',') \n",
    "distr_totnac_vel =pd.read_csv('../Datasets/dataset/Distribución de los accesos totales nacionales a Internet fijo por velocidad.csv', thousands='.')\n",
    "totalnac_xbanda = pd.read_csv('../Datasets/dataset/Total nacional de accesos a Internet fijo por banda ancha y banda angosta.csv',thousands='.')\n",
    "ingre_trimes = pd.read_csv('../Datasets/dataset/Ingresos trimestrales por la prestación del servicio de Internet fijo.csv',thousands= '.')\n",
    "trim_accint_tec = pd.read_csv('../Datasets/dataset/Serie trimestral de accesos a Internet fijo por tecnología.csv',thousands='.')\n",
    "\n",
    "acc_ranvelyprov = pd.read_csv(\"../Datasets/dataset/Acceso a Internet Fijo por rangos de velocidad de bajada y provincia.csv\", thousands='.' )\n",
    "acc_velyprov = pd.read_csv('../Datasets/dataset/Accesos a Internet fijo por velocidad bajada y provincia.csv', thousands='.')# No lo utilizamos.\n",
    "acc_tecyprov = pd.read_csv('../Datasets/dataset/Acceso a Internet fijo por tecnología y provincia.csv', thousands='.')\n",
    "acc_bandayprov = pd.read_csv('../Datasets/dataset/Accesos a banda ancha y banda angosta por provincia.csv',thousands='.')\n",
    "velmed_xprov = pd.read_csv('../Datasets/dataset/Velocidad media de bajada de Internet fijo por provincia.csv') \n",
    "\n",
    "acc_velyloc = pd.read_csv('../Datasets/dataset/Accesos a Internet fijo por velocidad de bajada y localidad.csv')\n",
    "acc__tecyloc = pd.read_csv('../Datasets/dataset/Accesos a Internet fijo por tecnología y localida.csv')\n",
    "list_loc_int = pd.read_csv('../Datasets/dataset/Listado de localidades con conectividad a internet..csv')\n"
   ]
  },
  {
   "attachments": {},
   "cell_type": "markdown",
   "metadata": {},
   "source": [
    "<h3>2.-Examen preliminar.<h3>"
   ]
  },
  {
   "attachments": {},
   "cell_type": "markdown",
   "metadata": {},
   "source": [
    "Lo primeros que podemos observar es que no hay una única base de datos lo que imposibilita comenzar el analisis de forma unificada. "
   ]
  },
  {
   "attachments": {},
   "cell_type": "markdown",
   "metadata": {},
   "source": [
    "**A.- Examen de los datasets en su conjunto y conclusiones.**\n"
   ]
  },
  {
   "attachments": {},
   "cell_type": "markdown",
   "metadata": {},
   "source": [
    "Lo primero que debemos aclarar es que se presentara primero el exámen en conjunto de los diferentes datasets y las conclusiones arrivadas, con el objetivo de permitir una sencilla comprensión del presente trabajo a personas ajenas a la realización del mismo.\n",
    "\n",
    "Pero debemos tener en cuenta que el orden en que se realizó el EDA fue el opuesto, primero el exámen individual de los archivos y luego explorar la relación entre ellos y la elaboración de conclusiones.\n",
    "\n"
   ]
  },
  {
   "attachments": {},
   "cell_type": "markdown",
   "metadata": {},
   "source": [
    "En cuanto a la forma en que se encuentran los datos pudimos apreciar que sera necesario modficar como se expresan los miles y los decimales a fin de permitir su adecuada comprensión por python. También en algunos casos las columnas no tienen el tipo de dato que correspondería a la información contenida o que cuentan con información que ya se encuentra en otras. \n",
    "\n",
    "Por otro lado, afortunadamente no se encontraron grandes cantidades de datos faltantes ni errores de carga evidentes. Solo fueron necesarias algunas correcciones como por ejemplo, * al lado de valores correspondientes a fechas.\n",
    "\n"
   ]
  },
  {
   "attachments": {},
   "cell_type": "markdown",
   "metadata": {},
   "source": [
    "Del analisis de los archivos csv apreciamos que por los datos y columnas que los componen pertenecerian a tres grandes grupos, los relativos a la nación, a las provincias y a las localidades. Todos los archivos presentan información relativa al mismo espacio temporal contenido en las columnas año y trimestre. \n",
    "\n",
    "Siguiendo este parametro vemos que serían facilmente concatenables y que algunos datasets se tornan innecesarios. A modo de ejemplo entendemos que con una simple suma de valores provinciales obtenemos los nacionales volviendolos sobreabundantes. "
   ]
  },
  {
   "attachments": {},
   "cell_type": "markdown",
   "metadata": {},
   "source": [
    "Asi las cosas, se procede a normalizar los datos en forma conjunta con el exámen individual de los datasets que realizamos a continuación. Se tomara como base para el presente proyecto los archivos provinciales, seran tenidos en consideración solo los nacionales que agreguen información y, como consecuencia, del limitado tiempo para la realización del proyecto se dejarán de lado los correspondientes a localidades."
   ]
  },
  {
   "attachments": {},
   "cell_type": "markdown",
   "metadata": {},
   "source": [
    "**A.- Examen indivual de los diferentes dataframes** "
   ]
  },
  {
   "attachments": {},
   "cell_type": "markdown",
   "metadata": {},
   "source": [
    "En primer lugar vamos a analizar de manera individual los diferentes dataframes y veremos si existen errores, valores faltantes, tipos de datos, tamaño, columnas y nos haremos una idea de su contenido. Luego esto nos permitira analizar las relaciones que existen entre los mismos y si la conveniencia de concatenar algunos de ellos."
   ]
  },
  {
   "attachments": {},
   "cell_type": "markdown",
   "metadata": {},
   "source": [
    "<h4>a.-Provinciales.<h4>"
   ]
  },
  {
   "attachments": {},
   "cell_type": "markdown",
   "metadata": {},
   "source": [
    "**I.-Penetración de Internet fijo (accesos por cada 100 hogares).**"
   ]
  },
  {
   "attachments": {},
   "cell_type": "markdown",
   "metadata": {},
   "source": [
    "Apreciamos que contiene 792 filas, 4 columnas, 1 numérica y 1 string (Porvincia) y dos que se refieren a fechas y que probablemente sea conveniente vincularlas a un calendario en Powerby. Además, la columna 'Accesos por cada 100 hogares' tiene decimales con ',' los que se reemplazaran en forma conjunta con la incorporación de los datos. No vemos valores faltantes.\n",
    "\n",
    "Nos brinda información concerniente a la cantidad de accesos a internet cada 100 hogares teniendo en cuenta el año, trimestre y provincia, por lo tanto permite ver su evolución en el tiempo y el nivel de acceso de cada provincia. \n",
    "\n",
    "Los mencionados datos puede permitir inferir oportunidades de negocio o políticas de dasarrollo estatal. Puede resulta muy útil si se lo anliza en conjunto con las localidades."
   ]
  },
  {
   "cell_type": "code",
   "execution_count": 385,
   "metadata": {},
   "outputs": [
    {
     "data": {
      "text/html": [
       "<div>\n",
       "<style scoped>\n",
       "    .dataframe tbody tr th:only-of-type {\n",
       "        vertical-align: middle;\n",
       "    }\n",
       "\n",
       "    .dataframe tbody tr th {\n",
       "        vertical-align: top;\n",
       "    }\n",
       "\n",
       "    .dataframe thead th {\n",
       "        text-align: right;\n",
       "    }\n",
       "</style>\n",
       "<table border=\"1\" class=\"dataframe\">\n",
       "  <thead>\n",
       "    <tr style=\"text-align: right;\">\n",
       "      <th></th>\n",
       "      <th>Año</th>\n",
       "      <th>Trimestre</th>\n",
       "      <th>Provincia</th>\n",
       "      <th>Accesos por cada 100 hogares</th>\n",
       "    </tr>\n",
       "  </thead>\n",
       "  <tbody>\n",
       "    <tr>\n",
       "      <th>0</th>\n",
       "      <td>2022</td>\n",
       "      <td>1</td>\n",
       "      <td>Buenos Aires</td>\n",
       "      <td>76.08</td>\n",
       "    </tr>\n",
       "    <tr>\n",
       "      <th>1</th>\n",
       "      <td>2022</td>\n",
       "      <td>1</td>\n",
       "      <td>Capital Federal</td>\n",
       "      <td>111.80</td>\n",
       "    </tr>\n",
       "    <tr>\n",
       "      <th>2</th>\n",
       "      <td>2022</td>\n",
       "      <td>1</td>\n",
       "      <td>Catamarca</td>\n",
       "      <td>58.21</td>\n",
       "    </tr>\n",
       "    <tr>\n",
       "      <th>3</th>\n",
       "      <td>2022</td>\n",
       "      <td>1</td>\n",
       "      <td>Chaco</td>\n",
       "      <td>44.06</td>\n",
       "    </tr>\n",
       "    <tr>\n",
       "      <th>4</th>\n",
       "      <td>2022</td>\n",
       "      <td>1</td>\n",
       "      <td>Chubut</td>\n",
       "      <td>88.05</td>\n",
       "    </tr>\n",
       "  </tbody>\n",
       "</table>\n",
       "</div>"
      ],
      "text/plain": [
       "    Año  Trimestre        Provincia  Accesos por cada 100 hogares\n",
       "0  2022          1     Buenos Aires                         76.08\n",
       "1  2022          1  Capital Federal                        111.80\n",
       "2  2022          1        Catamarca                         58.21\n",
       "3  2022          1            Chaco                         44.06\n",
       "4  2022          1           Chubut                         88.05"
      ]
     },
     "execution_count": 385,
     "metadata": {},
     "output_type": "execute_result"
    }
   ],
   "source": [
    "penet_100hog.head()\n"
   ]
  },
  {
   "cell_type": "code",
   "execution_count": 386,
   "metadata": {},
   "outputs": [
    {
     "name": "stdout",
     "output_type": "stream",
     "text": [
      "<class 'pandas.core.frame.DataFrame'>\n",
      "RangeIndex: 792 entries, 0 to 791\n",
      "Data columns (total 4 columns):\n",
      " #   Column                        Non-Null Count  Dtype  \n",
      "---  ------                        --------------  -----  \n",
      " 0   Año                           792 non-null    int64  \n",
      " 1   Trimestre                     792 non-null    int64  \n",
      " 2   Provincia                     792 non-null    object \n",
      " 3   Accesos por cada 100 hogares  792 non-null    float64\n",
      "dtypes: float64(1), int64(2), object(1)\n",
      "memory usage: 24.9+ KB\n"
     ]
    }
   ],
   "source": [
    "penet_100hog.info()"
   ]
  },
  {
   "cell_type": "code",
   "execution_count": 387,
   "metadata": {},
   "outputs": [
    {
     "data": {
      "text/plain": [
       "<AxesSubplot: >"
      ]
     },
     "execution_count": 387,
     "metadata": {},
     "output_type": "execute_result"
    },
    {
     "data": {
      "image/png": "[encoded data removed]",
      "text/plain": [
       "<Figure size 640x480 with 2 Axes>"
      ]
     },
     "metadata": {},
     "output_type": "display_data"
    }
   ],
   "source": [
    "sns.heatmap(penet_100hog.isnull())"
   ]
  },
  {
   "attachments": {},
   "cell_type": "markdown",
   "metadata": {},
   "source": [
    "Vamos a analizar individualmente los valores de las columnas con la finalidad de entender mejor su contenido y para detectar si hay errores evidentes de carga."
   ]
  },
  {
   "cell_type": "code",
   "execution_count": 388,
   "metadata": {},
   "outputs": [
    {
     "data": {
      "text/plain": [
       "array([2022, 2021, 2020, 2019, 2018, 2017, 2016, 2015, 2014], dtype=int64)"
      ]
     },
     "execution_count": 388,
     "metadata": {},
     "output_type": "execute_result"
    }
   ],
   "source": [
    "penet_100hog['Año'].unique() # Apreciamos que los datos van del año 2014 al 2022."
   ]
  },
  {
   "cell_type": "code",
   "execution_count": 389,
   "metadata": {},
   "outputs": [
    {
     "data": {
      "text/plain": [
       "array([1, 4, 3, 2], dtype=int64)"
      ]
     },
     "execution_count": 389,
     "metadata": {},
     "output_type": "execute_result"
    }
   ],
   "source": [
    "penet_100hog['Trimestre'].unique() # se aplica a los cuatro trimestres del año."
   ]
  },
  {
   "cell_type": "code",
   "execution_count": 390,
   "metadata": {},
   "outputs": [
    {
     "data": {
      "text/plain": [
       "array(['Buenos Aires', 'Capital Federal', 'Catamarca', 'Chaco', 'Chubut',\n",
       "       'Córdoba', 'Corrientes', 'Entre Ríos', 'Formosa', 'Jujuy',\n",
       "       'La Pampa', 'La Rioja', 'Mendoza', 'Misiones', 'Neuquén',\n",
       "       'Río Negro', 'Salta', 'San Juan', 'San Luis', 'Santa Cruz',\n",
       "       'Santa Fe', 'Santiago Del Estero', 'Tierra Del Fuego', 'Tucumán'],\n",
       "      dtype=object)"
      ]
     },
     "execution_count": 390,
     "metadata": {},
     "output_type": "execute_result"
    }
   ],
   "source": [
    "penet_100hog['Provincia'].unique() # abarca las 23 provincias y el distrito federal, es decir la totalidad de argentina."
   ]
  },
  {
   "cell_type": "code",
   "execution_count": 391,
   "metadata": {},
   "outputs": [
    {
     "data": {
      "text/plain": [
       "array([ 76.08, 111.8 ,  58.21,  44.06,  88.05,  85.76,  47.64,  63.7 ,\n",
       "        34.96,  58.06,  91.66,  78.77,  48.74,  49.04,  74.17,  67.04,\n",
       "        56.11,  43.55,  80.72,  43.34,  77.3 ,  47.17,  98.29,  57.39,\n",
       "        75.66, 111.27,  55.25,  44.05,  82.57,  84.51,  45.51,  63.16,\n",
       "        34.45,  56.92,  89.57,  77.92,  47.51,  49.06,  73.3 ,  65.69,\n",
       "        56.81,  39.59,  80.3 ,  43.05,  77.09,  47.05,  98.4 ,  55.93,\n",
       "        71.68,  52.71,  42.96,  80.71,  81.28,  44.9 ,  62.18,  33.96,\n",
       "        55.69,  84.28,  77.26,  45.55,  45.57,  69.71,  61.97,  55.96,\n",
       "        39.46,  79.87,  43.75,  75.02,  47.  ,  94.95,  54.64,  70.  ,\n",
       "       110.14,  52.34,  43.33,  72.29,  80.12,  43.54,  61.66,  33.23,\n",
       "        56.18,  82.08,  76.98,  40.97,  45.01,  69.14,  61.94,  54.93,\n",
       "        39.28,  83.48,  44.01,  75.07,  46.56,  67.89,  69.11, 108.42,\n",
       "        48.9 ,  43.14,  68.99,  78.59,  42.66,  60.44,  32.73,  55.63,\n",
       "        81.78,  49.81,  39.15,  43.17,  66.84,  60.88,  53.93,  39.06,\n",
       "        81.24,  41.65,  73.92,  45.67,  77.35,  54.82,  68.98, 108.31,\n",
       "        49.41,  43.03,  68.35,  78.08,  42.43,  59.47,  32.49,  53.46,\n",
       "        81.77,  50.11,  38.63,  42.64,  67.  ,  61.09,  54.04,  36.32,\n",
       "        81.68,  37.  ,  73.58,  76.27,  54.78,  67.66, 107.68,  47.16,\n",
       "        41.54,  68.34,  75.22,  41.75,  58.19,  31.91,  79.26,  50.12,\n",
       "        37.35,  41.6 ,  65.24,  57.05,  52.32,  38.79,  79.96,  35.95,\n",
       "        72.12,  43.38,  76.81,  53.23,  65.22, 106.41,  45.43,  39.83,\n",
       "        57.34,  72.71,  40.3 ,  56.54,  31.14,  47.89,  76.1 ,  49.84,\n",
       "        36.25,  40.89,  63.9 ,  56.37,  51.58,  35.09,  78.41,  35.79,\n",
       "        43.47,  76.37,  51.78,  64.33, 105.98,  37.62,  37.48,  51.27,\n",
       "        70.69,  38.73,  56.12,  30.23,  46.67,  75.77,  46.35,  33.14,\n",
       "        39.02,  61.85,  55.12,  49.6 ,  32.39,  76.31,  35.97,  69.52,\n",
       "        42.47,  76.07,  47.85,  64.25, 106.25,  36.44,  36.84,  51.15,\n",
       "        70.48,  38.77,  57.99,  30.47,  45.38,  76.92,  47.14,  33.65,\n",
       "        39.79,  59.36,  55.71,  50.35,  32.85,  74.92,  36.71,  69.48,\n",
       "        42.92,  79.7 ,  47.65,  69.36, 112.65,  30.88,  35.85,  47.57,\n",
       "        68.59,  38.49,  57.9 ,  30.11,  44.32,  77.45,  47.94,  40.74,\n",
       "        39.33,  64.14,  63.42,  44.48,  37.06,  85.23,  35.63,  68.87,\n",
       "        55.3 ,  96.46,  39.49,  67.85, 110.55,  32.13,  34.14,  46.99,\n",
       "        68.07,  38.16,  57.48,  30.42,  44.51,  77.08,  48.7 ,  40.75,\n",
       "        63.08,  41.89,  35.6 ,  81.79,  28.85,  67.42,  52.79,  94.8 ,\n",
       "        40.14,  66.24, 109.2 ,  32.19,  32.64,  43.  ,  65.52,  35.13,\n",
       "        56.79,  29.68,  46.41,  76.35,  50.18,  37.66,  36.26,  58.88,\n",
       "        53.57,  40.1 ,  31.83,  67.34,  23.67,  66.97,  37.52,  93.38,\n",
       "        41.63,  64.6 , 108.27,  32.23,  32.59,  42.61,  65.09,  34.57,\n",
       "        54.37,  29.74,  46.53,  73.49,  37.76,  59.07,  51.86,  39.8 ,\n",
       "        31.9 ,  67.55,  23.69,  65.59,  37.4 ,  93.59,  41.76,  64.44,\n",
       "       108.45,  32.92,  32.28,  56.39,  64.24,  34.25,  50.22,  29.58,\n",
       "        23.26,  71.75,  50.73,  37.99,  32.1 ,  60.49,  50.54,  39.43,\n",
       "        33.05,  52.35,  63.41,  92.77,  41.68,  62.78, 106.53,  32.86,\n",
       "        31.25,  54.9 ,  63.27,  33.81,  49.2 ,  29.43,  23.43,  71.04,\n",
       "        50.98,  36.97,  31.63,  60.24,  50.15,  39.94,  32.95,  15.15,\n",
       "        33.33,  62.57,  35.26,  91.61,  41.51,  62.63, 106.24,  32.79,\n",
       "        30.83,  53.72,  63.52,  32.66,  48.68,  21.4 ,  23.12,  51.44,\n",
       "        37.07,  30.96,  61.52,  49.82,  39.78,  32.61,  33.55,  62.28,\n",
       "        34.99,  65.2 ,  41.18,  57.61, 122.9 ,  28.62,  30.81,  51.46,\n",
       "        63.33,  32.52,  21.27,  22.74,  71.05,  51.57,  61.24,  49.38,\n",
       "        30.3 ,  10.59,  28.91,  61.71,  29.13,  59.89,  39.9 , 121.86,\n",
       "        29.98,  46.22,  62.31,  32.17,  45.96,  21.35,  22.65,  51.47,\n",
       "        35.7 ,  30.21,  60.83,  48.52,  39.84,  32.37,  15.48,  33.29,\n",
       "        60.91,  35.12,  65.74,  39.7 ,  56.27, 124.06,  25.98,  29.05,\n",
       "        35.55,  58.97,  31.39,  45.39,  19.97,  22.4 ,  63.49,  16.2 ,\n",
       "        31.76,  30.09,  61.91,  46.02,  32.74,  26.96,   9.51,  26.25,\n",
       "        52.27,  14.12,  68.46,  38.19,  58.57, 108.37,  25.66,  35.66,\n",
       "        57.65,  30.94,  44.91,  19.84,  22.76,  62.67,  31.84,  29.52,\n",
       "        61.02,  46.03,  32.58,  27.04,   9.55,  26.52,  51.97,  14.7 ,\n",
       "        68.92,  37.9 , 120.63,  26.54,  28.79,  36.07,  57.7 ,  30.98,\n",
       "        45.21,  19.85,  63.02,  16.46,  32.11,  29.72,  60.87,  46.39,\n",
       "        32.69,  27.29,   9.64,  27.05,  52.19,  15.07,  70.31,  37.98,\n",
       "        60.14, 120.77,  26.48,  36.18,  58.24,  31.07,  45.44,  18.64,\n",
       "        22.61,  61.73,  17.07,  32.09,  29.91,  60.21,  32.96,  27.32,\n",
       "         9.63,  26.84,  52.67,  15.33,  68.94,  59.34, 120.04,  26.07,\n",
       "        28.59,  36.12,  57.55,  30.58,  44.74,  19.37,  21.89,  16.88,\n",
       "        29.24,  59.1 ,  46.24,  32.08,  27.34,   9.6 ,  26.73,  52.44,\n",
       "        15.89,  67.72,  37.24, 115.16,  25.91,  28.08,  36.09,  55.28,\n",
       "        30.08,  43.85,  19.04,  21.41,  57.84,  16.83,  32.12,  28.37,\n",
       "        55.75,  45.84,  31.32,  27.33,   9.59,  26.87,  51.28,  16.21,\n",
       "        65.83,  36.72,  58.29, 118.13,  26.24,  28.35,  36.89,  57.36,\n",
       "        30.34,  44.11,  19.07,  21.47,  58.76,  17.32,  28.69,  46.44,\n",
       "        31.59,  27.66,   9.71,  27.74,  52.61,  17.  ,  66.46,  57.69,\n",
       "       118.29,  25.86,  27.96,  36.81,  57.08,  30.17,  43.68,  18.84,\n",
       "        57.96,  17.15,  28.31,  54.6 ,  31.18,  27.67,  27.61,  52.15,\n",
       "        17.12,  74.86,  36.61,  56.8 , 116.07,  25.45,  27.46,  36.58,\n",
       "        55.87,  42.93,  18.36,  20.29,  56.71,  27.35,  53.12,  45.98,\n",
       "        30.46,  27.64,  27.07,  51.18,  17.11,  74.51,  35.69, 114.9 ,\n",
       "        25.11,  26.65,  37.61,  54.7 ,  28.95,  42.07,  18.12,  19.69,\n",
       "        55.51,  16.7 ,  26.31,  51.95,  45.33,  30.01,  27.55,   9.72,\n",
       "        27.99,  50.24,  17.06,  74.23,  35.08,  56.09,  25.51,  21.87,\n",
       "        40.25,  23.56,  36.03,  17.96,  19.6 ,  17.01,  24.16,  52.55,\n",
       "        45.48,  29.53,  28.04,   9.79,  27.8 ,  50.  ,  17.27,  66.14,\n",
       "        35.32,  56.75, 113.8 ,  24.71,  21.11,  40.6 ,  54.23,  22.79,\n",
       "        34.98,  17.77,  18.37,  55.78,  16.51,  32.31,  23.57,  56.4 ,\n",
       "        46.2 ,  29.22,  27.85,  28.23,  16.49,  33.94,  55.06, 113.14,\n",
       "        24.7 ,  20.96,  41.41,  53.45,  22.58,  34.69,  17.54,  18.71,\n",
       "        49.71,  16.5 ,  23.37,  50.84,  27.78,  29.38,  48.39,  64.36,\n",
       "        54.57, 112.25,  24.25,  20.72,  41.24,  52.52,  22.32,  34.37,\n",
       "        17.42,  18.42,  48.43,  16.29,  23.14,  49.79,  28.7 ,  27.6 ,\n",
       "         9.35,  28.94,  16.31,  63.97,  33.42])"
      ]
     },
     "execution_count": 391,
     "metadata": {},
     "output_type": "execute_result"
    }
   ],
   "source": [
    "penet_100hog['Accesos por cada 100 hogares'].unique() # vemos que hay gran variedad de datos. Se evaluara si conviene hacer rangos. "
   ]
  },
  {
   "cell_type": "code",
   "execution_count": 392,
   "metadata": {},
   "outputs": [
    {
     "data": {
      "text/plain": [
       "9.35"
      ]
     },
     "execution_count": 392,
     "metadata": {},
     "output_type": "execute_result"
    }
   ],
   "source": [
    "penet_100hog['Accesos por cada 100 hogares'].min()"
   ]
  },
  {
   "cell_type": "code",
   "execution_count": 393,
   "metadata": {},
   "outputs": [
    {
     "data": {
      "text/plain": [
       "124.06"
      ]
     },
     "execution_count": 393,
     "metadata": {},
     "output_type": "execute_result"
    }
   ],
   "source": [
    "penet_100hog['Accesos por cada 100 hogares'].max()"
   ]
  },
  {
   "cell_type": "code",
   "execution_count": 394,
   "metadata": {},
   "outputs": [
    {
     "data": {
      "text/plain": [
       "47.90718434343434"
      ]
     },
     "execution_count": 394,
     "metadata": {},
     "output_type": "execute_result"
    }
   ],
   "source": [
    "penet_100hog['Accesos por cada 100 hogares'].mean()"
   ]
  },
  {
   "attachments": {},
   "cell_type": "markdown",
   "metadata": {},
   "source": [
    "**II.-Internet fijo por velocidad bajada y provincia.**"
   ]
  },
  {
   "attachments": {},
   "cell_type": "markdown",
   "metadata": {},
   "source": [
    "Apreciamos que contiene 432 filas, 97 columnas, 94 numérica y 1 string (Porvincia) y 2 que se refieren a fechas y que probablemente sea conveniente vincularlas a un calendario en Powerby. \n",
    "\n",
    "Nos brinda información concerniente a la potencia del acceso a internet cada 100 hogares teniendo en cuenta el año, trimestre y provincia, por lo tanto permite ver su evolución en el tiempo y el nivel de acceso de cada provincia. \n",
    "\n",
    "No utilizaremos este dataset porque creemos que se trata de manera mas ordenada y adecuada para el proposito de nuestro proyecto en el archivo que se analiza a continuación."
   ]
  },
  {
   "cell_type": "code",
   "execution_count": 395,
   "metadata": {},
   "outputs": [
    {
     "data": {
      "text/html": [
       "<div>\n",
       "<style scoped>\n",
       "    .dataframe tbody tr th:only-of-type {\n",
       "        vertical-align: middle;\n",
       "    }\n",
       "\n",
       "    .dataframe tbody tr th {\n",
       "        vertical-align: top;\n",
       "    }\n",
       "\n",
       "    .dataframe thead th {\n",
       "        text-align: right;\n",
       "    }\n",
       "</style>\n",
       "<table border=\"1\" class=\"dataframe\">\n",
       "  <thead>\n",
       "    <tr style=\"text-align: right;\">\n",
       "      <th></th>\n",
       "      <th>Año</th>\n",
       "      <th>Trimestre</th>\n",
       "      <th>Provincia</th>\n",
       "      <th>Otros</th>\n",
       "      <th>0,256 Mbps</th>\n",
       "      <th>0,375 Mbps</th>\n",
       "      <th>0,625 Mbps</th>\n",
       "      <th>0,5 Mbps</th>\n",
       "      <th>0,512 Mbps</th>\n",
       "      <th>0,75 Mbps</th>\n",
       "      <th>...</th>\n",
       "      <th>70 Mbps</th>\n",
       "      <th>71 Mbps</th>\n",
       "      <th>75 Mbps</th>\n",
       "      <th>77 Mbps</th>\n",
       "      <th>78 Mbps</th>\n",
       "      <th>80 Mbps</th>\n",
       "      <th>81 Mbps</th>\n",
       "      <th>83 Mbps</th>\n",
       "      <th>82 Mbps</th>\n",
       "      <th>86 Mbps</th>\n",
       "    </tr>\n",
       "  </thead>\n",
       "  <tbody>\n",
       "    <tr>\n",
       "      <th>0</th>\n",
       "      <td>2022.0</td>\n",
       "      <td>1.0</td>\n",
       "      <td>Buenos Aires</td>\n",
       "      <td>26,280</td>\n",
       "      <td>19</td>\n",
       "      <td>- 0</td>\n",
       "      <td>- 0</td>\n",
       "      <td>31,380</td>\n",
       "      <td>192</td>\n",
       "      <td>5,958</td>\n",
       "      <td>...</td>\n",
       "      <td>3,163</td>\n",
       "      <td>- 0</td>\n",
       "      <td>100,884</td>\n",
       "      <td>- 0</td>\n",
       "      <td>4</td>\n",
       "      <td>212</td>\n",
       "      <td>- 0</td>\n",
       "      <td>2</td>\n",
       "      <td>- 0</td>\n",
       "      <td>- 0</td>\n",
       "    </tr>\n",
       "    <tr>\n",
       "      <th>1</th>\n",
       "      <td>2022.0</td>\n",
       "      <td>1.0</td>\n",
       "      <td>Capital Federal</td>\n",
       "      <td>1,717</td>\n",
       "      <td>31</td>\n",
       "      <td>- 0</td>\n",
       "      <td>- 0</td>\n",
       "      <td>461</td>\n",
       "      <td>35</td>\n",
       "      <td>1,407</td>\n",
       "      <td>...</td>\n",
       "      <td>3</td>\n",
       "      <td>- 0</td>\n",
       "      <td>31,684</td>\n",
       "      <td>- 0</td>\n",
       "      <td>- 0</td>\n",
       "      <td>8</td>\n",
       "      <td>- 0</td>\n",
       "      <td>- 0</td>\n",
       "      <td>- 0</td>\n",
       "      <td>- 0</td>\n",
       "    </tr>\n",
       "    <tr>\n",
       "      <th>2</th>\n",
       "      <td>2022.0</td>\n",
       "      <td>1.0</td>\n",
       "      <td>Catamarca</td>\n",
       "      <td>2,207</td>\n",
       "      <td>- 0</td>\n",
       "      <td>- 0</td>\n",
       "      <td>- 0</td>\n",
       "      <td>34</td>\n",
       "      <td>37</td>\n",
       "      <td>- 0</td>\n",
       "      <td>...</td>\n",
       "      <td>- 0</td>\n",
       "      <td>- 0</td>\n",
       "      <td>- 0</td>\n",
       "      <td>- 0</td>\n",
       "      <td>- 0</td>\n",
       "      <td>- 0</td>\n",
       "      <td>- 0</td>\n",
       "      <td>- 0</td>\n",
       "      <td>- 0</td>\n",
       "      <td>- 0</td>\n",
       "    </tr>\n",
       "    <tr>\n",
       "      <th>3</th>\n",
       "      <td>2022.0</td>\n",
       "      <td>1.0</td>\n",
       "      <td>Chaco</td>\n",
       "      <td>7,580</td>\n",
       "      <td>- 0</td>\n",
       "      <td>225</td>\n",
       "      <td>111</td>\n",
       "      <td>234</td>\n",
       "      <td>2</td>\n",
       "      <td>- 0</td>\n",
       "      <td>...</td>\n",
       "      <td>- 0</td>\n",
       "      <td>- 0</td>\n",
       "      <td>- 0</td>\n",
       "      <td>- 0</td>\n",
       "      <td>- 0</td>\n",
       "      <td>- 0</td>\n",
       "      <td>- 0</td>\n",
       "      <td>- 0</td>\n",
       "      <td>- 0</td>\n",
       "      <td>- 0</td>\n",
       "    </tr>\n",
       "    <tr>\n",
       "      <th>4</th>\n",
       "      <td>2022.0</td>\n",
       "      <td>1.0</td>\n",
       "      <td>Chubut</td>\n",
       "      <td>15,607</td>\n",
       "      <td>8</td>\n",
       "      <td>- 0</td>\n",
       "      <td>- 0</td>\n",
       "      <td>73</td>\n",
       "      <td>32</td>\n",
       "      <td>1,069</td>\n",
       "      <td>...</td>\n",
       "      <td>- 0</td>\n",
       "      <td>- 0</td>\n",
       "      <td>- 0</td>\n",
       "      <td>- 0</td>\n",
       "      <td>- 0</td>\n",
       "      <td>- 0</td>\n",
       "      <td>- 0</td>\n",
       "      <td>- 0</td>\n",
       "      <td>- 0</td>\n",
       "      <td>- 0</td>\n",
       "    </tr>\n",
       "  </tbody>\n",
       "</table>\n",
       "<p>5 rows × 97 columns</p>\n",
       "</div>"
      ],
      "text/plain": [
       "      Año  Trimestre        Provincia   Otros 0,256 Mbps 0,375 Mbps  \\\n",
       "0  2022.0        1.0     Buenos Aires  26,280         19        - 0   \n",
       "1  2022.0        1.0  Capital Federal   1,717         31        - 0   \n",
       "2  2022.0        1.0        Catamarca   2,207        - 0        - 0   \n",
       "3  2022.0        1.0            Chaco   7,580        - 0        225   \n",
       "4  2022.0        1.0           Chubut  15,607          8        - 0   \n",
       "\n",
       "  0,625 Mbps 0,5 Mbps 0,512 Mbps 0,75 Mbps  ... 70 Mbps 71 Mbps  75 Mbps  \\\n",
       "0        - 0   31,380        192     5,958  ...   3,163     - 0  100,884   \n",
       "1        - 0      461         35     1,407  ...       3     - 0   31,684   \n",
       "2        - 0       34         37       - 0  ...     - 0     - 0      - 0   \n",
       "3        111      234          2       - 0  ...     - 0     - 0      - 0   \n",
       "4        - 0       73         32     1,069  ...     - 0     - 0      - 0   \n",
       "\n",
       "  77 Mbps 78 Mbps 80 Mbps 81 Mbps 83 Mbps 82 Mbps 86 Mbps  \n",
       "0     - 0       4     212     - 0       2     - 0     - 0  \n",
       "1     - 0     - 0       8     - 0     - 0     - 0     - 0  \n",
       "2     - 0     - 0     - 0     - 0     - 0     - 0     - 0  \n",
       "3     - 0     - 0     - 0     - 0     - 0     - 0     - 0  \n",
       "4     - 0     - 0     - 0     - 0     - 0     - 0     - 0  \n",
       "\n",
       "[5 rows x 97 columns]"
      ]
     },
     "execution_count": 395,
     "metadata": {},
     "output_type": "execute_result"
    }
   ],
   "source": [
    "acc_velyprov.head()\n"
   ]
  },
  {
   "cell_type": "code",
   "execution_count": 396,
   "metadata": {},
   "outputs": [
    {
     "name": "stdout",
     "output_type": "stream",
     "text": [
      "<class 'pandas.core.frame.DataFrame'>\n",
      "RangeIndex: 433 entries, 0 to 432\n",
      "Data columns (total 97 columns):\n",
      " #   Column      Non-Null Count  Dtype  \n",
      "---  ------      --------------  -----  \n",
      " 0   Año         432 non-null    float64\n",
      " 1   Trimestre   432 non-null    float64\n",
      " 2   Provincia   432 non-null    object \n",
      " 3   Otros       432 non-null    object \n",
      " 4   0,256 Mbps  432 non-null    object \n",
      " 5   0,375 Mbps  432 non-null    object \n",
      " 6   0,625 Mbps  432 non-null    object \n",
      " 7   0,5 Mbps    432 non-null    object \n",
      " 8   0,512 Mbps  432 non-null    object \n",
      " 9   0,75 Mbps   432 non-null    object \n",
      " 10  1 Mbps      432 non-null    object \n",
      " 11  1,2 Mbps    432 non-null    object \n",
      " 12  1,25 Mbps   432 non-null    object \n",
      " 13  1,5 Mbps    432 non-null    object \n",
      " 14  2 Mbps      432 non-null    object \n",
      " 15  2,2 Mbps    432 non-null    object \n",
      " 16  2,5 Mbps    433 non-null    object \n",
      " 17  6,7 Mbps    432 non-null    object \n",
      " 18  3 Mbps      432 non-null    object \n",
      " 19  3,2 Mbps    432 non-null    object \n",
      " 20  3,3 Mbps    432 non-null    object \n",
      " 21  3,5 Mbps    432 non-null    object \n",
      " 22  4 Mbps      432 non-null    object \n",
      " 23  4,5 Mbps    432 non-null    object \n",
      " 24  5 Mbps      432 non-null    object \n",
      " 25  6 Mbps      432 non-null    object \n",
      " 26  6,4 Mbps    432 non-null    object \n",
      " 27  7 Mbps      432 non-null    object \n",
      " 28  7,5 Mbps    432 non-null    object \n",
      " 29  8 Mbps      432 non-null    object \n",
      " 30  9 Mbps      432 non-null    object \n",
      " 31  10 Mbps     432 non-null    object \n",
      " 32  10,6 Mbps   432 non-null    object \n",
      " 33  11 Mbps     432 non-null    object \n",
      " 34  12 Mbps     432 non-null    object \n",
      " 35  13 Mbps     432 non-null    object \n",
      " 36  14 Mbps     432 non-null    object \n",
      " 37  15 Mbps     432 non-null    object \n",
      " 38  16 Mbps     432 non-null    object \n",
      " 39  17 Mbps     432 non-null    object \n",
      " 40  18 Mbps     432 non-null    object \n",
      " 41  19 Mbps     432 non-null    object \n",
      " 42  20 Mbps     432 non-null    object \n",
      " 43  21 Mbps     432 non-null    object \n",
      " 44  22 Mbps     432 non-null    object \n",
      " 45  23 Mbps     432 non-null    object \n",
      " 46  24 Mbps     432 non-null    object \n",
      " 47  25 Mbps     432 non-null    object \n",
      " 48  25,1 Mbps   432 non-null    object \n",
      " 49  25,11 Mbps  432 non-null    object \n",
      " 50  25,5 Mbps   432 non-null    object \n",
      " 51  26 Mbps     432 non-null    object \n",
      " 52  28 Mbps     432 non-null    object \n",
      " 53  29 Mbps     432 non-null    object \n",
      " 54  30 Mbps     432 non-null    object \n",
      " 55  31 Mbps     432 non-null    object \n",
      " 56  32 Mbps     432 non-null    object \n",
      " 57  34 Mbps     432 non-null    object \n",
      " 58  35 Mbps     432 non-null    object \n",
      " 59  36 Mbps     432 non-null    object \n",
      " 60  37 Mbps     432 non-null    object \n",
      " 61  38 Mbps     432 non-null    object \n",
      " 62  39 Mbps     432 non-null    object \n",
      " 63  40 Mbps     432 non-null    object \n",
      " 64  41 Mbps     432 non-null    object \n",
      " 65  45 Mbps     432 non-null    object \n",
      " 66  46 Mbps     432 non-null    object \n",
      " 67  47 Mbps     432 non-null    object \n",
      " 68  48 Mbps     432 non-null    object \n",
      " 69  49 Mbps     432 non-null    object \n",
      " 70  50 Mbps     432 non-null    object \n",
      " 71  51 Mbps     432 non-null    object \n",
      " 72  52 Mbps     432 non-null    object \n",
      " 73  54 Mbps     432 non-null    object \n",
      " 74  55 Mbps     432 non-null    object \n",
      " 75  56 Mbps     432 non-null    object \n",
      " 76  58 Mbps     432 non-null    object \n",
      " 77  59 Mbps     432 non-null    object \n",
      " 78  60 Mbps     432 non-null    object \n",
      " 79  61 Mbps     432 non-null    object \n",
      " 80  62 Mbps     432 non-null    object \n",
      " 81  63 Mbps     432 non-null    object \n",
      " 82  64 Mbps     432 non-null    object \n",
      " 83  65 Mbps     432 non-null    object \n",
      " 84  66 Mbps     432 non-null    object \n",
      " 85  67 Mbps     432 non-null    object \n",
      " 86  68 Mbps     432 non-null    object \n",
      " 87  70 Mbps     432 non-null    object \n",
      " 88  71 Mbps     432 non-null    object \n",
      " 89  75 Mbps     432 non-null    object \n",
      " 90  77 Mbps     432 non-null    object \n",
      " 91  78 Mbps     432 non-null    object \n",
      " 92  80 Mbps     432 non-null    object \n",
      " 93  81 Mbps     432 non-null    object \n",
      " 94  83 Mbps     432 non-null    object \n",
      " 95  82 Mbps     432 non-null    object \n",
      " 96  86 Mbps     432 non-null    object \n",
      "dtypes: float64(2), object(95)\n",
      "memory usage: 328.3+ KB\n"
     ]
    }
   ],
   "source": [
    "acc_velyprov.info()"
   ]
  },
  {
   "cell_type": "code",
   "execution_count": 397,
   "metadata": {},
   "outputs": [
    {
     "data": {
      "text/plain": [
       "<AxesSubplot: >"
      ]
     },
     "execution_count": 397,
     "metadata": {},
     "output_type": "execute_result"
    },
    {
     "data": {
      "image/png": "[encoded data removed]",
      "text/plain": [
       "<Figure size 640x480 with 2 Axes>"
      ]
     },
     "metadata": {},
     "output_type": "display_data"
    }
   ],
   "source": [
    "sns.heatmap(acc_velyprov.isnull())"
   ]
  },
  {
   "attachments": {},
   "cell_type": "markdown",
   "metadata": {},
   "source": [
    "Vamos a analizar individualmente los valores de las columnas con la finalidad de entender mejor su contenido y para detectar si hay errores evidentes de carga."
   ]
  },
  {
   "cell_type": "code",
   "execution_count": 398,
   "metadata": {},
   "outputs": [
    {
     "data": {
      "text/plain": [
       "array([2022., 2021., 2020., 2019., 2018., 2017.,   nan])"
      ]
     },
     "execution_count": 398,
     "metadata": {},
     "output_type": "execute_result"
    }
   ],
   "source": [
    "acc_velyprov['Año'].unique() # Apreciamos que los datos van del año 2017 al 2022 y también nan."
   ]
  },
  {
   "cell_type": "code",
   "execution_count": 399,
   "metadata": {},
   "outputs": [
    {
     "data": {
      "text/plain": [
       "array([ 1.,  4.,  3.,  2., nan])"
      ]
     },
     "execution_count": 399,
     "metadata": {},
     "output_type": "execute_result"
    }
   ],
   "source": [
    "acc_velyprov['Trimestre'].unique() # se aplica a los cuatro trimestres del año y también nan"
   ]
  },
  {
   "cell_type": "code",
   "execution_count": 400,
   "metadata": {},
   "outputs": [
    {
     "data": {
      "text/plain": [
       "array(['Buenos Aires', 'Capital Federal', 'Catamarca', 'Chaco', 'Chubut',\n",
       "       'Córdoba', 'Corrientes', 'Entre Ríos', 'Formosa', 'Jujuy',\n",
       "       'La Pampa', 'La Rioja', 'Mendoza', 'Misiones', 'Neuquén',\n",
       "       'Río Negro', 'Salta', 'San Juan', 'San Luis', 'Santa Cruz',\n",
       "       'Santa Fe', 'Santiago Del Estero', 'Tierra Del Fuego', 'Tucumán',\n",
       "       nan], dtype=object)"
      ]
     },
     "execution_count": 400,
     "metadata": {},
     "output_type": "execute_result"
    }
   ],
   "source": [
    "acc_velyprov['Provincia'].unique() # abarca las 23 provincias y el distrito federal, es decir la totalidad de argentina."
   ]
  },
  {
   "attachments": {},
   "cell_type": "markdown",
   "metadata": {},
   "source": [
    "**III.-Acceso a Internet Fijo por rangos de velocidad de bajada y provincia.**"
   ]
  },
  {
   "attachments": {},
   "cell_type": "markdown",
   "metadata": {},
   "source": [
    "Apreciamos que contiene 792 filas, 12 columnas, 9 numéricas, 1 string (provincia) y 2 que se refieren a fechas que  probablemente sea necesario vincularlas a un calendario en Powerby. Además,  las columnas numéricas tiene los miles marcados con '.' los que se reemplazaran en forma conjunta con la incorporación de los datos. No vemos valores faltantes.\n",
    "\n",
    "Nos brinda información concerniente a la calidad de los accesos a internet teniendo en cuenta el año, trimestre y provincia y por lo tanto permite ver su evolucion en el tiempo y como se compone la potencia del mismo en cada provincia. \n",
    "\n",
    "Los mencionados datos puede permitir inferir si un determinado servicio de internet va a tener menor o mayor aceptación teniendo en cuenta la calidad del mismo."
   ]
  },
  {
   "cell_type": "code",
   "execution_count": 401,
   "metadata": {},
   "outputs": [
    {
     "data": {
      "text/html": [
       "<div>\n",
       "<style scoped>\n",
       "    .dataframe tbody tr th:only-of-type {\n",
       "        vertical-align: middle;\n",
       "    }\n",
       "\n",
       "    .dataframe tbody tr th {\n",
       "        vertical-align: top;\n",
       "    }\n",
       "\n",
       "    .dataframe thead th {\n",
       "        text-align: right;\n",
       "    }\n",
       "</style>\n",
       "<table border=\"1\" class=\"dataframe\">\n",
       "  <thead>\n",
       "    <tr style=\"text-align: right;\">\n",
       "      <th></th>\n",
       "      <th>Año</th>\n",
       "      <th>Trimestre</th>\n",
       "      <th>Provincia</th>\n",
       "      <th>HASTA 512 kbps</th>\n",
       "      <th>+ 512 Kbps - 1 Mbps</th>\n",
       "      <th>+ 1 Mbps - 6 Mbps</th>\n",
       "      <th>+ 6 Mbps - 10 Mbps</th>\n",
       "      <th>+ 10 Mbps - 20 Mbps</th>\n",
       "      <th>+ 20 Mbps - 30 Mbps</th>\n",
       "      <th>+ 30 Mbps</th>\n",
       "      <th>OTROS</th>\n",
       "      <th>Total</th>\n",
       "    </tr>\n",
       "  </thead>\n",
       "  <tbody>\n",
       "    <tr>\n",
       "      <th>0</th>\n",
       "      <td>2022</td>\n",
       "      <td>1</td>\n",
       "      <td>Buenos Aires</td>\n",
       "      <td>31591</td>\n",
       "      <td>30056</td>\n",
       "      <td>313382</td>\n",
       "      <td>321756</td>\n",
       "      <td>290127</td>\n",
       "      <td>161183</td>\n",
       "      <td>3381049</td>\n",
       "      <td>26280.0</td>\n",
       "      <td>4555424</td>\n",
       "    </tr>\n",
       "    <tr>\n",
       "      <th>1</th>\n",
       "      <td>2022</td>\n",
       "      <td>1</td>\n",
       "      <td>Capital Federal</td>\n",
       "      <td>527</td>\n",
       "      <td>5575</td>\n",
       "      <td>39918</td>\n",
       "      <td>77390</td>\n",
       "      <td>61053</td>\n",
       "      <td>43289</td>\n",
       "      <td>1188072</td>\n",
       "      <td>1717.0</td>\n",
       "      <td>1417541</td>\n",
       "    </tr>\n",
       "    <tr>\n",
       "      <th>2</th>\n",
       "      <td>2022</td>\n",
       "      <td>1</td>\n",
       "      <td>Catamarca</td>\n",
       "      <td>71</td>\n",
       "      <td>456</td>\n",
       "      <td>4386</td>\n",
       "      <td>7009</td>\n",
       "      <td>8773</td>\n",
       "      <td>3761</td>\n",
       "      <td>35715</td>\n",
       "      <td>2207.0</td>\n",
       "      <td>62378</td>\n",
       "    </tr>\n",
       "    <tr>\n",
       "      <th>3</th>\n",
       "      <td>2022</td>\n",
       "      <td>1</td>\n",
       "      <td>Chaco</td>\n",
       "      <td>461</td>\n",
       "      <td>1099</td>\n",
       "      <td>16888</td>\n",
       "      <td>21235</td>\n",
       "      <td>20898</td>\n",
       "      <td>13012</td>\n",
       "      <td>62946</td>\n",
       "      <td>7580.0</td>\n",
       "      <td>144119</td>\n",
       "    </tr>\n",
       "    <tr>\n",
       "      <th>4</th>\n",
       "      <td>2022</td>\n",
       "      <td>1</td>\n",
       "      <td>Chubut</td>\n",
       "      <td>113</td>\n",
       "      <td>1677</td>\n",
       "      <td>61369</td>\n",
       "      <td>31856</td>\n",
       "      <td>33080</td>\n",
       "      <td>13871</td>\n",
       "      <td>14055</td>\n",
       "      <td>15607.0</td>\n",
       "      <td>171628</td>\n",
       "    </tr>\n",
       "  </tbody>\n",
       "</table>\n",
       "</div>"
      ],
      "text/plain": [
       "    Año  Trimestre        Provincia  HASTA 512 kbps  + 512 Kbps - 1 Mbps  \\\n",
       "0  2022          1     Buenos Aires           31591                30056   \n",
       "1  2022          1  Capital Federal             527                 5575   \n",
       "2  2022          1        Catamarca              71                  456   \n",
       "3  2022          1            Chaco             461                 1099   \n",
       "4  2022          1           Chubut             113                 1677   \n",
       "\n",
       "   + 1 Mbps - 6 Mbps  + 6 Mbps - 10 Mbps  + 10 Mbps - 20 Mbps  \\\n",
       "0             313382              321756               290127   \n",
       "1              39918               77390                61053   \n",
       "2               4386                7009                 8773   \n",
       "3              16888               21235                20898   \n",
       "4              61369               31856                33080   \n",
       "\n",
       "   + 20 Mbps - 30 Mbps  + 30 Mbps    OTROS    Total  \n",
       "0               161183    3381049  26280.0  4555424  \n",
       "1                43289    1188072   1717.0  1417541  \n",
       "2                 3761      35715   2207.0    62378  \n",
       "3                13012      62946   7580.0   144119  \n",
       "4                13871      14055  15607.0   171628  "
      ]
     },
     "execution_count": 401,
     "metadata": {},
     "output_type": "execute_result"
    }
   ],
   "source": [
    "acc_ranvelyprov.head()\n"
   ]
  },
  {
   "cell_type": "code",
   "execution_count": 402,
   "metadata": {},
   "outputs": [
    {
     "name": "stdout",
     "output_type": "stream",
     "text": [
      "<class 'pandas.core.frame.DataFrame'>\n",
      "RangeIndex: 792 entries, 0 to 791\n",
      "Data columns (total 12 columns):\n",
      " #   Column               Non-Null Count  Dtype  \n",
      "---  ------               --------------  -----  \n",
      " 0   Año                  792 non-null    int64  \n",
      " 1   Trimestre            792 non-null    int64  \n",
      " 2   Provincia            792 non-null    object \n",
      " 3   HASTA 512 kbps       792 non-null    int64  \n",
      " 4   + 512 Kbps - 1 Mbps  792 non-null    int64  \n",
      " 5   + 1 Mbps - 6 Mbps    792 non-null    int64  \n",
      " 6   + 6 Mbps - 10 Mbps   792 non-null    int64  \n",
      " 7   + 10 Mbps - 20 Mbps  792 non-null    int64  \n",
      " 8   + 20 Mbps - 30 Mbps  792 non-null    int64  \n",
      " 9   + 30 Mbps            792 non-null    int64  \n",
      " 10  OTROS                786 non-null    float64\n",
      " 11  Total                792 non-null    int64  \n",
      "dtypes: float64(1), int64(10), object(1)\n",
      "memory usage: 74.4+ KB\n"
     ]
    }
   ],
   "source": [
    "acc_ranvelyprov.info()"
   ]
  },
  {
   "cell_type": "code",
   "execution_count": 403,
   "metadata": {},
   "outputs": [
    {
     "data": {
      "text/plain": [
       "<AxesSubplot: >"
      ]
     },
     "execution_count": 403,
     "metadata": {},
     "output_type": "execute_result"
    },
    {
     "data": {
      "image/png": "[encoded data removed]",
      "text/plain": [
       "<Figure size 640x480 with 2 Axes>"
      ]
     },
     "metadata": {},
     "output_type": "display_data"
    }
   ],
   "source": [
    "sns.heatmap(acc_ranvelyprov.isnull())"
   ]
  },
  {
   "attachments": {},
   "cell_type": "markdown",
   "metadata": {},
   "source": [
    "Vamos a analizar individualmente los valores de las columnas con la finalidad de entender mejor su contenido y para detectar si hay errores evidentes de carga."
   ]
  },
  {
   "cell_type": "code",
   "execution_count": 404,
   "metadata": {},
   "outputs": [
    {
     "data": {
      "text/plain": [
       "array([2022, 2021, 2020, 2019, 2018, 2017, 2016, 2015, 2014], dtype=int64)"
      ]
     },
     "execution_count": 404,
     "metadata": {},
     "output_type": "execute_result"
    }
   ],
   "source": [
    "acc_ranvelyprov['Año'].unique() # Apreciamos que los datos van del año 2014 al 2022."
   ]
  },
  {
   "cell_type": "code",
   "execution_count": 405,
   "metadata": {},
   "outputs": [
    {
     "data": {
      "text/plain": [
       "array([1, 4, 3, 2], dtype=int64)"
      ]
     },
     "execution_count": 405,
     "metadata": {},
     "output_type": "execute_result"
    }
   ],
   "source": [
    "acc_ranvelyprov['Trimestre'].unique() # se aplica a los cuatro trimestres del año."
   ]
  },
  {
   "cell_type": "code",
   "execution_count": 406,
   "metadata": {},
   "outputs": [
    {
     "data": {
      "text/plain": [
       "array(['Buenos Aires', 'Capital Federal', 'Catamarca', 'Chaco', 'Chubut',\n",
       "       'Córdoba', 'Corrientes', 'Entre Ríos', 'Formosa', 'Jujuy',\n",
       "       'La Pampa', 'La Rioja', 'Mendoza', 'Misiones', 'Neuquén',\n",
       "       'Río Negro', 'Salta', 'San Juan', 'San Luis', 'Santa Cruz',\n",
       "       'Santa Fe', 'Santiago Del Estero', 'Tierra Del Fuego', 'Tucumán'],\n",
       "      dtype=object)"
      ]
     },
     "execution_count": 406,
     "metadata": {},
     "output_type": "execute_result"
    }
   ],
   "source": [
    "acc_ranvelyprov['Provincia'].unique() # abarca las 23 provincias y el distrito federal, es decir la totalidad de argentina."
   ]
  },
  {
   "cell_type": "code",
   "execution_count": 407,
   "metadata": {},
   "outputs": [
    {
     "data": {
      "text/plain": [
       "array([ 31591,    527,     71,    461,    113,    100,     67,    107,\n",
       "           97,     58,    301,     18,    114,     51,    137,    116,\n",
       "           26,     61,    468,    178,     24,     39,  37821,    563,\n",
       "          126,     84,    156,    140,     44,     62,     52,    467,\n",
       "        37193,    295,    104,     99,    381,     48,    298,     36,\n",
       "          112,    125,    101,     60,     50,    123,     17,     32,\n",
       "        37192,    294,  36939,    135,    106,     93,    105,     56,\n",
       "           49,     28,    109,     25,    518,     29,    119,     47,\n",
       "        37542,    264,     63,    308,    158,    168,     72,    130,\n",
       "          391,     55,    293,     21,    218,    129,     66,    568,\n",
       "          133,     11,  38215,    142,   1127,    696,  33489,    307,\n",
       "           83,    746,    149,    698, 238920,     34,     69,     74,\n",
       "           10,     19,   1110,     27,    237,      9,     45,     22,\n",
       "           57,    640,      6,     16, 199768,     81,    236,     20,\n",
       "          302,    384,    321, 162513,   1328,    333, 134673,    241,\n",
       "          335,    991,     73,     70,    345,    242,   1396,    409,\n",
       "           41,   1009,    244,    744,   1514,     89,    281,    245,\n",
       "         1359,   3865,    314,    291,   1685,    310,   1053,    636,\n",
       "           59,     68,   3109,   6577,    283,     95,    436,    327,\n",
       "         1691,   1063,    337,    343,   1058,   2036,    422,    645,\n",
       "           31,    188,   3116,   7548,    556,     15,    191,    403,\n",
       "          251,   1680,   1486,    311,    356,   1011,   1542,    973,\n",
       "          594,      8,   4967,     96,   6017,    510,    401,   1535,\n",
       "          330,    362,   1010,   1547,    986,    579,    190,   4966,\n",
       "         6055,    517,   1573,    303,    368,   1539,    998,    577,\n",
       "          189,   5856,    331,    466,   1768,   1723,    286,    374,\n",
       "           37,   1531,   1007,   1107,      7,   3958,    127,  10786,\n",
       "         4352,    197,    572,    258,   4734,   1675,   2561,    429,\n",
       "          437,   1973,   1916,   1189,   2160,     12,   9486,    704,\n",
       "          231,   7351,   2310,    194,     94,    148,   2864,   1738,\n",
       "         2543,    426,    235,    959,   1720,   1171,   1119,   6492,\n",
       "          703,   7985,   2417,    625,   2865,   1791,   2551,    592,\n",
       "         1727,   3282,   1122,   6659,   8361,   2448,    240,    641,\n",
       "          150,     33,   2863,   1862,   2549,    613,    256,    958,\n",
       "         1733,   3372,   1126,   6767,   8714,   2493,    288,    656,\n",
       "         1881,   2479,   5737,    268,   1755,   3413,   1123,    210,\n",
       "         6827,   8882,   2545,     13,    651,    157,   2867,   1891,\n",
       "         2458,   6059,    287,   1895,   3371,    205,   6883,    701,\n",
       "           14,   8226,   2698,    483,   1858,   1903,     40,   2311,\n",
       "         1947,   1880,   6266,    547,   1731,   3640,     54,   8707,\n",
       "         1246,   7355,    840,    398,   2013,    660,   1709,   2001,\n",
       "         6458,     35,   1522,    732,    195,   8230,    791,   6902,\n",
       "          847,    412,   2064,   2105,   2187,   2032,   1873,   7032,\n",
       "          540,   3468,     53,    153,   8515,   1231,   8469,    852,\n",
       "          438,   7452,   2076,   2177,   2062,   1832,   7434,    545,\n",
       "         4133,   4670,    531,    161,   8456,   1234], dtype=int64)"
      ]
     },
     "execution_count": 407,
     "metadata": {},
     "output_type": "execute_result"
    }
   ],
   "source": [
    "acc_ranvelyprov['HASTA 512 kbps'].unique() "
   ]
  },
  {
   "cell_type": "code",
   "execution_count": 408,
   "metadata": {},
   "outputs": [
    {
     "data": {
      "text/plain": [
       "array([ 30056,   5575,    456,   1099,   1677,  12782,   4029,   5745,\n",
       "          448,   1761,   2223,    778,   3355,   3873,   1123,   1383,\n",
       "         1725,   2269,    643,   6898,  12435,   1401,    894,   2212,\n",
       "        11026,   1695,      0,    112,   1294,   2479,    645,   3024,\n",
       "          175,    493,      1,   1463,      5,    940,   1174,     20,\n",
       "         1442,    264,    297,    581,    909,    385,     97,  31149,\n",
       "          603,    105,   2452,    313,     31,    327,    557,    333,\n",
       "          579,  31178,    554,    896,  31187,    244,    109,   2386,\n",
       "          527,   2911,     40,    524,    466,    194,    891,  31197,\n",
       "          182,    514,  31514,    312,   3064,    151,    810,   1241,\n",
       "        31606,    928,   4383,   3679,   2061,   1779,  36802,   5128,\n",
       "         4081,    342,    811,     11,   2994,  27537,     15,      4,\n",
       "          191,      9,    908,  44648,    368,     43,   1216,    840,\n",
       "         5824,    597,   4446,    349,    885,   3289,     10,   1269,\n",
       "         1928,   2258,   1234,    900,    171,    100,     84,   8184,\n",
       "         1832,     14,    110,  46852,   1027,   3952,   8165,   3012,\n",
       "         5905,   2522,   2226,   3038,   1354,    974,    213,    102,\n",
       "         8427,    123,    157,  72296,   7417,   1708,   3801,   3938,\n",
       "        20403,   6470,   9217,   3023,   2817,   8327,   1169,   1786,\n",
       "         5946,   3055,   1583,   4232,    229,    120,    128,  29350,\n",
       "         3372,    131,   5188,  73761,   7388,   1669,   3405,   3917,\n",
       "        24102,   6438,   8769,   3074,   2803,   7727,   1164,   5981,\n",
       "         3044,   1225,   3659,   1465,    115,  31397,   3250,     27,\n",
       "         5244,  80459,   8493,   1994,   3503,   3951,  24767,   6754,\n",
       "         9048,   3365,   3020,   8417,   1291,   1525,   5749,   2244,\n",
       "         5221,   3721,   1326,    116,  36786,   2550,    187,   5993,\n",
       "        81354,   9234,   2414,   2968,   4471,  21779,   7047,   8179,\n",
       "         3568,   3320,   8797,   1384,   1658,   6092,   2408,   5298,\n",
       "         3990,   1378,    101,  34267,   2717,    188,   6735,  74766,\n",
       "        10039,   2896,   3261,   4314,  23922,   5005,   8861,   3803,\n",
       "         4807,   8119,   1485,   1662,   4700,   2367,   5333,   4459,\n",
       "         1058,  33639,   2910,    307,   7472,  55046,  31411,   3182,\n",
       "         3432,   4313,  25411,   5220,   9078,   4061,   5364,   8729,\n",
       "         1488,   1656,   3900,   2372,   5598,   4275,   1062,     78,\n",
       "        34132,   3091,    310,   8164,  51411,  33924,   3204,   3496,\n",
       "         3989,  26154,   5629,   7545,   3716,   5723,   8244,   1497,\n",
       "           95,   4123,   1457,   5641,   4494,   1077,      3,     23,\n",
       "        34019,   3288,   8948,  47472,  35663,   3318,   3733,   4186,\n",
       "        26862,   5912,   7944,   3419,   5877,   8633,   1554,     24,\n",
       "         4447,   1395,   5606,   4719,    193,  38721,   3539,    285,\n",
       "         9236,  83918,   1409,   3328,   3835,   4182,  28732,   6040,\n",
       "         8080,   3538,   6213,   9279,   1578,   4665,   1418,   5647,\n",
       "         4861,    192,  39463,   3772,   9682,  86281,   1477,   3478,\n",
       "         3983,   4493,  29380,   6109,   8253,   3519,   6225,   9789,\n",
       "         1646,     16,   4783,   1406,   2953,   5027,    220,  40102,\n",
       "         3925,  10021, 107945,    995,   4038,   5227,   5190,  41329,\n",
       "         7425,  10657,   4277,   6878,  10187,   2349,   6030,   1527,\n",
       "         6026,   6922,    245,     22,  49501,   5097,  12247, 133385,\n",
       "         1736,   5736,   8063,   5421,  57050,  10018,  16368,   5401,\n",
       "         8292,  10616,   3151,     30,   7899,   1691,   6107,  10123,\n",
       "          273,     26,  67325,   6705,    286,  18515,  97880,  43686,\n",
       "         6102,   8755,   5095,  59484,  10690,  17749,   5731,   8558,\n",
       "        11065,   3382,     21,   8502,   1737,   6105,  10765,    309,\n",
       "           29,  71565,   7219,  20092, 100303,  46568,   6513,   9593,\n",
       "         5774,  63746,  11248,  18883,   6081,   8876,  12951,   3638,\n",
       "         9169,   4473,  11387,    386,  75770,   7836,  21800, 107351,\n",
       "        49340,   6871,  10353,   5886,  68765,  11921,  20385,   6521,\n",
       "         9278,  13087,   3840,     25,   9809,   2124,   4457,  12223,\n",
       "          391,  80817,   8332,  23687, 137189,  51799,   7253,  11058,\n",
       "         6032,  72695,  12542,  21986,   6907,   9474,   8182,   4082,\n",
       "        10360,   2348,   4525,  13020,    410,  86016,   8779,  25178,\n",
       "       123589,  59084,   7634,  12053,   6176,  78427,  13295,  23951,\n",
       "         7336,   9754,   8054,   4201,  11136,   2577,   4913,  14151,\n",
       "          445,      8,  93096,    609,  27143, 132937,  62896,   8047,\n",
       "        12837,   6218,  85362,  13860,  27801,   7830,  10427,   6879,\n",
       "         4333,     19,  11840,   2744,   4723,  16214,    478,   1400,\n",
       "        99962,   8913,    283,  28746, 128187,  78016,   8845,  14731,\n",
       "         6281,  98992,  15448,  29710,   8323,  10979,   6645,   4785,\n",
       "        13637,   3099,   5189,  17481,    487,   1624, 112593,   9914,\n",
       "          336,  32716, 162274,  81431,   8844,  14854,   6582, 101598,\n",
       "        15563,  32781,   8218,  11233,   6761,      6,  13644,   3206,\n",
       "         5507,  18818,    507,   1637, 115197,    334,  32714, 171244,\n",
       "        88826,   9147,  15849, 107705,  16357,  35206,   8475,  11498,\n",
       "         6535,   5111,  14460,    987,   4618,  19677,      2,   1625,\n",
       "       124468,  10531,    607,  34672], dtype=int64)"
      ]
     },
     "execution_count": 408,
     "metadata": {},
     "output_type": "execute_result"
    }
   ],
   "source": [
    "acc_ranvelyprov['+ 512 Kbps - 1 Mbps'].unique() "
   ]
  },
  {
   "cell_type": "code",
   "execution_count": 409,
   "metadata": {},
   "outputs": [
    {
     "data": {
      "text/plain": [
       "array([ 313382,   39918,    4386,   16888,   61369,  165922,   24563,\n",
       "         50075,   24113,   22141,   62812,    3576,   51230,   35655,\n",
       "         39856,   35565,   35576,   32356,    8287,   12710,  143796,\n",
       "         30220,   12849,   36028,  352950,   47133,    6038,   18845,\n",
       "         63698,  184548,   28830,   56043,   22908,   22446,   64840,\n",
       "          5018,   66428,   41916,   42313,   38373,   40673,   28906,\n",
       "          8550,   20305,  169706,   31915,   13505,   37321, 1108940,\n",
       "        156978,    6755,   22545,   89168,  204989,   29629,   61354,\n",
       "         22778,   23884,   65063,    5366,  151871,   41932,   57441,\n",
       "         68991,   41431,   59873,   11552,   30561,  193207,   32752,\n",
       "         23723,   39446, 1096049,  157558,    7219,   23444,   89639,\n",
       "        201757,   29419,   63518,   22364,   24182,   64146,    5312,\n",
       "        137462,   41643,   57713,   69356,   42543,   59989,   11752,\n",
       "         30595,  202018,   32034,   21335,   40224, 1108368,  159662,\n",
       "          7423,   24357,   86986,  211799,   31544,   67255,   22409,\n",
       "         23735,   68200,   36749,  134386,   40949,   56171,   70011,\n",
       "         40785,   60439,   11889,   30655,  201632,   33884,   21379,\n",
       "         42810, 1109865,  160210,    8843,   24782,   88157,  214963,\n",
       "         31900,   65659,   23540,   23772,   70184,   36906,  146312,\n",
       "         39988,   56434,   70305,   41443,   61316,   14020,   27173,\n",
       "        206372,   34518,   21881,   44095, 1113823,  162222,    8276,\n",
       "         24675,   87559,  218599,   35190,   66648,   23163,   32131,\n",
       "         66695,   37105,  141404,   39005,   60463,   68986,   32780,\n",
       "         65526,   12199,   26888,  213353,   33287,   22094,   45913,\n",
       "       1129236,  166474,    8801,   24350,   69578,  219025,   34242,\n",
       "         66758,   23534,   30548,   71218,   37375,  142253,   39867,\n",
       "         61171,   70817,   41801,   59113,   11439,   26938,  213054,\n",
       "         32557,   22325,   49028, 1122034,  169651,    8838,   23291,\n",
       "         69586,  217229,   33479,   72280,   23761,   33120,   72740,\n",
       "         37209,  140410,   36622,   60152,   69154,   38537,   59787,\n",
       "         11322,   27447,  217553,   33086,   22976,   49555, 1177446,\n",
       "        177098,    9945,   25899,   69405,  232781,   35055,   88203,\n",
       "         24606,   32920,   76747,   37851,  145139,   39664,   57742,\n",
       "         71847,   42159,   60626,   11901,   32368,  230234,   34911,\n",
       "         23593,   54544, 1432722,  269704,   14449,   32764,   62680,\n",
       "        240151,   42231,   99656,   24943,   31722,   75849,   38657,\n",
       "        206821,   43530,   62909,   87435,   43160,   68315,   18643,\n",
       "         31612,  242454,   35554,   32133,   71043, 1436259,  281370,\n",
       "         16631,   38488,   69032,  248427,   40424,  100687,   26512,\n",
       "         26233,   75406,   39819,  205165,   45769,   61776,   86366,\n",
       "         59638,   60913,   16575,   24861,  300124,   63268,   41824,\n",
       "         78891, 1429964,  283787,   18761,   38719,   71077,  242769,\n",
       "         38402,  107013,   23085,   30727,   70538,   40285,  205383,\n",
       "         45266,   52360,   84845,   59244,   62380,   21380,   21990,\n",
       "        296798,   62895,   38851,   82240, 1422463,  283281,   17955,\n",
       "         38707,   66061,  228475,   37406,   94780,   23050,   70508,\n",
       "        198598,   45566,   52313,   83412,   58495,   59811,   19164,\n",
       "         23107,  276301,   61347,   35765,   82089, 1445733,  287919,\n",
       "         18475,   38729,   91096,  224471,   38364,   96095,   22624,\n",
       "         29048,   68507,   40647,  199297,   39617,   55822,   75929,\n",
       "         61795,   62525,   19170,   32815,  269211,   60260,   41569,\n",
       "         81559, 1459443,  290291,   14624,   34167,   85598,  219630,\n",
       "         38268,   94459,   29319,   68083,   40679,  164596,   39489,\n",
       "         56035,   75056,   61763,   57591,   11992,   28600,  262603,\n",
       "         41362,   40912,   79899, 1445752,  292566,   14770,   32516,\n",
       "         83161,  222815,   37152,   90080,   10092,   27219,   67104,\n",
       "         40680,  164599,   35820,   59468,   74894,   60334,   57078,\n",
       "         11920,  262008,   41298,   33987,   78811, 1551194,  517018,\n",
       "         15315,   37144,   83676,  280837,   41080,   95466,   13220,\n",
       "         26566,   66053,   40777,  177646,   41723,   68036,   81078,\n",
       "         73284,   57525,   12822,   29073,  309998,   43544,   31334,\n",
       "         78750, 1733479,  590689,   15383,   40059,   71843,  309161,\n",
       "         44305,   98032,   13752,   26835,   64794,   40882,  158461,\n",
       "         42900,   72532,   83900,   78830,   57582,   12325,   29102,\n",
       "        320017,   40435,   33858,   83070, 1910156,  726223,   15655,\n",
       "         42590,   73760,  370865,   46483,  104422,   14787,   26915,\n",
       "         59045,    9304,  177203,   47244,   81272,   88085,   67576,\n",
       "         58588,   14014,   30913,  311830,   20384,   35409,   83342,\n",
       "       2057698,  678922,   15861,   44544,   73759,  391556,   48149,\n",
       "        108379,   15473,   27824,   57739,    9486,  177201,   45950,\n",
       "         83813,   89622,   70922,   31078,  340418,   21659,   86470,\n",
       "       2085605,  704324,   16519,   45634,   73951,  404645,   48995,\n",
       "        110296,   15791,   27778,   56694,    9635,  177194,   47454,\n",
       "         84859,   92967,   71636,   58608,   31369,  349722,   22246,\n",
       "         87994, 2148475,  759028,   16183,   46821,   74375,  415075,\n",
       "         49471,  110844,   15581,   27425,   55792,    9686,  178186,\n",
       "         48871,   87404,   90689,   71214,   58577,   14077,   31904,\n",
       "        360606,   22747,   35080,   87970, 2250898,  859039,   14742,\n",
       "         45823,   73078,  437547,   47916,  115000,   14370,   25301,\n",
       "         63928,    9043,  176922,   49586,   88854,   92158,   70875,\n",
       "         57589,   13931,   31995,  374960,   22208,   38773,   83945,\n",
       "       2214760,  869048,   14653,   46304,   72396,  414452,   47833,\n",
       "        104137,   14163,   22383,   52117,    9060,  175376,   50061,\n",
       "         86310,   90038,   65646,   56447,   13645,   32188,  353525,\n",
       "         22805,   33003,   84008, 2253197,  916813,   14484,   46771,\n",
       "         71881,  427471,   48104,  104224,   14279,   21867,   48798,\n",
       "          9127,  174719,   51029,   89678,   89062,   65677,   55761,\n",
       "         13473,   32338,  361264,   23074,   32662,   83887, 2266948,\n",
       "        942525,   14206,   47131,   71668,  429787,   48127,  103990,\n",
       "         14354,   21588,   47660,    9102,  173430,   51234,   85044,\n",
       "         88691,   65405,   54963,   13286,   32266,  363177,   23158,\n",
       "         36408,   83654, 2299705,  990112,   14003,   47551,   55791,\n",
       "        434717,   48015,  104043,   14247,   20248,   46235,    9093,\n",
       "        170451,   51671,   82727,   87362,   64737,   51568,   13204,\n",
       "         25519,  364441,   23456,   36073,   83462, 2267852, 1013510,\n",
       "         13754,   47425,   57333,  432802,   47842,  104168,   14413,\n",
       "         19858,   45038,    9379,  169763,   51906,   80787,   86173,\n",
       "         64992,   51346,   12720,   26048,  360964,   23136,   36319,\n",
       "         83895, 2250445, 1038269,   14093,   42106,   60392,  427844,\n",
       "         42182,   88649,   14058,   19740,   36520,    9728,  169222,\n",
       "         53093,   80938,   85094,   63221,   51628,   13135,   24145,\n",
       "        359293,   24181,   31489,   85091, 2281524, 1060145,   13790,\n",
       "         41934,   60771,  435692,   41717,   91450,   14202,   20216,\n",
       "         41009,    9720,  167763,   53510,   80090,   86868,   66026,\n",
       "         51276,   13029,   24248,  357615,   23826,   32348,   84668,\n",
       "       2288772, 1078213,   13794,   41530,   61868,  429536,   41219,\n",
       "         86757,   13944,   18851,   34089,    9719,  166710,   53245,\n",
       "         79087,   84978,   64440,   51129,   13045,   25374,  353559,\n",
       "         23842,   31198,   84675, 2279875, 1096050,   13330,   40869,\n",
       "         61329,  423114,   40742,   85248,   13685,   18415,   32501,\n",
       "          9390,  166655,   52852,   77148,   84304,   64061,   51056,\n",
       "         12544,   24972,  345225,   22817,   30902,   83210], dtype=int64)"
      ]
     },
     "execution_count": 409,
     "metadata": {},
     "output_type": "execute_result"
    }
   ],
   "source": [
    "acc_ranvelyprov['+ 1 Mbps - 6 Mbps'].unique() "
   ]
  },
  {
   "cell_type": "code",
   "execution_count": 410,
   "metadata": {},
   "outputs": [
    {
     "data": {
      "text/plain": [
       "array([321756,  77390,   7009,  21235,  31856, 126009,  25665,  49620,\n",
       "         6945,  16321,   9869,   4692,  26407,  22261,  15623,  18859,\n",
       "        68246,  11914,   3837,  11502, 208361,  61170,  15640,  46961,\n",
       "       331292,  81899,   7855,  22678,  39568, 130892,  26368,  49636,\n",
       "         6983,  16793,   9082,   5437,  30308,  23554,  13264,  19878,\n",
       "        69324,  10955,   4276,  11641, 206856,  61524,  16534,  48736,\n",
       "       248153,  67013,   8428,  20986,  26281, 141285,  28478,  59776,\n",
       "         7142,  16417,   7395,   5979,  12640,  25099,   8566,   3730,\n",
       "        70104,    752,   2405,   8365, 201250,  61838,  13397,  50293,\n",
       "       244001,  73568,   9091,  21574,  22605, 136516,  27037,  55349,\n",
       "         7310,  16577,   7769,   5971,  10886,  25907,   8631,   3663,\n",
       "        67012,    784,   2703,   8463, 204077,  62224,   6913,  51648,\n",
       "       240520,  76753,   8455,  22102,  21401, 135092,  26223,  56060,\n",
       "         7569,  17293,   7864,   5968,  11216,  25503,   8443,   4187,\n",
       "        68149,    858,   2926,   8334, 204458,  58464,   1468,  53416,\n",
       "       242243,  78123,   8740,  22479,  21824, 135262,  26321,  53556,\n",
       "         7606,  14379,   8124,   6060,  11172,  26078,   8478,   4153,\n",
       "        68829,    740,   3490,   4382, 203793,  57590,   6119,  54334,\n",
       "       234710,  85083,   8768,  21639,  22114, 124833,  23315,  51478,\n",
       "         7432,  10566,   7820,   5955,  12123,  24215,   6561,   3769,\n",
       "        64736,    711,   3351,   4015, 199381,  57418,   5414,  54610,\n",
       "       241336,  94585,   8690,  21140,  22188, 125932,  22845,  50640,\n",
       "         7109,  10519,   7531,   5661,  12439,  23719,   6103,   3335,\n",
       "        64463,    917,   3585,   4166, 198772,  57709,   5186,  54537,\n",
       "       236421, 102254,   7543,  19976,  12957, 120188,  21382,  47132,\n",
       "         6500,   9979,   7199,   5158,  12285,  21271,   5257,   2930,\n",
       "        63714,   1594,   4164,   4993, 196826,  56884,   5024,  50383,\n",
       "       262297, 110218,   7619,  18959,  12945, 118232,  20620,  44511,\n",
       "         6319,   9632,   6900,   5045,  12955,  20840,   4439,   2797,\n",
       "        67656,   4346, 190664,  56309,   5050,  52017, 222812, 120924,\n",
       "         9285,  28198,  13033, 106651,  29628,  56161,   6049,   9240,\n",
       "         5922,   4786,   2958,  29375,   4586,   2348,  62230,   2245,\n",
       "         5113,   4472, 193286,  55172,  47693, 217785, 124087,   8670,\n",
       "        26431,  10049, 100512,  27774,  52316,   5399,   8441,   5191,\n",
       "         4297,   2971,  27385,   4688,   2201,  36923,   2177,   4964,\n",
       "         3806, 125176,  21362,   4241,  44296, 202511, 131007,   6443,\n",
       "        25632,   6571,  96997,  26562,  50068,   5301,   7811,   4466,\n",
       "         4088,   2837,  25890,   1781,   2037,  36473,    266,  53214,\n",
       "         2731, 122959,  20691,   3623,  42877, 194426, 143309,   6425,\n",
       "        25633,   6215,  97277,  50027,   5285,   3661,   2494,  26019,\n",
       "          643,  36365,    180,  53183,    779, 121009,  20127,   6323,\n",
       "        42766, 190805, 147253,   6358,  24916,   6162,  96372,  24953,\n",
       "        45651,   5259,   7756,   3153,   4138,   2476,  24747,   1647,\n",
       "          512,  32782,  52940,    778, 115907,  19116,   2270,  43282,\n",
       "       295457, 219166,   6112,  24282,   5369, 102596,  24066,  44570,\n",
       "         5176,   8083,   2409,   4198,    515,  23569,   1314,    523,\n",
       "        33285,     11,    655, 112143,  18721,   2217,  44968, 292732,\n",
       "       222737,   6145,  24488,   5358, 104300,  24038,  45599,   5117,\n",
       "         8044,   1616,   4217,    501,  23291,   1311,    530,  33088,\n",
       "       108576,  18914,      2,  45675, 264645, 284040,   5904,  24088,\n",
       "         5355, 102892,  23686,  45189,   4867,   7721,   1227,   4083,\n",
       "          438,  23131,   1325,    485,  32842,      9,      8, 108939,\n",
       "        18773,  45241, 311652, 311411,   5758,  23008,   2336, 100113,\n",
       "        22785,  42947,   5187,   7369,    855,   3899,    115,  22808,\n",
       "         1034,    306,  32433,      1,      7,    542, 104453,  18489,\n",
       "            0,  45302, 299009, 304970,   5325,  22349,   1880,  88479,\n",
       "        21776,  41800,   4795,   6974,    558,   3599,     92,  22033,\n",
       "          849,    245,  23185,    541,  92854,   6432,  42536, 402315,\n",
       "       218487,   4901,  21467,   1808,  82011,  20586,  39146,   4446,\n",
       "         6486,    331,   3409,     86,  23847,    902,    246,  21554,\n",
       "          474,  77152,   6218,  39155, 403575, 225723,   4889,  21323,\n",
       "         1352,  77966,  20187,  38491,   4114,   6143,     16,   3334,\n",
       "           79,  23433,    792,    248,  20787,    342,  74401,   6178,\n",
       "        37721, 393530, 208249,   4845,  21193,    674,  75988,  19956,\n",
       "        38665,   3964,   5943,     15,   3316,     73,  23394,    680,\n",
       "          207,  20229,    221,  72657,   6216,  36518, 335296, 146091,\n",
       "         4567,  20346,    775,  71980,  19200,  36917,   3569,   5589,\n",
       "         3190,     61,  21385,    583,    194,  18759,    142,  68505,\n",
       "        33891, 289929, 178665,  19388,   1066,  65763,  18375,  35104,\n",
       "         3229,   5188,   2980,     47,  19195,    479,    203,  17748,\n",
       "        64117,   5769,  31490, 274560, 172029,   4106,  18608,    168,\n",
       "        62989,  17877,  33989,   2704,   5044,   2937,     38,  17281,\n",
       "          455,    201,  17139,      3,  60985,   5669,  29942, 262564,\n",
       "       159618,   4143,  19016,    167,  61109,  18168,  34788,   2791,\n",
       "         5169,   2984,     45,  17367,    210,     99,  17451,  59531,\n",
       "         5956,  29998, 243503, 148569,   3776,  17675,  54993,  17184,\n",
       "        32293,   2436,   4792,     27,   2680,     42,  15022,    214,\n",
       "           97,  16241,  53205,   5553,  26966, 220070, 134151,   3202,\n",
       "        15883,    102,  46574,  15554,  28113,   2024,   3939,     26,\n",
       "         2207,  12387,    170,     94,  13955,  45270,   4796,  23061,\n",
       "       203620, 123451,   2910,   7908,     70,  41947,   7513,  18318,\n",
       "         1852,   3443,   1943,     36,   8731,    126,  12552,  36718,\n",
       "         4359,  20631, 156693, 102170,   1915,   5428,     34,  28992,\n",
       "         5181,  12569,   1324,   2305,     24,   1337,     31,   5928,\n",
       "          107,     87,   8314,  23962,   2867,  14101, 140226,  87359,\n",
       "         5418,  28698,   5199,  12564,   1321,     18,   5924,     78,\n",
       "         8293,  23939, 121787,  70293,   1672,   4644,  24112,   4486,\n",
       "        10828,   1133,   2002,     17,   1165,     19,   5139,     84,\n",
       "         7192,  20328,   2422,      6,  11779], dtype=int64)"
      ]
     },
     "execution_count": 410,
     "metadata": {},
     "output_type": "execute_result"
    }
   ],
   "source": [
    "acc_ranvelyprov['+ 6 Mbps - 10 Mbps'].unique() "
   ]
  },
  {
   "cell_type": "code",
   "execution_count": 411,
   "metadata": {},
   "outputs": [
    {
     "data": {
      "text/plain": [
       "array([290127,  61053,   8773,  20898,  33080,  73967,  27077,  42294,\n",
       "         6613,  37923,  12044,  23624,  74178,  26855,  11163,  26926,\n",
       "         6313,  25144,   9802,  12277,  84787,  13542,  18034,  21014,\n",
       "       297296,  66135,   9804,  21937,  31175,  76246,  22922,  38295,\n",
       "         6811,  38134,  12259,  23559,  75214,  26721,  10515,  31255,\n",
       "         6642,  23978,   9107,  13054,  85690,  12205,  16562,  21023,\n",
       "       141383,  39785,  10517,  23852,  18538,  65050,  24792,  39114,\n",
       "         6978,  37755,   8737,  23315,  62628,  26079,   6234,  14880,\n",
       "         6962,  13250,   6491,   6799,  83941,  11274,   9782,  21986,\n",
       "       140322,  43859,   6828,  24032,  16604,  66950,  24524,  39468,\n",
       "         7460,  37908,   8128,  23298,  56117,  25811,   5871,  15019,\n",
       "         7099,  12550,   5418,   6888,  80452,  10359,   4580,  23732,\n",
       "       163747,  56457,  10115,  27556,  15392,  74659,  26169,  42432,\n",
       "         7916,  40649,   7611,   4604,  52533,  27101,   5903,  13045,\n",
       "         9164,  11494,   4429,   6987,  91846,   8549,   4317,  25255,\n",
       "       214171,  60208,  11436,  26802,  12046,  82221,  25687,  40755,\n",
       "         7181,  44930,   6562,   4633,  40396,  26445,   5791,  13131,\n",
       "        15188,   5126,   2688,   6634,  94246,   4666,   3497,  32155,\n",
       "       219772,  68753,  11195,  27546,  12217,  84236,  25308,  40797,\n",
       "         7125,  45198,   5577,   4660,  42433,  25942,   5975,   7096,\n",
       "        15990,   6529,   2666,   6730,  92095,   4658,   3726,  33126,\n",
       "       233132,  79858,  10242,  29044,  10537,  89530,  25844,  42090,\n",
       "         6998,  26829,   3800,   4686,  35274,   6625,   7498,  16989,\n",
       "         4908,   1934,   6541,  96575,   5178,   3034,  34184, 247977,\n",
       "        89665,   9558,  29851,   7756,  95827,  26679,  41125,   6564,\n",
       "        26693,   3029,   4640,  17489,  26433,   7123,   7857,  17991,\n",
       "         1292,    525,   5169, 104560,   3737,   1834,  31096, 247106,\n",
       "       110852,   9305,  30902,   7615, 109330,  27367,  42962,   6788,\n",
       "        26764,   1951,   4763,  15237,  27305,   7357,   8558,  15369,\n",
       "         2224, 113527,   3756,   1848,  28916, 260506, 138011,   6333,\n",
       "        13336,   7171, 118486,  10348,  17064,   7117,  26835,   1611,\n",
       "         4887,  10093,  11256,   9597,   9779,  14309,   1267,    467,\n",
       "         1203, 107068,   3612,   1756,  24354, 438663, 239691,   6049,\n",
       "        16789,   1495, 157458,  13114,  23196,   8384,  26700,   1366,\n",
       "         4857,  10092,  15408,  17318,  10291,  16961,    785,   1202,\n",
       "       129741,   3741,   1573,  24291, 576428, 330122,   5606,  18965,\n",
       "          787, 200681,  15498,  28957,   9027,   4021,   1061,   5216,\n",
       "         5702,  19111,  21452,  13615,  22910,    520,    345,    702,\n",
       "       153212,   3959,    641,  26210, 577679, 330496,   5461,    531,\n",
       "       201639,  29002,    978,   4726,  19226,  13440,    312,    119,\n",
       "          206, 152039,   3686,   9894,  26111, 636090, 370677,   5320,\n",
       "        20335, 221984,  16601,  31353,   9336,   4066,    920,   5425,\n",
       "         4727,  21212,  23785,  14912,  25582, 162545,   3806,    231,\n",
       "        27062, 816056, 445345,   4347,  21887,      4, 244291,  17926,\n",
       "        34281,   9727,   3977,    965,   5640,    266,  23747,  26417,\n",
       "        16480,  28431,      0,    100, 175540,   3278,     75,  27059,\n",
       "       886678, 487826,   3539,  23296, 266259,  19068,  37401,  10061,\n",
       "         3925,   1076,   5831,  26223,  29012,  17997,  30771, 188900,\n",
       "         3449,  26405, 712513, 458120,   2927,  20123,      7, 217602,\n",
       "        16046,  30010,   6996,   3507,    792,   5813,    278,  22262,\n",
       "        22781,  12502,  18968, 151329,   3359,  24318, 676137, 426300,\n",
       "         2563,  20307,      3, 189302,  15576,  29011,   6056,   2962,\n",
       "          588,   5604,     67,  23913,  20213,  10116,  14620,     66,\n",
       "       125339,   3047,  20514, 573298, 378571,   2342,  18044, 146683,\n",
       "        13043,  23524,   4583,   2538,    336,   1796,     50,  21599,\n",
       "        18051,   7990,  11333,  97563,   2802,  17788, 523540, 277195,\n",
       "         2161,  15671, 118643,  11468,  20562,   4058,   2306,    192,\n",
       "         1718,  19356,  15130,   6738,   9386,     68,  83008,   2786,\n",
       "        15951, 467398, 264582,   2077,  14887, 108368,  10908,  19509,\n",
       "         3855,   2134,    335,   1675,     49,  18371,  14153,   6317,\n",
       "         8611,     80,  77667,   2664,  14389, 399116, 240856,   1853,\n",
       "        13746,  99225,  10006,  17737,   3658,   1978,    224,   1562,\n",
       "           48,  17043,  12541,   5953,   8099,     52,  69864,   2497,\n",
       "        13150, 334723, 213010,   1496,  12090,  82618,   8851,  15522,\n",
       "         3218,   1750,   1344,     44,  14820,  10241,   4877,   7129,\n",
       "           20,  60469,   2108,  11310, 247372, 192644,   1334,  10587,\n",
       "        66455,   7911,  14057,   2906,   1623,     78,   1254,     43,\n",
       "        13363,   7893,   4246,   6643,  51293,   1898,  10046, 240188,\n",
       "       198635,   1313,  67151,   7569,  13668,   2713,   1587,     63,\n",
       "         1215,     41,  13690,   7934,   4024,   6507,  51258,   1856,\n",
       "         9507, 200491, 175594,    812,  59372,   6111,   9924,   1842,\n",
       "          966,     55,    832,     18,  11654,   6599,   3826,   4318,\n",
       "        42021,   1249,   6232, 159922, 142976,    593,   6337,  46415,\n",
       "         5039,   7867,   1324,    730,     24,     16,  10072,   5168,\n",
       "         3240,   3114,  33894,    888,   4502, 126958, 114569,    517,\n",
       "         5346,  37443,   4424,   6926,    878,    603,     10,    533,\n",
       "         8543,   4067,   2632,   2569,      1,  27597,    748,   3722,\n",
       "       104322,  95772,    421,   2600,  30858,   2106,   3584,    473,\n",
       "          465,      5,    386,     14,   2952,   3621,   2319,   1922,\n",
       "        21098,    602,   2733,  68947,  70907,    111,   1274,  18888,\n",
       "         1172,   1310,     85,     82,     61,     12,   1606,   2865,\n",
       "         1944,    388,  12124,    142,    559,  56549,  56004,   1085,\n",
       "        14824,    956,   1162,   2289,   1569,  10058,  38923,  38798,\n",
       "           64,    741,   9818,    630,    746,     56,     35,    958,\n",
       "         1582,   1062,    314,   6845,    109,    362], dtype=int64)"
      ]
     },
     "execution_count": 411,
     "metadata": {},
     "output_type": "execute_result"
    }
   ],
   "source": [
    "acc_ranvelyprov['+ 10 Mbps - 20 Mbps'].unique() "
   ]
  },
  {
   "cell_type": "code",
   "execution_count": 412,
   "metadata": {},
   "outputs": [
    {
     "data": {
      "text/plain": [
       "array([161183,  43289,   3761,  13012,  13871,  34892,  10452,  21578,\n",
       "          716,    576,   5250,   5645,  21566,  15854,   2654,  14144,\n",
       "         2214,   2088,  68612,   2628,  58018,    849,   1767,   5211,\n",
       "       196021,  66755,   3262,  13692,   5780,  41198,  10087,  24068,\n",
       "         1135,    564,   4821,   5671,  18621,  15954,   3310,   4130,\n",
       "         3535,    398,  67363,   1770,  62349,    800,   1748,   5326,\n",
       "       192797,  73502,   1659,  14412,   5320,  47198,   9687,  16284,\n",
       "         1192,    561,   4023,   4868,   7596,  14792,   3631,   2282,\n",
       "         3878,    338,  67942,   1788,  55080,    801,   1433,   5300,\n",
       "       236897,  86655,   4941,  16069,   3896,  70824,  10059,  18484,\n",
       "         1341,    607,   3399,   4825,   4403,  16172,   5943,   3867,\n",
       "         9654,    340,  65946,   1575,  75195,    811,    476,   5022,\n",
       "       222061,  83255,    712,  14496,   2844,  71984,   9001,  15774,\n",
       "         1215,    568,   2786,    215,   4061,  14050,   5677,   3642,\n",
       "         8139,  62913,   1337,  65476,    700,    486,   4188, 213588,\n",
       "        80269,    591,  15701,   2818,  70013,   9383,  16600,   1197,\n",
       "          446,   2396,    181,   3378,  14810,   5493,   3512,   8291,\n",
       "          332,  62239,   1033,  65145,    411,    488,   4105, 194248,\n",
       "        78028,    562,  13751,  63823,   8615,  14377,    991,    293,\n",
       "         2189,    124,   3448,  13663,   5449,   3455,   7928,     41,\n",
       "        61319,    629,  58797,    292,    481,   3246, 188995,  80160,\n",
       "          426,  12082,   1473,  63216,   7898,  12856,    961,    209,\n",
       "         1657,     73,   3248,  12305,   5296,   7741,     40,  60889,\n",
       "          546,  57236,    247,    391,   2246, 205780,  85899,    408,\n",
       "        10416,   1240,  65733,   7351,  11988,    964,    166,   1342,\n",
       "           22,   2860,  11581,   5399,   3199,   8625,  58258,    529,\n",
       "        48448,    135,    196,   1730, 452570, 205810,    804,  13516,\n",
       "       114111,   9981,  18976,   1766,    102,   1287,   2165,  15626,\n",
       "        12059,   6968,  14170,  55216,      7,  70998,    105,    139,\n",
       "         6405, 483572, 258591,     72,  12987, 146247,  10388,  21216,\n",
       "         2262,     56,   1359,   1263,  16107,  16923,  10176,  11418,\n",
       "        62242,     27,  84325,     86,     82,    843, 502275, 296155,\n",
       "           34,  15348,     74, 170159,  11928,  24221,   2639,   1445,\n",
       "           13,   1256,  18882,  21210,  12407,  14059,     28, 100131,\n",
       "          108,     96,    628, 576859, 365713,     29,  12393, 127965,\n",
       "         9688,  18146,   2099,     30,   1354,     17,    111,  16552,\n",
       "        17135,   9567,  10861,      3,      6,     26,  74575,     85,\n",
       "           80,    847, 949093, 439526,    623, 128053,   2092,   1328,\n",
       "           19,  16566,   9569,      1,     62,  74432,     77,     24,\n",
       "       897964, 415020,  11085, 109333,   8357,  15111,   1729,     39,\n",
       "         1189,     20,  14674,  15218,   8470,   9224,     63,  62479,\n",
       "           64,    941, 536049, 264805,     36,   9251,      5,  78852,\n",
       "         6780,  12012,   1313,     44,    969,  11888,  12442,   6663,\n",
       "         7239,  50525,     31,      0,   1084, 480237, 227953,   8219,\n",
       "        57137,   5890,   9818,   1091,     49,    614,  10241,   9709,\n",
       "         4972,   5145,  39589,     33,   1218, 335140, 178396,     43,\n",
       "         7290,  40898,   5053,   7958,    977,   9091,   7528,   3447,\n",
       "         3559,      2,  30736,     32,   1303, 140812, 120675,     50,\n",
       "         3827,  38131,   2635,    899,    327,     23,   3843,   7067,\n",
       "         2965,   2315,  24536,   1361,  93059,  80234,     47,   3157,\n",
       "        20351,   2218,   2604,    749,     42,    244,   2892,   4774,\n",
       "         1921,   1068,  16794,     16,   1371,  90937,  66536,   3025,\n",
       "        19035,   2044,   2254,    635,    165,   2627,   4223,   1594,\n",
       "          267,  15775,   1383,  72348,  53506,     54,   2586,  15458,\n",
       "         1645,   1801,    649,    132,   2215,   3073,   1174,    239,\n",
       "           10,  13155,     15,   1400,  52900,  38341,   2022,  11691,\n",
       "         1307,    648,    114,     11,   1559,   2118,    790,    197,\n",
       "            9,  10210,   1288,  31494,  19597,   1571,   8355,    803,\n",
       "          593,   1073,   1285,    520,    140,   6509,   1032,   8315,\n",
       "         6577,   1238,   4143,    526,    457,    544,     71,    779,\n",
       "          143,    119,   3754,    871,   3835,   3087,   1136,   3336,\n",
       "          456,    399,    519,    675,     99,   3079,    837,   2642,\n",
       "         2028,    979,   2582,    453,    384,    379,    559,     61,\n",
       "         2320,   2010,   1482,     37,    788,   1956,    354,    257,\n",
       "           25,   1856,    455,   1561,   1195,    489,   1615,    235,\n",
       "          274,    157,    194,   1542,    334,    997,    890,   1177,\n",
       "            4,    869,    243,     95,     84,      8,     38,    284,\n",
       "           59,     76,    206,     55], dtype=int64)"
      ]
     },
     "execution_count": 412,
     "metadata": {},
     "output_type": "execute_result"
    }
   ],
   "source": [
    "acc_ranvelyprov['+ 20 Mbps - 30 Mbps'].unique() "
   ]
  },
  {
   "cell_type": "code",
   "execution_count": 413,
   "metadata": {},
   "outputs": [
    {
     "data": {
      "text/plain": [
       "array([3381049, 1188072,   35715,   62946,   14055,  577027,   43631,\n",
       "         81757,   15028,   35287,   14400,   45970,   95048,   58610,\n",
       "         71238,   37729,   76838,   11916,      13,    2551,  344170,\n",
       "          8309,     982,  133846, 3259793, 1147939,   29827,   58435,\n",
       "          2904,  538700,   39911,   77290,   13775,   33421,   12184,\n",
       "         43424,   75031,   54596,   69217,   36142,   72622,    9800,\n",
       "             9,     876,  322015,    7537,    1017,  125857, 2482266,\n",
       "       1075229,   26618,   49705,    1643,  476459,   35468,   67961,\n",
       "         12707,   29917,   10506,   42613,   21087,   42291,   57919,\n",
       "         34011,   67010,     278,      22,     678,  290793,    6863,\n",
       "           976,  115154, 2337604, 1037752,   25388,   47239,    1112,\n",
       "        442357,   32697,   61605,   11077,   29950,    9311,   42158,\n",
       "         20686,   38308,   54008,   31488,   58882,     676,  262124,\n",
       "          6064,     889,  109616, 2246313, 1003041,   22996,   42462,\n",
       "        402191,   27641,   54600,    9579,   25609,    7368,    5074,\n",
       "         16615,   32953,   50840,   29589,   54889,     276,     647,\n",
       "        236924,    4868,     919,  103437, 2176242, 1000073,   20406,\n",
       "         40949,  384169,   26789,   53141,    8946,   19282,    6257,\n",
       "          4979,   11557,   32264,   50776,   29372,   46697,     275,\n",
       "        226246,    4520,     922,   93594, 2085815,  977766,   18886,\n",
       "         38729,    1110,  361021,   25344,   49395,    8219,   15238,\n",
       "          6322,    4748,    8237,   30987,   49439,   28488,   43773,\n",
       "           128,       8,     120,  210562,    3994,     937,   84195,\n",
       "       1894466,  935481,   16578,   33311,     614,  325243,   22418,\n",
       "         43391,    7475,    9417,    3377,    4336,    5422,   28763,\n",
       "         46432,   26953,   39594,     127,     119,  189473,    3328,\n",
       "           796,   74377, 1802583,  906009,   10299,   28539,  296875,\n",
       "         19467,   39794,    6918,    7349,    2113,    1294,    3818,\n",
       "         26313,   43738,   25488,   34744,       5,  173823,    2799,\n",
       "           518,   67536, 1465133,  754299,    7477,   21556,  221742,\n",
       "         15744,   30153,    5671,    5286,    1342,    1305,    2628,\n",
       "         20799,   35001,   19837,   25821,       3,  135576,    2449,\n",
       "          1962,   56720, 1246209,  655108,      15,   16740,  157546,\n",
       "         12674,   22645,    4443,    3671,     941,    1307,     349,\n",
       "         16650,   28458,   15505,   12357,       4,   97082,    1836,\n",
       "           226,   20385,  985767,  475991,      10,    9904,     165,\n",
       "         76053,    7119,   10664,    2258,    2600,     629,    1298,\n",
       "           234,    8129,   14132,    6907,    6461,   49865,    1205,\n",
       "            32,   18394,  705769,  283463,       7,    6368,   50716,\n",
       "          5029,    7619,    1654,    1141,     405,     869,     140,\n",
       "          5167,   11026,    5076,    2242,       2,   36502,     494,\n",
       "            29,   14839,  265386,  186810,   48809,    7612,     270,\n",
       "           132,   11025,    5070,       1,   36427,     483,      67,\n",
       "        237248,  165055,    5667,     164,   39854,    4419,    6786,\n",
       "          1434,     623,     216,     339,     129,    4547,    9718,\n",
       "          4332,     502,   31266,     265,   12187,  199589,  142253,\n",
       "             6,    4630,   34950,    3862,    5920,    1243,     179,\n",
       "            72,    3866,    8551,    3725,     182,       0,   26512,\n",
       "            31,    8784,  184203,  127384,    3897,   29228,    3256,\n",
       "          5071,    1046,      98,    3219,    7378,    3129,      88,\n",
       "         22801,    7082,  151747,  114939,    3289,   24251,    2675,\n",
       "          4113,     824,      81,    2735,    6300,    2440,      84,\n",
       "         19602,    4367,  108400,   91917,    2004,   16741,    1607,\n",
       "          2397,     459,      51,      19,    1881,    4937,    1659,\n",
       "            63,   12982,     655,   46178,   37977,     545,    5069,\n",
       "           823,     139,      21,     570,    1703,     559,      76,\n",
       "          4275,   22299,   19881,     314,    2071,     303,     317,\n",
       "            11,     166,     458,     200,      74,    1831,   17279,\n",
       "         16756,     250,    1606,     280,      17,      20,     126,\n",
       "           271,     122,      70,    1529,   13318,   13886,     217,\n",
       "          1322,     210,     248,      91,     225,      99,      50,\n",
       "          1308,   11933,   13477,     201,    1242,     191,     205,\n",
       "            96,     208,      86,      49,    1277,    9529,   10838,\n",
       "           184,    1039,     170,      68,     171,    1063,    8180,\n",
       "         10899,     159,    1088,     150,     163,      52,     175,\n",
       "            75,    1189,    7720,   10022,     157,    1048,     146,\n",
       "           153,      43,     155,      62,    1133,    6712,    9258,\n",
       "           149,     903,     136,      33,     110,    1014,    5700,\n",
       "          8401,     135,     815,      26,      42,     900,    5406,\n",
       "          7997,     782,      66,      12,      30,    4232,    6626,\n",
       "           664,      48,      27,     806,    4309,    6427,     627,\n",
       "            44,     792,    4037,    6208,     588,     668], dtype=int64)"
      ]
     },
     "execution_count": 413,
     "metadata": {},
     "output_type": "execute_result"
    }
   ],
   "source": [
    "acc_ranvelyprov['+ 30 Mbps'].unique() "
   ]
  },
  {
   "cell_type": "code",
   "execution_count": 414,
   "metadata": {},
   "outputs": [
    {
     "data": {
      "text/plain": [
       "array([ 2.62800e+04,  1.71700e+03,  2.20700e+03,  7.58000e+03,\n",
       "        1.56070e+04,  1.31040e+04,  7.09400e+03,  1.67500e+04,\n",
       "        5.88000e+02,  2.44200e+03,  2.83300e+03,  0.00000e+00,\n",
       "        3.28700e+03,  8.34900e+03,  7.88500e+03,  2.26520e+04,\n",
       "        6.48900e+03,  2.46500e+03,  2.85890e+04,  4.85000e+02,\n",
       "        1.84440e+04,  7.92000e+02,  2.42100e+03,  2.73000e+02,\n",
       "        2.29580e+04,  2.23300e+03,  7.58500e+03,  1.57630e+04,\n",
       "        1.26070e+04,  7.08200e+03,  1.65830e+04,  1.96700e+03,\n",
       "        2.32400e+03,  3.02700e+03,  3.66000e+02,  8.33500e+03,\n",
       "        7.76700e+03,  2.26450e+04,  6.47500e+03,  4.43500e+03,\n",
       "        2.92180e+04,  4.91000e+02,  1.87770e+04,  7.93000e+02,\n",
       "        2.58000e+03,  2.40000e+02,  9.72800e+03,  2.20600e+03,\n",
       "        7.95800e+03,  1.49070e+04,  9.25600e+03,  5.05300e+03,\n",
       "        1.27550e+04,  1.61700e+03,  2.40100e+03,  4.15200e+03,\n",
       "        5.00000e+01,  8.27900e+03,  5.57900e+03,  2.00090e+04,\n",
       "        6.32700e+03,  4.64100e+03,  2.93920e+04,  7.35000e+02,\n",
       "        1.62670e+04,  8.98000e+02,  8.95000e+02,  1.64000e+02,\n",
       "        9.10800e+03,  6.60000e+01,  5.17200e+03,  9.92500e+03,\n",
       "        1.60770e+04,  1.61800e+03,  4.06200e+03,  1.90000e+01,\n",
       "        5.64500e+03,  6.32800e+03,  3.69170e+04,  1.53710e+04,\n",
       "        1.56600e+03,  1.48300e+03,  2.68000e+03,  1.08670e+04,\n",
       "        1.26000e+02,  2.19600e+03,  8.38400e+03,  4.39000e+03,\n",
       "        1.26770e+04,  5.45300e+03,  1.28260e+04,  1.94200e+03,\n",
       "        2.37800e+03,  2.42400e+03, -1.00000e+00,  4.40000e+01,\n",
       "        8.25600e+03,  5.75800e+03,  2.01030e+04,  6.31900e+03,\n",
       "       -1.94500e+03,  2.43820e+04,  4.14400e+03,  1.18360e+04,\n",
       "        9.01600e+03,  2.68000e+02,  2.30900e+03,  7.96500e+03,\n",
       "        4.40200e+03,  1.35680e+04,  4.98500e+03,  1.46540e+04,\n",
       "        1.68000e+03,  2.81100e+03,  2.52000e+03,  2.57000e+03,\n",
       "        7.00100e+03,  5.72000e+03,  2.01460e+04,  4.58800e+03,\n",
       "        3.69180e+04,  7.58000e+02,  2.36020e+04,  3.93200e+03,\n",
       "        6.69000e+03,  1.98530e+04,  2.47000e+02,  2.15400e+03,\n",
       "        7.19400e+03,  3.94200e+03,  1.17280e+04,  5.02000e+03,\n",
       "        1.57590e+04,  1.73700e+03,  3.06500e+03,  4.02900e+03,\n",
       "        2.00000e+00,  4.50000e+01,  8.77900e+03,  8.03000e+02,\n",
       "        1.90930e+04,  1.49960e+04,  4.15000e+03,  8.33000e+02,\n",
       "        2.70010e+04,  4.80100e+03,  6.99200e+03,  2.63700e+03,\n",
       "        2.12330e+04,  6.87000e+02,  3.17600e+03,  6.96900e+03,\n",
       "        3.99900e+03,  8.97100e+03,  1.45690e+04,  1.31300e+03,\n",
       "        1.65570e+04,  1.12300e+03,  2.45000e+03,  8.64600e+03,\n",
       "        1.70570e+04,  6.53100e+03,  4.43000e+03,  3.59920e+04,\n",
       "        4.93000e+02,  2.01930e+04,  4.51600e+03,  7.44600e+03,\n",
       "        2.63500e+03,  2.89350e+04,  2.15100e+03,  6.91700e+03,\n",
       "        4.50000e+03,  9.80200e+03,  4.78000e+03,  1.37620e+04,\n",
       "        1.00000e+02,  1.65450e+04,  1.08850e+04,  1.77190e+04,\n",
       "        6.44100e+03,  4.77900e+03,  3.60750e+04,  1.76560e+04,\n",
       "        4.50100e+03,  7.04600e+03,  2.81310e+04,  1.51070e+04,\n",
       "        1.16560e+04,  1.22000e+02,  7.43500e+03,  1.85760e+04,\n",
       "        9.64800e+03,  4.22940e+04,  7.35300e+03,  1.22060e+04,\n",
       "        7.51500e+03,  1.95370e+04,  3.45010e+04,  4.34380e+04,\n",
       "                nan,  1.49200e+03,  8.93800e+03,  6.08000e+03,\n",
       "        1.72060e+04,  2.17650e+04,  2.66100e+03,  4.22000e+02,\n",
       "        1.85190e+04,  6.11900e+03,  3.79770e+04,  2.23230e+04,\n",
       "        6.36900e+03,  1.03500e+03,  6.80600e+03,  1.21420e+04,\n",
       "        3.71620e+04,  6.98000e+02,  7.65400e+03,  6.10500e+03,\n",
       "        3.71900e+03,  1.00000e+00,  5.60000e+02,  2.35770e+04,\n",
       "        1.85910e+04,  6.40900e+03,  8.29600e+03,  1.39370e+04,\n",
       "        3.65770e+04,  6.15400e+03,  4.50000e+02,  2.97310e+04,\n",
       "        1.20464e+05,  6.49000e+03,  1.90200e+03,  1.39110e+04,\n",
       "        1.13357e+05,  6.50000e+03,  5.01000e+03,  8.11000e+03,\n",
       "        3.37880e+04,  3.97500e+03,  5.06800e+03,  9.28400e+03,\n",
       "        4.26700e+03,  2.22570e+04,  1.75890e+04,  1.07000e+02,\n",
       "        1.30500e+03,  1.05818e+05,  1.00490e+04,  3.50300e+03,\n",
       "        2.31810e+04,  1.14182e+05,  8.42900e+03,  1.41190e+04])"
      ]
     },
     "execution_count": 414,
     "metadata": {},
     "output_type": "execute_result"
    }
   ],
   "source": [
    "acc_ranvelyprov['OTROS'].unique() "
   ]
  },
  {
   "cell_type": "code",
   "execution_count": 415,
   "metadata": {},
   "outputs": [
    {
     "data": {
      "text/plain": [
       "array([4555424, 1417541,   62378,  144119,  171628, 1003803,  142578,\n",
       "        267926,   54548,  116509,  109732,   84303,  275185,  171508,\n",
       "        149679,  157374,  197515,   88178,  119844,   49102,  870479,\n",
       "        116461,   52611,  245584, 4509157, 1412119,   59090,  143745,\n",
       "        160308,  986770,  135912,  265046,   53663,  113915,  107007,\n",
       "         83128,  267587,  171132,  147466,  153753,  199405,   79958,\n",
       "        118849,   48486,  866441,  115861,   52357,  238639, 4251609,\n",
       "       1413405,   56254,  139871,  156066,  946788,  133819,  260375,\n",
       "         52795,  111158,  100487,   82160,  255939,  158528,  139809,\n",
       "        144585,  195833,   79483,  117864,   48976,  841584,  115458,\n",
       "         50223,  232472, 4132351, 1400355,   55744,  140729,  139237,\n",
       "        930880,  129501,  257632,   51551,  111848,   97667,   81602,\n",
       "        229671,  156176,  138250,  144084,  191639,   78933,  122818,\n",
       "         48982,  840600,  114090,   35693,  233051, 4060002, 1379673,\n",
       "         51968,  139770,  132340,  910881,  126625,  251963,   50686,\n",
       "        110456,   97105,   52628,  218923,  149387,  133235,  141168,\n",
       "        187574,   78267,  119154,   46065,  826127,  111641,   40422,\n",
       "        231912, 4033261, 1379530,   52396,  139091,  130574,  902701,\n",
       "        125659,  247381,   50206,  105851,   96895,   52778,  215453,\n",
       "        147161,  133135,  141210,  187390,   72596,  119435,   40674,\n",
       "        820813,  106669,   39614,  231089, 3937277, 1372675,   49904,\n",
       "        133954,  130027,  867472,  123391,  241495,   49209,  106728,\n",
       "         93735,   52616,  207788,  143186,  129235,  131467,  180846,\n",
       "         77327,  116565,   39281,  802998,  105492,   39655,  223876,\n",
       "       3777546, 1357821,   47976,  128132,  108656,  836468,  118866,\n",
       "        234113,   47932,   94316,   89809,   52155,  201184,  140340,\n",
       "        126172,  129486,  177762,   69777,  113952,   38869,  777932,\n",
       "        105447,   39189,  217156, 3718747, 1354054,   38860,  120226,\n",
       "         96920,  810924,  113737,  230292,   46276,   94089,   89145,\n",
       "         48345,  176960,  133700,  122214,  126927,  170695,   67861,\n",
       "        110454,   38335,  762556,  103054,   37606,  200449, 3693709,\n",
       "       1358599,   37364,  117832,   96481,  806140,  113619,  239959,\n",
       "         46568,   91304,   90451,   49007,  178879,  135961,  116939,\n",
       "        127840,  172760,   68507,  107989,   39020,  760273,  103072,\n",
       "         42251,  198657, 3971683, 1442810,   32382,  112227,   90152,\n",
       "        782341,  110656,  236314,   46373,   88981,   90826,   49678,\n",
       "        222774,  131099,  124898,  144243,  151938,   76968,  122702,\n",
       "         37430,  752576,  132632,   48557,  164444, 3870807, 1418395,\n",
       "         33622,  109904,   89333,  769793,  109461,  234213,   46751,\n",
       "         86733,   90223,   50304,  222260,  130052,  122886,  138429,\n",
       "        142650,   70240,  117383,   30010,  736108,  126056,   47895,\n",
       "        166673, 3732709, 1401583,   34739,  106982,   82678,  746418,\n",
       "        101659,  233180,   45299,   83736,   87085,   51653,  215979,\n",
       "        125633,  114242,  120826,  136012,   63982,   98701,   25606,\n",
       "        732320,   91535,   43361,  172217, 3623890, 1390884,   33731,\n",
       "        106575,   77578,  736732,  100631,  222291,   45292,   83137,\n",
       "         85411,   51648,  207452,  124726,  114183,  117462,  134582,\n",
       "         62242,   96273,   24237,  721671,   89009,   52106,  171912,\n",
       "       3609754, 1394490,   34373,  105340,  102594,  723352,   99459,\n",
       "        204062,   44857,   44897,   83342,   51869,  208201,  110594,\n",
       "        115935,  113504,  133722,   64369,   74362,   33945,  692572,\n",
       "         86102,   44300,  171040, 3502314, 1371167,   34073,   98290,\n",
       "        100533,  710289,   97960,  199439,   44546,   45095,   82344,\n",
       "         51945,  200932,  108699,  114668,  112129,  135006,   64073,\n",
       "         21454,   33772,  684591,   83770,   43505,  169850, 3471700,\n",
       "       1368594,   33929,   96782,   97928,  713991,   94420,  196848,\n",
       "         32320,   44393,   82375,   52242,  200927,  103542,  116746,\n",
       "        111239,  134001,   63240,   21382,  680053,   84236,   34409,\n",
       "        167984, 3188332, 1584238,   29558,   96471,   93432,  700611,\n",
       "         93771,  193499,   32055,   43550,   81086,   52195,  180154,\n",
       "        103895,  115843,  109678,  133648,   58622,   14900,   29978,\n",
       "        671964,   68842,   31652,  162248, 3028468, 1575199,   27011,\n",
       "         92796,   78607,  679929,   92561,  185501,   31132,   43269,\n",
       "         75202,   51924,  158818,  100526,  109276,  105009,  133400,\n",
       "         58695,   12406,   29955,  624462,   65360,   34164,  159959,\n",
       "       2976720, 1564194,   26703,   90609,   80229,  658560,   90094,\n",
       "        182797,   29958,   42658,   69193,   16288,  177505,   99796,\n",
       "        109586,  105379,  108551,   58800,   14029,   31765,  567004,\n",
       "         33199,   35710,  154390, 3186724, 1262940,   26315,   89047,\n",
       "         80150,  642098,   88605,  180418,   29707,   43203,   68079,\n",
       "         16224,  177485,   97621,  107491,  105033,  107643,   58792,\n",
       "         31863,  562613,   34478,  152750, 3138541, 1266885,   27032,\n",
       "         88854,   80197,  637473,   88093,  180310,   29518,   42626,\n",
       "         67345,   16315,  177477,   97392,  106093,  104779,  106947,\n",
       "         58840,   32013,  561542,   35054,  151631, 3121140, 1261686,\n",
       "         26984,   89416,   80705,  644678,   88346,  181226,   29861,\n",
       "         42541,   66717,   16935,  178376,   97998,  106026,  104771,\n",
       "        107818,   58832,   14091,   32397,  568104,   36592,   35381,\n",
       "        151304, 3108515, 1257302,   26604,   88291,   79846,  659050,\n",
       "         87020,  189595,   28836,   43496,   75214,   16746,  177519,\n",
       "         96832,  104778,  105131,  109235,   57876,   13950,   32427,\n",
       "        588531,   37669,   39075,  148926, 2875136, 1303768,   26388,\n",
       "         86650,   78651,  611484,   85534,  174533,   28316,   40295,\n",
       "         63783,   16691,  175744,   92927,   98453,  101921,  102071,\n",
       "         56767,   13660,   32393,  551809,   38394,   33304,  146613,\n",
       "       2888246, 1350450,   26471,   86553,   78448,  625929,   85433,\n",
       "        174191,   28091,   39925,   62479,   16932,  175080,   92855,\n",
       "        102039,  101122,  101936,   56158,   13488,   32555,  560204,\n",
       "         39138,   32963,  146080, 2856078, 1341574,   26091,   85374,\n",
       "         78362,  622813,   84959,  172487,   27751,   39550,   61473,\n",
       "         16771,  173792,   91624,   95867,  100508,  100589,   55365,\n",
       "         13302,   32483,  555766,   39398,   36710,  144301, 2857754,\n",
       "       1346690,   25678,   83846,   62647,  611835,   83319,  169543,\n",
       "         27053,   37723,   60240,   16509,  170821,   88524,   92324,\n",
       "         98689,   98269,   51988,   13220,   25756,  547253,   39379,\n",
       "         36375,  140670, 2754612, 1333455,   25130,   81357,   64262,\n",
       "        597833,   81484,  166418,   26700,   36612,   59210,   16334,\n",
       "        170145,   85150,   89574,   97227,   96810,   51801,   12741,\n",
       "         26282,  536252,   38617,   36944,  138262, 2705954, 1331972,\n",
       "         25493,   66060,   68538,  589873,   65710,  140730,   26208,\n",
       "         35955,   49710,   16402,  169611,   77229,   89228,   95904,\n",
       "         93967,   52119,   13147,   25703,  527471,   39301,   31786,\n",
       "        137414, 2647181, 1318799,   24680,   63770,   69099,  583972,\n",
       "         63539,  136796,   25935,   33709,   54155,   15913,  167855,\n",
       "         75322,   87720,   97745,   92941,   51771,   13040,   26069,\n",
       "        515368,   37540,   32698,  132054, 2659316, 1310340,   24683,\n",
       "         63304,   70514,  577464,   62957,  135495,   25600,   34344,\n",
       "         47919,   15912,  166807,   74689,   86237,   95610,   91992,\n",
       "         51646,   13055,   27166,  512094,   37996,   31546,  132059,\n",
       "       2624542, 1301081,   24232,   62546,   68791,  567453,   62235,\n",
       "        134248,   25422,   33803,   46506,   15711,  166740,   73954,\n",
       "         83958,   94736,   91297,   51589,   12557,   26760,  506013,\n",
       "         37113,   31527,  130032], dtype=int64)"
      ]
     },
     "execution_count": 415,
     "metadata": {},
     "output_type": "execute_result"
    }
   ],
   "source": [
    "acc_ranvelyprov['Total'].unique()"
   ]
  },
  {
   "attachments": {},
   "cell_type": "markdown",
   "metadata": {},
   "source": [
    "**IV.-Acceso a Internet fijo por tecnología y provincia.**"
   ]
  },
  {
   "attachments": {},
   "cell_type": "markdown",
   "metadata": {},
   "source": [
    "Apreciamos que contiene 793 filas (una extra ), 9 columnas, 6 numéricas, 1 string (provincia) y 2 que se refieren a fechas que  probablemente sea necesario vincularlas a un calendario en Powerby. \n",
    "\n",
    "Además,  las columnas numéricas tiene los miles marcados con '.' los que se reemplazaran en forma conjunta con la incorporación de los datos. Ademas, también detectamos que existen valores '-0' lo que hace necesario realizar una normalización mas especifica. Algo similiarsucede con las columnas años y trimestres que tienen * en algunos de sus valores.\n",
    "No vemos valores faltantes, solo en la última fila que debe ser eliminada.\n",
    "\n",
    "Nos brinda información concerniente a los tipos de tecnologías de accesos a internet teniendo en cuenta el año, trimestre y provincia y por lo tanto permite ver su evolucion en el tiempo y cual es la composición de cada provincia. \n",
    "\n",
    "Los mencionados datos puede permitir inferir si un determinada tecnología continúa vigente y si su adopcion se encuentra en crecimiento, estancada o decreciendo."
   ]
  },
  {
   "cell_type": "code",
   "execution_count": 416,
   "metadata": {},
   "outputs": [
    {
     "data": {
      "text/html": [
       "<div>\n",
       "<style scoped>\n",
       "    .dataframe tbody tr th:only-of-type {\n",
       "        vertical-align: middle;\n",
       "    }\n",
       "\n",
       "    .dataframe tbody tr th {\n",
       "        vertical-align: top;\n",
       "    }\n",
       "\n",
       "    .dataframe thead th {\n",
       "        text-align: right;\n",
       "    }\n",
       "</style>\n",
       "<table border=\"1\" class=\"dataframe\">\n",
       "  <thead>\n",
       "    <tr style=\"text-align: right;\">\n",
       "      <th></th>\n",
       "      <th>Año</th>\n",
       "      <th>Trimestre</th>\n",
       "      <th>Provincia</th>\n",
       "      <th>ADSL</th>\n",
       "      <th>Cablemodem</th>\n",
       "      <th>Fibra óptica</th>\n",
       "      <th>Wireless</th>\n",
       "      <th>Otros</th>\n",
       "      <th>Total</th>\n",
       "    </tr>\n",
       "  </thead>\n",
       "  <tbody>\n",
       "    <tr>\n",
       "      <th>0</th>\n",
       "      <td>2022</td>\n",
       "      <td>1</td>\n",
       "      <td>Buenos Aires</td>\n",
       "      <td>392045.0</td>\n",
       "      <td>2.728.865</td>\n",
       "      <td>1.242.121</td>\n",
       "      <td>125.521</td>\n",
       "      <td>66872.0</td>\n",
       "      <td>4555424.0</td>\n",
       "    </tr>\n",
       "    <tr>\n",
       "      <th>1</th>\n",
       "      <td>2022</td>\n",
       "      <td>1</td>\n",
       "      <td>Capital Federal</td>\n",
       "      <td>102290.0</td>\n",
       "      <td>1.217.225</td>\n",
       "      <td>62.308</td>\n",
       "      <td>5.784</td>\n",
       "      <td>29934.0</td>\n",
       "      <td>1417541.0</td>\n",
       "    </tr>\n",
       "    <tr>\n",
       "      <th>2</th>\n",
       "      <td>2022</td>\n",
       "      <td>1</td>\n",
       "      <td>Catamarca</td>\n",
       "      <td>14181.0</td>\n",
       "      <td>15.517</td>\n",
       "      <td>29.118</td>\n",
       "      <td>1.328</td>\n",
       "      <td>2234.0</td>\n",
       "      <td>62378.0</td>\n",
       "    </tr>\n",
       "    <tr>\n",
       "      <th>3</th>\n",
       "      <td>2022</td>\n",
       "      <td>1</td>\n",
       "      <td>Chaco</td>\n",
       "      <td>32391.0</td>\n",
       "      <td>64.546</td>\n",
       "      <td>36.662</td>\n",
       "      <td>8.164</td>\n",
       "      <td>2356.0</td>\n",
       "      <td>144119.0</td>\n",
       "    </tr>\n",
       "    <tr>\n",
       "      <th>4</th>\n",
       "      <td>2022</td>\n",
       "      <td>1</td>\n",
       "      <td>Chubut</td>\n",
       "      <td>44133.0</td>\n",
       "      <td>66.667</td>\n",
       "      <td>9.184</td>\n",
       "      <td>30.592</td>\n",
       "      <td>21052.0</td>\n",
       "      <td>171628.0</td>\n",
       "    </tr>\n",
       "  </tbody>\n",
       "</table>\n",
       "</div>"
      ],
      "text/plain": [
       "    Año Trimestre        Provincia      ADSL Cablemodem Fibra óptica Wireless  \\\n",
       "0  2022         1     Buenos Aires  392045.0  2.728.865    1.242.121  125.521   \n",
       "1  2022         1  Capital Federal  102290.0  1.217.225       62.308    5.784   \n",
       "2  2022         1        Catamarca   14181.0     15.517       29.118    1.328   \n",
       "3  2022         1            Chaco   32391.0     64.546       36.662    8.164   \n",
       "4  2022         1           Chubut   44133.0     66.667        9.184   30.592   \n",
       "\n",
       "     Otros      Total  \n",
       "0  66872.0  4555424.0  \n",
       "1  29934.0  1417541.0  \n",
       "2   2234.0    62378.0  \n",
       "3   2356.0   144119.0  \n",
       "4  21052.0   171628.0  "
      ]
     },
     "execution_count": 416,
     "metadata": {},
     "output_type": "execute_result"
    }
   ],
   "source": [
    "acc_tecyprov.head()\n"
   ]
  },
  {
   "cell_type": "code",
   "execution_count": 417,
   "metadata": {},
   "outputs": [
    {
     "name": "stdout",
     "output_type": "stream",
     "text": [
      "<class 'pandas.core.frame.DataFrame'>\n",
      "RangeIndex: 793 entries, 0 to 792\n",
      "Data columns (total 9 columns):\n",
      " #   Column        Non-Null Count  Dtype  \n",
      "---  ------        --------------  -----  \n",
      " 0   Año           793 non-null    object \n",
      " 1   Trimestre     793 non-null    object \n",
      " 2   Provincia     792 non-null    object \n",
      " 3   ADSL          792 non-null    float64\n",
      " 4   Cablemodem    792 non-null    object \n",
      " 5   Fibra óptica  792 non-null    object \n",
      " 6   Wireless      792 non-null    object \n",
      " 7   Otros         792 non-null    float64\n",
      " 8   Total         792 non-null    float64\n",
      "dtypes: float64(3), object(6)\n",
      "memory usage: 55.9+ KB\n"
     ]
    }
   ],
   "source": [
    "acc_tecyprov.info()"
   ]
  },
  {
   "cell_type": "code",
   "execution_count": 418,
   "metadata": {},
   "outputs": [
    {
     "data": {
      "text/plain": [
       "<AxesSubplot: >"
      ]
     },
     "execution_count": 418,
     "metadata": {},
     "output_type": "execute_result"
    },
    {
     "data": {
      "image/png": "[encoded data removed]",
      "text/plain": [
       "<Figure size 640x480 with 2 Axes>"
      ]
     },
     "metadata": {},
     "output_type": "display_data"
    }
   ],
   "source": [
    "sns.heatmap(acc_tecyprov.isnull())"
   ]
  },
  {
   "cell_type": "code",
   "execution_count": 419,
   "metadata": {},
   "outputs": [
    {
     "name": "stderr",
     "output_type": "stream",
     "text": [
      "C:\\Users\\guill\\AppData\\Local\\Temp\\ipykernel_24000\\1132762989.py:1: FutureWarning: The default value of regex will change from True to False in a future version. In addition, single character regular expressions will *not* be treated as literal strings when regex=True.\n",
      "  acc_tecyprov[\"Cablemodem\"] = acc_tecyprov[\"Cablemodem\"].str.replace('.','')\n",
      "C:\\Users\\guill\\AppData\\Local\\Temp\\ipykernel_24000\\1132762989.py:2: FutureWarning: The default value of regex will change from True to False in a future version. In addition, single character regular expressions will *not* be treated as literal strings when regex=True.\n",
      "  acc_tecyprov[\"Fibra óptica\"] = acc_tecyprov[\"Fibra óptica\"].str.replace('.','')\n",
      "C:\\Users\\guill\\AppData\\Local\\Temp\\ipykernel_24000\\1132762989.py:3: FutureWarning: The default value of regex will change from True to False in a future version. In addition, single character regular expressions will *not* be treated as literal strings when regex=True.\n",
      "  acc_tecyprov[\"Wireless\"] = acc_tecyprov[\"Wireless\"].str.replace('.','')\n"
     ]
    }
   ],
   "source": [
    "acc_tecyprov[\"Cablemodem\"] = acc_tecyprov[\"Cablemodem\"].str.replace('.','')\n",
    "acc_tecyprov[\"Fibra óptica\"] = acc_tecyprov[\"Fibra óptica\"].str.replace('.','')\n",
    "acc_tecyprov[\"Wireless\"] = acc_tecyprov[\"Wireless\"].str.replace('.','')"
   ]
  },
  {
   "cell_type": "code",
   "execution_count": 420,
   "metadata": {},
   "outputs": [],
   "source": [
    "acc_tecyprov[\"Cablemodem\"] = acc_tecyprov[\"Cablemodem\"].str.replace('-','')\n",
    "acc_tecyprov[\"Fibra óptica\"] = acc_tecyprov[\"Fibra óptica\"].str.replace('-','')\n",
    "acc_tecyprov[\"Wireless\"] = acc_tecyprov[\"Wireless\"].str.replace('-','')"
   ]
  },
  {
   "cell_type": "code",
   "execution_count": 421,
   "metadata": {},
   "outputs": [],
   "source": [
    "acc_tecyprov[[\"Año\", \"Trimestre\"]] = acc_tecyprov[[\"Año\", \"Trimestre\"]].applymap(lambda x: x.replace('*',''))"
   ]
  },
  {
   "cell_type": "code",
   "execution_count": 422,
   "metadata": {},
   "outputs": [],
   "source": [
    "acc_tecyprov.drop(792, axis=0, inplace=True)"
   ]
  },
  {
   "cell_type": "code",
   "execution_count": 423,
   "metadata": {},
   "outputs": [],
   "source": [
    "acc_tecyprov[\"Cablemodem\"] = pd.to_numeric(acc_tecyprov[\"Cablemodem\"])\n",
    "acc_tecyprov[\"Fibra óptica\"] = pd.to_numeric(acc_tecyprov[\"Fibra óptica\"])\n",
    "acc_tecyprov[\"Wireless\"] = pd.to_numeric(acc_tecyprov[\"Wireless\"])\n",
    "acc_tecyprov[\"Año\"] = pd.to_numeric(acc_tecyprov[\"Año\"])\n",
    "acc_tecyprov[\"Trimestre\"] = pd.to_numeric(acc_tecyprov[\"Trimestre\"])"
   ]
  },
  {
   "attachments": {},
   "cell_type": "markdown",
   "metadata": {},
   "source": [
    "Vamos a analizar individualmente los valores de las columnas con la finalidad de entender mejor su contenido y para detectar si hay errores evidentes de carga."
   ]
  },
  {
   "cell_type": "code",
   "execution_count": 424,
   "metadata": {},
   "outputs": [
    {
     "data": {
      "text/plain": [
       "array([2022, 2021, 2020, 2019, 2018, 2017, 2016, 2015, 2014], dtype=int64)"
      ]
     },
     "execution_count": 424,
     "metadata": {},
     "output_type": "execute_result"
    }
   ],
   "source": [
    "acc_tecyprov['Año'].unique() # Apreciamos que los datos van del año 2014 al 2022, pero se detectan '*' "
   ]
  },
  {
   "cell_type": "code",
   "execution_count": 425,
   "metadata": {},
   "outputs": [
    {
     "data": {
      "text/plain": [
       "array([1, 4, 3, 2], dtype=int64)"
      ]
     },
     "execution_count": 425,
     "metadata": {},
     "output_type": "execute_result"
    }
   ],
   "source": [
    "acc_tecyprov['Trimestre'].unique() # se aplica a los cuatro trimestres del año, pero se detectan '*'"
   ]
  },
  {
   "cell_type": "code",
   "execution_count": 426,
   "metadata": {},
   "outputs": [
    {
     "data": {
      "text/plain": [
       "array(['Buenos Aires', 'Capital Federal', 'Catamarca', 'Chaco', 'Chubut',\n",
       "       'Córdoba', 'Corrientes', 'Entre Ríos', 'Formosa', 'Jujuy',\n",
       "       'La Pampa', 'La Rioja', 'Mendoza', 'Misiones', 'Neuquén',\n",
       "       'Río Negro', 'Salta', 'San Juan', 'San Luis', 'Santa Cruz',\n",
       "       'Santa Fe', 'Santiago Del Estero', 'Tierra Del Fuego', 'Tucumán'],\n",
       "      dtype=object)"
      ]
     },
     "execution_count": 426,
     "metadata": {},
     "output_type": "execute_result"
    }
   ],
   "source": [
    "acc_tecyprov['Provincia'].unique() # abarca las 23 provincias y el distrito federal, es decir la totalidad de argentina."
   ]
  },
  {
   "cell_type": "code",
   "execution_count": 427,
   "metadata": {},
   "outputs": [
    {
     "data": {
      "text/plain": [
       "array([ 392045.,  102290.,   14181.,   32391.,   44133.,  195610.,\n",
       "         40462.,   67159.,   16397.,   21307.,    8003.,    9103.,\n",
       "         49464.,   39147.,   28443.,   38662.,   44714.,   34038.,\n",
       "          7987.,   10537.,  213486.,   18118.,   13031.,   92532.,\n",
       "        426325.,  111360.,   16385.,   35548.,   46361.,  212011.,\n",
       "         42523.,   70459.,   17211.,   22330.,    8175.,   10387.,\n",
       "         59842.,   41778.,   29175.,   42037.,   46972.,   35868.,\n",
       "          8472.,   10790.,  233427.,   19032.,   13317.,   97830.,\n",
       "        585729.,  142902.,   18413.,   38258.,   49269.,  229275.,\n",
       "         44805.,   74443.,   18093.,   23554.,    9015.,   11329.,\n",
       "         91474.,   43230.,   29650.,   47934.,   49212.,   40072.,\n",
       "          8417.,   12347.,  245929.,   19939.,   12853.,  104489.,\n",
       "        603255.,  148989.,   20305.,   39826.,   49271.,  239780.,\n",
       "         46648.,   77836.,   19571.,   24738.,    9017.,   11627.,\n",
       "         91503.,   44960.,   30083.,   48189.,   51396.,  256741.,\n",
       "         20734.,  110429.,  629679.,  159805.,   26316.,   43214.,\n",
       "         45501.,  260350.,   49160.,   83688.,   20663.,   32254.,\n",
       "          8946.,   17363.,   91844.,   48292.,   30223.,   48777.,\n",
       "         54768.,  277012.,   26468.,  147199.,  635651.,  163060.,\n",
       "         26870.,   44332.,   45703.,  267396.,   50102.,   85683.,\n",
       "         21264.,   32850.,    9009.,   17513.,   91842.,   49462.,\n",
       "         30468.,   48991.,   56659.,  287271.,   26812.,  149322.,\n",
       "        653930.,  170375.,   26868.,   45745.,   45761.,  276360.,\n",
       "         50858.,   87892.,   21790.,   32611.,   17346.,   91908.,\n",
       "         50195.,   30222.,   49530.,   58216.,   40092.,    8401.,\n",
       "         12845.,  295051.,   26419.,   12854.,  149605.,  661272.,\n",
       "        178896.,   26968.,   46816.,  282858.,   51248.,   89391.,\n",
       "         21805.,   32705.,    8551.,   16885.,   91904.,   50792.,\n",
       "         30256.,   49756.,   59502.,  299974.,   25917.,  150084.,\n",
       "        673237.,  184494.,   21945.,   46356.,   45763.,  286168.,\n",
       "         51126.,   90368.,   21068.,   32066.,    8553.,   13076.,\n",
       "         91955.,   51458.,   29305.,   47756.,   60426.,    8301.,\n",
       "        302366.,   24695.,  143184.,  720011.,  196938.,   22999.,\n",
       "         48661.,   47045.,  296872.,   52525.,   92981.,   21567.,\n",
       "         32949.,   15457.,   13738.,   96678.,   53116.,   29826.,\n",
       "         49747.,   63272.,   41360.,    8569.,   13264.,  312072.,\n",
       "         24682.,   13261.,  146985., 1277249.,  300288.,   24349.,\n",
       "         50416.,   37298.,  307780.,   53344.,   94947.,   21777.,\n",
       "         33110.,   19469.,   14390.,  148640.,   54493.,   43347.,\n",
       "         67478.,   65799.,   51670.,   13037.,   10663.,  319396.,\n",
       "         24556.,   19790.,  150918., 1284658.,  309937.,   25682.,\n",
       "         50765.,   37313.,  314768.,   53835.,   97081.,   21916.,\n",
       "         33022.,   19471.,   15014.,  148673.,   55373.,   43420.,\n",
       "         67841.,   68827.,   51680.,   11130.,   10665.,  325420.,\n",
       "         24393.,  153121., 1304507.,  328246.,   26912.,   53409.,\n",
       "         37302.,  323272.,   55842.,  100999.,   22570.,   33248.,\n",
       "         18832.,   16367.,  148524.,   54898.,   40747.,   68377.,\n",
       "         74426.,   51660.,   11108.,   10659.,  340038.,   25337.,\n",
       "         19789.,  159215., 1305576.,  328253.,   37215.,  328854.,\n",
       "        101168.,   22619.,   55500.,   74295.,  335519.,   25339.,\n",
       "       1435856.,  334353.,   27553.,   53927.,   58887.,  337620.,\n",
       "         56444.,  103318.,   22777.,   33363.,   12415.,   16587.,\n",
       "        151033.,   56290.,   46602.,   68590.,   76600.,   54025.,\n",
       "         11096.,   18606.,  339126.,   25805.,   19365.,  161209.,\n",
       "       1450203.,  342431.,   27444.,   54134.,   58935.,  345141.,\n",
       "         56541.,  104811.,   23543.,   33571.,   12416.,   16663.,\n",
       "        152938.,   57265.,   46633.,   68667.,   78386.,   54080.,\n",
       "         11104.,   18615.,  337934.,   26074.,   19372.,  160315.,\n",
       "       1452061.,  349995.,   27300.,   54879.,   56375.,  349342.,\n",
       "         56937.,  106998.,   23556.,   33856.,   10807.,   16960.,\n",
       "        152931.,   56311.,   46714.,   68769.,   79936.,  341997.,\n",
       "         26788.,  158611., 1241172.,  571363.,   27083.,   55035.,\n",
       "         56378.,  349710.,   56786.,  107764.,   23410.,   33844.,\n",
       "         10808.,   16912.,  152896.,   56271.,   46739.,   68690.,\n",
       "         80705.,   54079.,   18614.,  341680.,   27313.,  156583.,\n",
       "       1288025.,  583249.,   26873.,   54888.,   56359.,  344580.,\n",
       "         56247.,  107774.,   22647.,   33796.,   11378.,   16638.,\n",
       "        154036.,   56472.,   48001.,   69301.,   80782.,   54499.,\n",
       "         11407.,   19220.,  322953.,   27733.,   21587.,  154130.,\n",
       "       1378549.,  615262.,   26401.,   54449.,   43994.,  341748.,\n",
       "         55262.,  108309.,   22493.,   33742.,   12754.,   16244.,\n",
       "        153331.,   56752.,   51794.,   67038.,   80184.,   48670.,\n",
       "         11432.,   15311.,  329813.,   28337.,   22636.,  149013.,\n",
       "       1559178.,  428801.,   26020.,   54430.,  335673.,   54993.,\n",
       "        108509.,   22438.,   33869.,   16180.,  153326.,   57363.,\n",
       "         51771.,   67075.,   79837.,   15502.,  327458.,   29616.,\n",
       "        147373., 1563542.,  434835.,   26735.,   54974.,  337368.,\n",
       "         54981.,  109359.,   22400.,   33838.,   16270.,  153320.,\n",
       "         57983.,   51742.,   67057.,   79389.,   15607.,  326721.,\n",
       "         30192.,  146995., 1574216.,  447726.,   26689.,   56251.,\n",
       "         43987.,  348481.,   55934.,  112588.,   21800.,   34250.,\n",
       "         12751.,   16891.,  153233.,   59776.,   51752.,   67043.,\n",
       "         80866.,   15570.,  334911.,   31730.,  147259., 1579448.,\n",
       "        450644.,   26262.,   56112.,   43977.,  348891.,   55511.,\n",
       "        112809.,   22101.,   33758.,   16691.,  153321.,   59573.,\n",
       "         67031.,   79438.,   15453.,  336244.,   32101.,  145486.,\n",
       "       1583560.,  454425.,   26096.,   56353.,   43967.,  350884.,\n",
       "         55454.,  113101.,   21852.,   33481.,   16645.,  153299.,\n",
       "         59538.,   51702.,   66894.,   78973.,   15654.,  338052.,\n",
       "         32838.,  144233., 1586343.,  455427.,   26180.,   56818.,\n",
       "         43968.,  353530.,   55681.,  113983.,   21734.,   32934.,\n",
       "         12755.,   16886.,  153293.,   60252.,   66851.,   78744.,\n",
       "         15614.,  339843.,   33582.,  144188., 1585467.,  454815.,\n",
       "         25801.,   56282.,   43964.,  351692.,   55792.,  113909.,\n",
       "         21573.,   32598.,   16725.,   59921.,   47102.,   66806.,\n",
       "         78064.,   15540.,  337042.,   33886.,  142925., 1581770.,\n",
       "        453178.,   25387.,   55767.,   43949.,  348130.,   55238.,\n",
       "        113378.,   21097.,   32183.,   12756.,   16463.,  153301.,\n",
       "         59179.,   47078.,   66738.,   77214.,   15343.,  333117.,\n",
       "         33873.,  139944., 1583135.,  454934.,   25033.,   54952.,\n",
       "         45645.,  343883.,   54649.,  112363.,   21022.,   31505.,\n",
       "         13143.,   16282.,  152433.,   58262.,   47518.,   66274.,\n",
       "         76280.,   48441.,   11414.,   16215.,  328809.,   33813.,\n",
       "         22291.,  137857., 1575978.,  455785.,   25192.,   55024.,\n",
       "         48539.,  345157.,   54754.,  112291.,   21245.,   31349.,\n",
       "         16043.,   16352.,  151797.,   58435.,   47721.,   66307.,\n",
       "         76026.,   48653.,   11419.,   17553.,  335267.,   34110.,\n",
       "         21948.,  137093., 1562533.,  450155.,   24380.,   53321.,\n",
       "         49219.,  340212.,   52957.,  108907.,   21021.,   30128.,\n",
       "         16051.,   15864.,  150120.,   56933.,   54458.,   65264.,\n",
       "         73828.,   48272.,   11303.,   17862.,  325577.,   32820.,\n",
       "         21840.,  131739., 1568881.,  447637.,   51070.,  337825.,\n",
       "         52883.,  108900.,   20894.,   15957.,  148979.,   47767.,\n",
       "         64920.,   73841.,   48161.,   11306.,   18956.,  324101.,\n",
       "         21618.,  131740., 1567685.,  445569.,   24126.,   52971.,\n",
       "         51066.,  336841.,   52565.,  107883.,   20774.,   29765.,\n",
       "         15826.,   15663.,  148970.,   56597.,   47790.,   64886.,\n",
       "         73131.,   18927.,  322662.,   32567.,  129717.])"
      ]
     },
     "execution_count": 427,
     "metadata": {},
     "output_type": "execute_result"
    }
   ],
   "source": [
    "acc_tecyprov['ADSL'].unique() "
   ]
  },
  {
   "cell_type": "code",
   "execution_count": 428,
   "metadata": {},
   "outputs": [
    {
     "data": {
      "text/plain": [
       "array([2728865, 1217225,   15517,   64546,   66667,  501799,   79093,\n",
       "        138986,   15927,   60616,   58978,   59228,   74145,   91752,\n",
       "         73200,   45366,   98667,   14449,   11296,   23420,  444609,\n",
       "         87979,   38700,   62396, 2706506, 1205128,   13858,   63145,\n",
       "         57412,  487489,   71183,  133387,   15111,   60511,   58000,\n",
       "         56651,   71553,   92068,   72761,   44495,   99808,   13102,\n",
       "         11064,   22902,  444373,   86563,   38148,   59022, 2595485,\n",
       "       1192107,   11709,   63659,   55794,  477223,   69403,  128752,\n",
       "         14111,   60758,   57881,   54744,   71247,   89469,   73794,\n",
       "         44519,   98318,   12922,   11884,   22961,  443156,   85535,\n",
       "         36958,   53868, 2503830, 1175097,    9426,   62948,   41497,\n",
       "        467782,   67262,  124957,   12509,   60800,   57014,   54255,\n",
       "         70834,   87861,   72690,   43761,   96016,   12369,   11308,\n",
       "         22967,  431915,   83770,   22504,   48359, 2452056, 1145093,\n",
       "          4409,   61251,   40960,  444695,   62876,  118424,   11412,\n",
       "         54324,   58711,   34984,   69295,   82339,   70457,   42192,\n",
       "         89187,   11589,   10678,   23089,  421480,   75849,   27247,\n",
       "         12185, 2441248, 1142528,    5115,   61200,   39756,  439322,\n",
       "         61495,  113670,   10789,   52815,   58945,   68364,   79855,\n",
       "         70614,   42022,   87817,    7004,   11767,   19657,  414746,\n",
       "         70522,   26439,   11150, 2384557, 1129573,    3690,   58825,\n",
       "         39386,  430771,   58681,  106950,   10003,   57682,   56845,\n",
       "         64672,   77989,   70446,   40001,   84128,    9223,   10077,\n",
       "         16098,  405807,   70720,   26491,   11752, 2244277, 1106133,\n",
       "          3641,   56017,   38279,  415007,   55536,   99423,    9353,\n",
       "         38938,   54422,   62941,   74497,   67990,   39650,   81740,\n",
       "          8275,    8357,   16044,  381679,   72074,   26025,    9833,\n",
       "       2210349, 1097635,    3146,   54144,   27287,  406109,   53231,\n",
       "         95434,    8887,   53755,   50251,   69452,   65951,   38479,\n",
       "         75593,    6448,    7612,   15766,  383673,   70424,   25632,\n",
       "         10494, 2191672, 1093143,    3318,   53602,   26977,  410038,\n",
       "         51845,   99206,    8684,   37604,   56854,   49711,   69676,\n",
       "         60970,   37933,   76062,    6338,    8027,   15899,  382254,\n",
       "         71239,   26821,   11012, 2144956, 1080973,    5543,   49156,\n",
       "         27090,  399231,   50230,   96305,    8359,   35742,   52941,\n",
       "         54312,   65872,   60484,   37425,   74329,    7425,   10561,\n",
       "         17056,  377171,   71198,   26659,   12089, 2079900, 1061358,\n",
       "         47448,   26338,  388254,   47431,   91081,    8686,   30742,\n",
       "         52101,   54027,   64272,   59021,   36527,   62343,   10298,\n",
       "         10257,  355140,   64783,   25527, 2020730, 1030814,    4443,\n",
       "         43555,   23065,  363959,   43444,   90253,    7878,   12484,\n",
       "         57373,   40205,   59214,   55634,   34124,   57933,    5838,\n",
       "          7784,    4615,  340344,   61547,   23549,   11670, 1949637,\n",
       "       1019490,  355716,   42418,   86198,    7880,   55337,   53673,\n",
       "         34292,   57539,  322782,   61243,   23349, 1929273, 1009252,\n",
       "         42359,  342401,   41300,   83714,    7589,   10856,   54574,\n",
       "         50793,   54129,   33474,   53980,    4574,  312866,   58789,\n",
       "         22649,    9280, 1807868,  977916,    4415,   40750,   19591,\n",
       "        327636,   39715,   80376,    7311,   53587,   36872,   47923,\n",
       "         52855,   32795,   53478,    5068,    7666,    4474,  304349,\n",
       "         55935,   22756,    8965, 1793884,  968483,   40157,  326894,\n",
       "         35225,   75751,    7095,   10456,   51389,   46880,   55072,\n",
       "         31712,   51534,    7594,  300421,   54594,    9663,    8921,\n",
       "       1718013,  961688,     263,   39690,   15097,  324709,   34722,\n",
       "         73692,    6973,    9626,   50495,   16114,   47470,   54119,\n",
       "         30451,   50446,     451,    1119,    1668,  293831,   40407,\n",
       "          6906,    5223, 1571180,  941092,    4411,   37307,    5645,\n",
       "        319360,   33993,   69596,    6816,    9395,   49679,   33788,\n",
       "         43880,   52468,   30018,   50284,    7576,    5487,  290655,\n",
       "         54096,    7012,    6431, 1535037,  932466,     255,   35613,\n",
       "          1067,  303488,   33192,   67650,    6410,    8858,   48310,\n",
       "             0,   13030,   42925,   50283,   29147,   27280,    1120,\n",
       "          2722,  228102,    3900,    6905, 1465817,  918328,     248,\n",
       "         34277,     999,  293479,   31994,   65095,    6215,    9278,\n",
       "         47195,   40142,   48109,   28785,   26845,  226094, 1414676,\n",
       "        914952,     250,   33534,     955,  289344,   31497,   64141,\n",
       "          6061,    8731,   47245,   39294,   46389,   28474,   26657,\n",
       "        225792,    4482, 1355770,  905105,   32730,     935,  285480,\n",
       "         30813,   61850,    5905,    8236,   45952,   38130,   44739,\n",
       "         28496,   26113,    1113,  223011,    6276,    3850, 1305949,\n",
       "        892209,     245,   31825,     867,  277615,   29845,   58768,\n",
       "          5658,    7374,   44654,   36145,   42370,   28100,   24719,\n",
       "          1063,  219088,    5707,    2968, 1200859,  832126,     243,\n",
       "         29994,     834,  252346,   28491,   54948,    5420,    6751,\n",
       "         41881,   33330,   36122,   27312,   22741,    1042,    2723,\n",
       "        204816,    4834,    2165, 1223603,  879950,     242,   29456,\n",
       "           811,  266062,   28178,   53411,    5314,    6933,   42705,\n",
       "         32533,   38902,   27221,   22446,    1025,  212911,    4365,\n",
       "          4301,    1653, 1183894,  871262,   28809,     792,  264055,\n",
       "         27604,   51945,    5264,    6895,   41886,   31635,   36620,\n",
       "         27130,   21688,    2718,  209673,    8085,    1135, 1141052,\n",
       "        858342,   27809,     762,  255596,   26553,   49767,    5164,\n",
       "          5482,   40825,   29283,   34183,   26268,   20297,    2707,\n",
       "        204685,    7927,     479, 1096836,  841743,     241,   26161,\n",
       "           717,  247564,   25372,   47411,    4951,    5048,   39571,\n",
       "         26836,   32152,   25217,   19781,    2700,  199037,    7924,\n",
       "           115, 1070135,  840224,   10918,     697,  240452,    9526,\n",
       "         23027,    4896,    4583,   34281,   18613,   31778,   23703,\n",
       "         17289,     926,     448,  183009,    4231,    3664,      97,\n",
       "       1110628,  833402,     244,   10336,     668,  240334,    9184,\n",
       "         22440,    4836,    3541,   33940,   18373,   30964,   26590,\n",
       "         18394,     925,     492,  183630,    3469, 1025490,  828411,\n",
       "          9870,     649,  234729,    8680,   21706,    4628,    4161,\n",
       "         32600,   17594,   29776,   24944,   17504,  178495,    3008,\n",
       "       1000879,  820161,      46,    9497,     539,  225769,    8279,\n",
       "         21379,    4548,    4030,   31305,   12076,   17191,   28161,\n",
       "         24156,   17538,     434,     428,     100,  174296,    3598,\n",
       "          2837,      83], dtype=int64)"
      ]
     },
     "execution_count": 428,
     "metadata": {},
     "output_type": "execute_result"
    }
   ],
   "source": [
    "acc_tecyprov['Cablemodem'].unique() "
   ]
  },
  {
   "cell_type": "code",
   "execution_count": 429,
   "metadata": {},
   "outputs": [
    {
     "data": {
      "text/plain": [
       "array([1242121,   62308,   29118,   36662,    9184,  235838,   10875,\n",
       "         23091,    5146,   25949,   21739,    9546,  123228,   25178,\n",
       "         24193,   38037,   40994,   11294,      31,   10766,  146552,\n",
       "          1093,     416,   86174, 1176024,   60005,   25100,   34688,\n",
       "          9655,  217214,   10138,   23452,    5151,   24156,   20192,\n",
       "          9446,  109667,   22035,   23253,   32212,   39555,   11072,\n",
       "            30,   10031,  128856,    1088,     426,   78790,  885613,\n",
       "         42966,   22331,   27583,    8946,  167495,    7542,   20485,\n",
       "          4730,   19926,   17817,    9444,   70579,   10969,   16455,\n",
       "         18725,   36126,    6670,      27,    6328,   93412,     909,\n",
       "             6,   70964,  854173,   41318,   27584,    6081,  151855,\n",
       "          3731,   17856,    3610,   19611,   17132,    9445,   44696,\n",
       "         10376,   15619,   18727,   32050,    6673,      28,   90424,\n",
       "         71683,  821597,   39980,   18688,   25426,    3444,  134634,\n",
       "          3337,   16846,    2562,   17322,   15779,       1,   38619,\n",
       "          7064,   14171,   17828,   31498,    6671,    5975,   70976,\n",
       "           570,   69954,  804991,   39890,   23687,    3040,  125620,\n",
       "          3146,   15653,    2432,   15639,   15432,   36083,    6589,\n",
       "         13732,   17826,   30604,    6599,    1041,   62692,   68043,\n",
       "        749087,   39417,   16857,   20675,    2897,  102217,    2960,\n",
       "         13954,    2000,   11112,   14677,   32817,    2572,   11043,\n",
       "         10381,   25445,    5509,    1027,   45721,     555,       0,\n",
       "         59949,  723072,   39482,   14878,   17266,    1324,   85818,\n",
       "          3144,    1882,    5057,   14232,   29613,    2579,   11037,\n",
       "         10382,   24289,   46698,     355,   55120,  720688,   38898,\n",
       "         12056,   11958,   68512,    2172,   13245,    1800,    3078,\n",
       "         13821,   28059,    1220,   11031,   23025,    5508,       5,\n",
       "          1026,   35123,     200,   44687,  669194,   35534,    9506,\n",
       "          8831,   53335,    2002,   12875,    1760,     873,    4942,\n",
       "         24989,     847,   10549,    9658,   21865,    4931,    1036,\n",
       "         27464,   39574,  425386,   24900,      13,    8063,    1917,\n",
       "         30064,    1888,   12888,    1476,     274,    4994,      11,\n",
       "          6865,     829,    5560,    9739,     733,    1227,     350,\n",
       "           969,   18690,     219,     651,     116,  382971,   36082,\n",
       "          4203,   23023,    1701,   12764,    1382,    4840,     543,\n",
       "          4983,    4037,     725,    1174,     347,     379,   18236,\n",
       "        336362,   32281,      16,    1951,    1923,   19902,    1615,\n",
       "         12723,     940,     153,    2891,      12,    5662,     465,\n",
       "          3114,    3994,     647,     808,     378,     382,   15621,\n",
       "            23,    1623,     118,  296102,   33042,    1940,     952,\n",
       "         17675,     796,    4853,     887,    2685,    5665,    3115,\n",
       "          1299,     638,     806,   14387,     119,  156382,   35694,\n",
       "            15,    1990,    1239,   15785,     212,    2403,     817,\n",
       "            32,    8437,    5744,     512,     998,    1252,     678,\n",
       "           826,     368,     585,   11749,    1502,     110,  143626,\n",
       "         35610,     562,   13832,     201,    2405,      18,    8420,\n",
       "          3084,   11354,     531,  133928,   35535,     383,    1194,\n",
       "         13178,     888,    3789,      17,    8386,    3086,     328,\n",
       "          1000,    1251,    1799,   10674,     107,  131181,   36277,\n",
       "           389,    1187,   12778,     894,    1894,      19,      20,\n",
       "          8272,      14,    3015,      95,    1017,    1250,     127,\n",
       "           812,     335,     582,   10602,     530,     105,  124920,\n",
       "         33481,     456,    1217,   10579,     947,    1786,     428,\n",
       "          5153,    2772,    1044,    1106,     816,    1544,    6338,\n",
       "           622,     106,  119132,   38628,     458,     916,    4451,\n",
       "           258,     254,      22,    5194,    2581,     103,    1133,\n",
       "           961,     115,     772,     354,    1365,    3234,     665,\n",
       "        118839,   38259,     252,    4871,     236,     230,     101,\n",
       "          1124,     954,     114,    1272,    3210,  118747,   38161,\n",
       "           248,    3368,     233,     226,    5054,     100,    1055,\n",
       "          3201,  113463,   36796,     232,    2540,     217,     206,\n",
       "             9,    4910,    2576,      79,     942,      90,     770,\n",
       "          3037,  113070,   36669,     221,    1709,     203,     169,\n",
       "          4708,      77,     939,      85,     396,    2981,  111231,\n",
       "         36332,     211,     674,     192,     146,    4536,      70,\n",
       "          1085,     937,      73,    3014,  103269,   19818,     186,\n",
       "           480,     177,     122,       4,    4327,      48,    1048,\n",
       "           915,      47,    2885,  113590,   30974,    1450,     176,\n",
       "             2,    4078,      46,    1045,     917,    4169,  115660,\n",
       "         19786,     179,     435,     157,    3719,      37,    2877,\n",
       "        134177,   19334,     164,     906,     415,     129,     108,\n",
       "          3215,    2542,    1024,     907,     755,     351,     392,\n",
       "          2845,     657,  120528,   17155,     891,     419,      40,\n",
       "            57,     514,    2534,    1014,     901,     740,     388,\n",
       "          3205,     655,  124474,   17886,      29,     882,     444,\n",
       "           538,    2512,      43,     731,     385,    4407,     650,\n",
       "           117,  120008,   17729,     866,      49,     513,    2480,\n",
       "           997,     876,      45,     722,     381,    3085,     648,\n",
       "           121,  120960,   17767,    3059], dtype=int64)"
      ]
     },
     "execution_count": 429,
     "metadata": {},
     "output_type": "execute_result"
    }
   ],
   "source": [
    "acc_tecyprov['Fibra óptica'].unique() "
   ]
  },
  {
   "cell_type": "code",
   "execution_count": 430,
   "metadata": {},
   "outputs": [
    {
     "data": {
      "text/plain": [
       "array([125521,   5784,   1328,   8164,  30592,  60843,   6774,  26098,\n",
       "        16876,   4662,  19903,   6395,  26969,   7807,  23098,  16815,\n",
       "         5950,  20723,  71809,   3974,  45261,   6349,    124,   3995,\n",
       "       126887,   5679,   1512,   8005,  28041,  61277,   6778,  25022,\n",
       "        16018,   2927,  19286,   6613,  24666,   7649,  21531,  16558,\n",
       "         5882,  11423,  70560,   4346,  43556,   6256,   2511, 120228,\n",
       "         6059,   1568,   8018,  23376,  57617,   6766,  23500,  15690,\n",
       "         2952,  14479,  21811,   7198,  19270,  15031,   5724,  11372,\n",
       "        68856,   4269,  43447,   6147,     16,   2408, 113546,   5580,\n",
       "         1449,  23682,  55944,   6557,  23786,   2731,  13209,   6245,\n",
       "         5317,  19218,  66860,  43997,   5081,     14,   1837,  98806,\n",
       "         5559,    322,   8004,  23723,  54137,   5949,  20836,  15669,\n",
       "         2677,  12369,    250,  18332,   4796,  17752,  13994,   5669,\n",
       "        11482,  63826,   4264,  39140,   5158,      0,   1834,  93444,\n",
       "         4815,   7997,  23363,  52827,   5626,  20206,  15341,   1077,\n",
       "        12194,  18331,   4359,  17689,   5858,  10468,  63019,   4659,\n",
       "        38712,   5169,  94162,   3936,    261,   6706,  23216,  48368,\n",
       "         5513,  20379,  15023,    952,  11893,  17523,   3445,  16787,\n",
       "        13187,   5764,  14023,  61828,   6938,  37112,   4185,   1808,\n",
       "        91736,   3937,   6452,  17678,  44522,   3927,  20042,  14723,\n",
       "        11314,  15924,   3319,  15755,  11331,   5123,   7019,  60935,\n",
       "         6585,  30487,   3038,   1357,  85443,   3911,   6239,  16885,\n",
       "        41617,   2437,  18737,  14510,    942,  11295,    251,  12465,\n",
       "          460,  14711,  11222,   4125,   7082,  58301,   6817,  30488,\n",
       "         2779,   1355,  87111,   3914,   5229,  15267,  37750,   2458,\n",
       "        18561,  14531,    814,  11341,  13672,    441,  14246,  11437,\n",
       "         3040,   7241,  55266,   6800,  26978,   2810,    725,  85572,\n",
       "         3895,    244,   5224,  15149,  37277,  18530,  14292,    812,\n",
       "        11462,  12975,    419,  13512,  10806,   1580,  62286,   6544,\n",
       "        24269,   2759,    684,  75240,   3962,    146,   4727,  14443,\n",
       "        33847,   2444,  17369,  10789,  12748,    421,  12792,  10485,\n",
       "         1210,   2870,  57242,   6514,  21980,  64867,   3978,   3628,\n",
       "        24615,   1528,  16231,  13761,    640,   9023,    252,  10363,\n",
       "          426,  12510,   9736,   1135,   2932,  53097,  23215,   2847,\n",
       "          678,  65477,   3236,  21851,   1515,  15472,   7772,  12425,\n",
       "         8037,    253,   2883,   6378,  18705,   2649,    686,  62318,\n",
       "         3872,      1,   2628,  13817,  19213,   1468,  15093,  13625,\n",
       "          641,   7011,   8195,    391,  12277,   5051,    234,   2744,\n",
       "        52859,   6238,  16337,   1662,  71256,   3908,   1946,  14070,\n",
       "        16355,  12313,   6206,  12649,   4396,   3079,   6734,  15801,\n",
       "        64379,   3164,    388,  13237,   1334,  10776,   1603,     28,\n",
       "        10556,      5,  12404,   4259,    204,   2246,  11636,   1432,\n",
       "          368,  60082,   3119,    380,  12043,  10267,  10569,    158,\n",
       "           17,   4638,  10965,   1025,    102,  35058,   2814,     36,\n",
       "        13503,   7137,   2202,     23,  11536,     29,  11576,   3054,\n",
       "         1053,     26,   4552,   4897,    911,     40,  21555,   2819,\n",
       "           52,  13194,   6446,   1354,   6448,   1023,   6253,      2,\n",
       "           27,  11545,   3213,   1073,   4735,   4958,  21200,   2730,\n",
       "         5782,  11665,   4733,   4948,  21394,   2583,  13107,   5686,\n",
       "        11910,   3274,   1121,   4823,   4946,  18867,   2514,  13364,\n",
       "         5695,   6441,   6236,  12402,   3293,    157,   1174,   4978,\n",
       "         4862,      3,     53,  21163,   2390,  13293,   5610,   6434,\n",
       "         6225,  12466,   3300,    151,   1214,     30,   4996,   4744,\n",
       "           58,  21108,   2284,  13280,   5636,   6425,   6209,     34,\n",
       "        12502,   3341,    132,   1195,   5088,   4686,     74,  20397,\n",
       "         2273,  13521,   5613,   6427,   6205,     38,  12934,   3407,\n",
       "          129,   1230,   5261,   4596,   1139,     88,  19989,   2229,\n",
       "        13408,   5412,   1340,   6261,    899,   6195,     42,  13051,\n",
       "         3415,   1231,     31,   5226,   4426,   1097,  19268,   2172,\n",
       "        13055,   5199,   1321,   6031,    737,   6190,  12781,   3457,\n",
       "         1189,     33,   4917,   4320,   1091,  18754,   1994,  12540,\n",
       "         4645,   1319,   5943,    670,   6164,  12088,   3473,   1165,\n",
       "         4772,   4239,   1020,  17728,   1962,  12256,   3918,   1315,\n",
       "         5178,     37,   5894,    150,  11853,   3819,      6,   1202,\n",
       "           24,   4395,   6282,    920,     13,  20049,   1995,   4064,\n",
       "         1312,   5203,  11219,  12858,   3533,    109,   1199,     25,\n",
       "         4273,   6540,    768,  17020,   1883,  10960,   3673,   1309,\n",
       "         4795,   5869,  10765,   3657,      7,     22,   4118,   6041,\n",
       "          907,  16528,   1866,   3585,   1306,   4887,   5848,  10381,\n",
       "         3576,      8,    808,     21,   4092,   5951,    915],\n",
       "      dtype=int64)"
      ]
     },
     "execution_count": 430,
     "metadata": {},
     "output_type": "execute_result"
    }
   ],
   "source": [
    "acc_tecyprov['Wireless'].unique() "
   ]
  },
  {
   "cell_type": "code",
   "execution_count": 431,
   "metadata": {},
   "outputs": [
    {
     "data": {
      "text/plain": [
       "array([6.6872e+04, 2.9934e+04, 2.2340e+03, 2.3560e+03, 2.1052e+04,\n",
       "       9.7130e+03, 5.3740e+03, 1.2592e+04, 2.0200e+02, 3.9750e+03,\n",
       "       1.1090e+03, 3.1000e+01, 1.3790e+03, 7.6240e+03, 7.4500e+02,\n",
       "       1.8494e+04, 7.1900e+03, 7.6740e+03, 2.8721e+04, 4.0500e+02,\n",
       "       2.0571e+04, 2.9220e+03, 3.4000e+02, 4.8700e+02, 7.3415e+04,\n",
       "       2.9947e+04, 2.2350e+03, 2.3590e+03, 1.8839e+04, 8.7790e+03,\n",
       "       5.2900e+03, 1.2726e+04, 1.7200e+02, 3.9910e+03, 1.3540e+03,\n",
       "       1.8590e+03, 7.6020e+03, 7.4600e+02, 1.8451e+04, 7.1880e+03,\n",
       "       8.4930e+03, 2.8723e+04, 4.1700e+02, 1.6229e+04, 3.4200e+02,\n",
       "       4.8600e+02, 6.4554e+04, 2.9371e+04, 2.2330e+03, 2.3530e+03,\n",
       "       1.8681e+04, 1.5178e+04, 5.3030e+03, 1.3195e+04, 1.7100e+02,\n",
       "       3.9680e+03, 1.2950e+03, 3.0000e+01, 8.2800e+02, 7.6620e+03,\n",
       "       6.4000e+02, 1.8376e+04, 6.4530e+03, 8.4470e+03, 2.8680e+04,\n",
       "       3.0710e+03, 1.5640e+04, 2.9280e+03, 3.9000e+02, 7.4300e+02,\n",
       "       5.7547e+04, 1.8706e+04, 1.5519e+04, 1.3197e+04, 8.2700e+02,\n",
       "       3.6205e+04, 1.7523e+04, 3.5960e+03, 3.1600e+02, 5.7864e+04,\n",
       "       2.9236e+04, 1.8750e+03, 1.8712e+04, 1.7065e+04, 1.2169e+04,\n",
       "       3.8000e+02, 3.8790e+03, 1.3000e+03, 8.3300e+02, 6.8960e+03,\n",
       "       6.3200e+02, 1.8377e+04, 6.4520e+03, 8.4530e+03, 1.7519e+04,\n",
       "       7.4000e+02, 5.7927e+04, 2.9237e+04, 1.7536e+04, 3.4700e+03,\n",
       "       1.3150e+03, 2.9700e+03, 1.7392e+04, 5.5541e+04, 2.9374e+04,\n",
       "       2.2280e+03, 2.0030e+03, 1.8767e+04, 9.7560e+03, 5.3790e+03,\n",
       "       1.2320e+04, 3.9300e+02, 4.3710e+03, 1.3050e+03, 3.5000e+01,\n",
       "       8.6800e+02, 8.9850e+03, 7.3700e+02, 1.8368e+04, 7.2930e+03,\n",
       "       8.4800e+03, 3.6253e+04, 2.3730e+03, 1.9307e+04, 3.6130e+03,\n",
       "       3.1000e+02, 7.6200e+02, 5.7189e+04, 2.9373e+04, 1.5810e+03,\n",
       "       5.6140e+03, 8.2630e+03, 5.0110e+03, 1.1303e+04, 1.6900e+02,\n",
       "       1.6664e+04, 1.2900e+03, 8.0200e+02, 9.1530e+03, 1.1340e+03,\n",
       "       1.8367e+04, 7.1080e+03, 8.8820e+03, 2.3680e+03, 1.9094e+04,\n",
       "       4.0630e+03, 1.8334e+04, 2.8556e+04, 2.2270e+03, 1.5800e+03,\n",
       "       5.4790e+03, 8.6930e+03, 5.0040e+03, 1.4062e+04, 1.6641e+04,\n",
       "       1.8020e+03, 2.9000e+01, 7.2200e+02, 1.0962e+04, 7.2900e+02,\n",
       "       1.8362e+04, 7.2120e+03, 5.1010e+03, 3.6333e+04, 1.9468e+04,\n",
       "       4.6570e+03, 3.0800e+02, 3.4700e+02, 1.8266e+04, 2.8576e+04,\n",
       "       5.4890e+03, 1.5407e+04, 1.8050e+03, 7.3000e+02, 1.1733e+04,\n",
       "       8.5400e+02, 1.8365e+04, 8.2060e+03, 5.1040e+03, 2.3710e+03,\n",
       "       2.0401e+04, 3.4800e+02, 2.7070e+04, 3.1155e+04, 2.2510e+03,\n",
       "       1.5920e+03, 7.5510e+03, 8.7010e+03, 4.8390e+03, 1.5432e+04,\n",
       "       1.6200e+02, 1.6638e+04, 1.9620e+03, 4.1000e+01, 1.5450e+03,\n",
       "       1.2270e+04, 2.5180e+03, 1.8847e+04, 9.3940e+03, 5.5350e+03,\n",
       "       3.6466e+04, 2.7380e+03, 2.1408e+04, 3.4400e+04, 1.4870e+03,\n",
       "       3.2400e+02, 3.2929e+04, 4.2810e+03, 1.5910e+03, 7.5450e+03,\n",
       "       1.5236e+04, 6.1380e+03, 1.7529e+04, 2.1857e+04, 3.0040e+03,\n",
       "       1.5440e+03, 1.2269e+04, 2.7370e+03, 1.9657e+04, 9.4630e+03,\n",
       "       6.8760e+03, 3.8368e+04, 2.7350e+03, 2.2708e+04, 3.4600e+04,\n",
       "       1.4860e+03, 3.2100e+02, 2.0201e+04, 3.0450e+03, 1.2367e+04,\n",
       "       5.8000e+01, 1.2241e+04, 6.2000e+01, 4.3622e+04, 1.0410e+03,\n",
       "       7.7170e+03, 2.3720e+03, 4.8570e+03, 1.8790e+03, 1.2070e+03,\n",
       "       2.3968e+04, 1.7860e+04, 9.9000e+01, 1.9814e+04, 4.2570e+03,\n",
       "       2.2120e+03, 1.1300e+03, 3.0470e+03, 1.3243e+04, 1.4356e+04,\n",
       "       5.7000e+01, 4.3608e+04, 1.0100e+03, 3.6000e+01, 1.5470e+03,\n",
       "       6.2090e+03, 2.4440e+03, 4.8320e+03, 1.8530e+03, 1.2110e+03,\n",
       "       2.3964e+04, 2.7340e+03, 2.8997e+04, 8.1000e+01, 1.4990e+03,\n",
       "       3.1400e+02, 2.6448e+04, 9.3190e+03, 2.2140e+03, 1.1290e+03,\n",
       "       6.7280e+03, 1.0839e+04, 3.2000e+01, 8.0000e+01, 4.3000e+01,\n",
       "       9.8700e+02, 1.8520e+03, 5.6000e+01, 2.7120e+03, 5.1250e+03,\n",
       "       1.3910e+03, 1.0480e+03, 2.3140e+03, 3.9960e+03, 1.5022e+04,\n",
       "       2.0470e+03, 3.1500e+02, 2.7746e+04, 9.3210e+03, 6.7290e+03,\n",
       "       1.0109e+04, 2.7130e+03, 3.9970e+03, 1.5114e+04, 3.1194e+04,\n",
       "       9.3930e+03, 1.1275e+04, 3.3000e+01, 1.9260e+03, 5.1280e+03,\n",
       "       2.7830e+03, 1.5298e+04, 5.0000e+01, 3.1448e+04, 9.8770e+03,\n",
       "       2.2000e+03, 1.1210e+03, 6.7080e+03, 1.0739e+04, 8.6000e+01,\n",
       "       5.1000e+01, 3.4000e+01, 1.9270e+03, 1.9200e+03, 5.4000e+01,\n",
       "       2.6920e+03, 5.1140e+03, 1.3760e+03, 1.0360e+03, 2.3290e+03,\n",
       "       3.9500e+03, 1.5382e+04, 2.0450e+03, 3.1900e+02, 3.8777e+04,\n",
       "       9.7230e+03, 2.1810e+03, 1.0720e+03, 6.8200e+03, 1.4988e+04,\n",
       "       2.7000e+01, 6.3000e+01, 1.2000e+01, 8.0000e+00, 1.9440e+03,\n",
       "       2.5000e+01, 1.8660e+03, 9.0000e+00, 2.6950e+03, 4.0170e+03,\n",
       "       1.1670e+03, 1.0130e+03, 2.3630e+03, 2.8870e+03, 3.7499e+04,\n",
       "       2.2440e+03, 3.0500e+02, 2.4358e+04, 1.1016e+04, 3.9000e+01,\n",
       "       4.8040e+03, 1.5050e+03, 7.1000e+01, 1.3000e+01, 5.1100e+02,\n",
       "       2.8000e+01, 1.7840e+03, 2.6780e+03, 1.2600e+03, 8.0400e+02,\n",
       "       9.1500e+02, 3.7500e+02, 2.2550e+03, 1.1730e+03, 2.3500e+03,\n",
       "       4.5000e+01, 2.4342e+04, 1.0928e+04, 4.7930e+03, 1.3940e+03,\n",
       "       5.1700e+02, 1.7690e+03, 2.6700e+03, 1.2610e+03, 6.7900e+02,\n",
       "       9.0700e+02, 2.2570e+03, 1.1720e+03, 7.8900e+02, 5.2200e+02,\n",
       "       6.2100e+02, 2.4276e+04, 1.0963e+04, 1.8000e+01, 1.5000e+01,\n",
       "       4.7500e+03, 3.9500e+02, 2.2000e+01, 6.4000e+01, 2.0000e+00,\n",
       "       5.1500e+02, 1.7570e+03, 7.0000e+00, 2.6170e+03, 1.2520e+03,\n",
       "       5.6500e+02, 9.0300e+02, 3.7100e+02, 2.1700e+03, 1.1900e+03,\n",
       "       2.3470e+03, 2.5661e+04, 1.2672e+04, 4.8030e+03, 1.0890e+03,\n",
       "       1.9300e+02, 1.4000e+01, 5.4700e+02, 1.8680e+03, 2.8490e+03,\n",
       "       1.3340e+03, 5.3900e+02, 9.0800e+02, 3.7700e+02, 2.5860e+03,\n",
       "       1.4170e+03, 4.9000e+01, 2.5757e+04, 1.2729e+04, 3.8600e+02,\n",
       "       5.4900e+02, 1.8710e+03, 2.8500e+03, 1.3380e+03, 5.0700e+02,\n",
       "       2.4260e+03, 1.4280e+03, 2.5773e+04, 1.2758e+04, 3.8500e+02,\n",
       "       1.9400e+02, 3.7400e+02, 1.8740e+03, 2.8520e+03, 1.3280e+03,\n",
       "       5.5400e+02, 2.4090e+03, 1.4370e+03, 2.5825e+04, 1.2788e+04,\n",
       "       3.8900e+02, 4.7000e+01, 1.9700e+02, 5.5700e+02, 1.8800e+03,\n",
       "       2.7980e+03, 1.3460e+03, 6.4500e+02, 2.3910e+03, 2.6040e+04,\n",
       "       1.2806e+04, 5.6200e+02, 1.8820e+03, 2.7990e+03, 1.3480e+03,\n",
       "       5.8000e+02, 2.4000e+03, 1.3890e+03, 2.8940e+04, 1.4716e+04,\n",
       "       5.4650e+03, 4.5000e+02, 2.4500e+02, 6.0400e+02, 2.1260e+03,\n",
       "       2.9600e+03, 1.4620e+03, 5.7400e+02, 1.0070e+03, 4.1200e+02,\n",
       "       2.5620e+03, 1.5070e+03, 2.5830e+03, 1.0000e+02, 3.2038e+04,\n",
       "       1.5394e+04, 4.4000e+01, 6.1590e+03, 7.5000e+01, 2.6000e+02,\n",
       "       6.5000e+01, 1.1000e+01, 6.4800e+02, 2.2220e+03, 3.0300e+03,\n",
       "       1.5300e+03, 5.7800e+02, 1.0730e+03, 4.2300e+02, 2.9290e+03,\n",
       "       1.6340e+03, 3.7000e+01, 2.7220e+03, 1.0500e+02, 3.1881e+04,\n",
       "       1.4387e+04, 5.9000e+01, 6.5150e+03, 1.3500e+02, 6.7700e+02,\n",
       "       3.0870e+03, 1.1260e+03, 4.3800e+02, 3.0980e+03, 7.3300e+02,\n",
       "       2.8320e+03, 3.3147e+04, 1.4555e+04, 6.9740e+03, 5.5000e+01,\n",
       "       1.3300e+02, 7.8000e+01, 6.8900e+02, 2.2820e+03, 2.9830e+03,\n",
       "       1.5600e+03, 5.7700e+02, 4.4800e+02, 3.2660e+03, 6.3600e+02,\n",
       "       2.9340e+03, 9.8000e+01, 3.3824e+04, 3.6800e+02, 7.0100e+02,\n",
       "       3.0510e+03, 1.5720e+03, 5.6800e+02, 3.2640e+03, 6.4400e+02])"
      ]
     },
     "execution_count": 431,
     "metadata": {},
     "output_type": "execute_result"
    }
   ],
   "source": [
    "acc_tecyprov['Otros'].unique() "
   ]
  },
  {
   "cell_type": "code",
   "execution_count": 432,
   "metadata": {},
   "outputs": [
    {
     "data": {
      "text/plain": [
       "array([4555424., 1417541.,   62378.,  144119.,  171628., 1003803.,\n",
       "        142578.,  267926.,   54548.,  116509.,  109732.,   84303.,\n",
       "        275185.,  171508.,  149679.,  157374.,  197515.,   88178.,\n",
       "        119844.,   49102.,  870479.,  116461.,   52611.,  245584.,\n",
       "       4509157., 1412119.,   59090.,  143745.,  160308.,  986770.,\n",
       "        135912.,  265046.,   53663.,  113915.,  107007.,   83128.,\n",
       "        267587.,  171132.,  147466.,  153753.,  199405.,   79958.,\n",
       "        118849.,   48486.,  866441.,  115861.,   52357.,  238639.,\n",
       "       4251609., 1413405.,   56254.,  139871.,  156066.,  946788.,\n",
       "        133819.,  260375.,   52795.,  111158.,  100487.,   82160.,\n",
       "        255939.,  158528.,  139809.,  144585.,  195833.,   79483.,\n",
       "        117864.,   48976.,  841584.,  115458.,   50223.,  232472.,\n",
       "       4132351., 1400355.,   55744.,  140729.,  139237.,  930880.,\n",
       "        129501.,  257632.,   51551.,  111848.,   97667.,   81602.,\n",
       "        229671.,  156176.,  138250.,  144084.,  191639.,   78933.,\n",
       "        122818.,   48982.,  840600.,  114090.,   35693.,  233051.,\n",
       "       4060002., 1379673.,   51968.,  139770.,  132340.,  910881.,\n",
       "        126625.,  251963.,   50686.,  110456.,   97105.,   52628.,\n",
       "        218923.,  149387.,  133235.,  141168.,  187574.,   78267.,\n",
       "        119154.,   46065.,  826127.,  111641.,   40422.,  231912.,\n",
       "       4033261., 1379530.,   52396.,  139091.,  130574.,  902701.,\n",
       "        125659.,  247381.,   50206.,  105851.,   96895.,   52778.,\n",
       "        215453.,  147161.,  133135.,  141210.,  187390.,   72596.,\n",
       "        119435.,   40674.,  820813.,  106669.,   39614.,  231089.,\n",
       "       3937277., 1372675.,   49904.,  133954.,  130027.,  867472.,\n",
       "        123391.,  241495.,   49209.,  106728.,   93735.,   52616.,\n",
       "        207788.,  143186.,  129235.,  131467.,  180846.,   77327.,\n",
       "        116565.,   39281.,  802998.,  105492.,   39655.,  223876.,\n",
       "       3777546., 1357821.,   47976.,  128132.,  108656.,  836468.,\n",
       "        118866.,  234113.,   47932.,   94316.,   89809.,   52155.,\n",
       "        201184.,  140340.,  126172.,  129486.,  177762.,   69777.,\n",
       "        113952.,   38869.,  777932.,  105447.,   39189.,  217156.,\n",
       "       3708051., 1353494.,   39635.,  120277.,   96738.,  811099.,\n",
       "        113970.,  231846.,   46434.,   91665.,   89226.,   48340.,\n",
       "        183452.,  133552.,  121727.,  126200.,  170381.,   64231.,\n",
       "        110552.,   38822.,  771118.,  102755.,   38794.,  200067.,\n",
       "       3686254., 1358105.,   38311.,  117903.,   96102.,  806688.,\n",
       "        113834.,  239030.,   46711.,   88881.,   90399.,   49002.,\n",
       "        185780.,  135813.,  116445.,  127140.,  172445.,   64974.,\n",
       "        108201.,   39370.,  769169.,  103588.,   40392.,  198644.,\n",
       "       3960233., 1441211.,   32400.,  114451.,   89005.,  783053.,\n",
       "        112759.,  238102.,   46066.,   86576.,   90828.,   49677.,\n",
       "        224337.,  133883.,  125421.,  144295.,  151835.,   73098.,\n",
       "        122700.,   37970.,  760934.,  133132.,   48587.,  164131.,\n",
       "       3855698., 1415620.,   33635.,  108734.,   87556.,  775128.,\n",
       "        111549.,  235824.,   46438.,   86707.,   90205.,   50301.,\n",
       "        223857.,  132878.,  122953.,  138547.,  142568.,   70025.,\n",
       "        117385.,   30550.,  743484.,  126754.,   47454.,  166331.,\n",
       "       3746667., 1399600.,   33622.,  103677.,   79778.,  744115.,\n",
       "        102487.,  232447.,   45211.,   90147.,   89160.,   51656.,\n",
       "        206298.,  122720.,  114377.,  121088.,  136020.,   62445.,\n",
       "         96335.,   24905.,  737078.,   89853.,   46447.,  172002.,\n",
       "       3636606., 1389020.,   33583.,  103270.,   78722.,  737339.,\n",
       "        100601.,  222047.,   45204.,   90133.,   85636.,   51651.,\n",
       "        206304.,  116273.,  114365.,  116837.,  134578.,   62398.,\n",
       "         96331.,   24768.,  720390.,   89335.,   46260.,  172004.,\n",
       "       3610277., 1392490.,   34226.,  102033.,  103736.,  725858.,\n",
       "         99456.,  204608.,   44865.,   44935.,   83424.,   51872.,\n",
       "        207029.,  108042.,  116718.,  113492.,  132883.,   64481.,\n",
       "         74421.,   33999.,  695100.,   86360.,   45564.,  171166.,\n",
       "       3500699., 1369186.,   34089.,   98521.,  100564.,  713073.,\n",
       "         97957.,  199985.,   44554.,   45133.,   82421.,   51948.,\n",
       "        200952.,  106147.,  115848.,  112235.,  134167.,   64101.,\n",
       "         21468.,   34405.,  684552.,   83775.,   44707.,  169957.,\n",
       "       3475446., 1366570.,   33945.,   96937.,   97959.,  713926.,\n",
       "         94417.,  197394.,   32328.,   44406.,   83064.,   52245.,\n",
       "        200947.,  103580.,  111119.,  133183.,   63268.,   21396.,\n",
       "        680026.,   82918.,   31614.,  168057., 3181896., 1582324.,\n",
       "         29558.,   96615.,   93440.,  709979.,   93771.,  193703.,\n",
       "         32056.,   43552.,   82071.,   52194.,  180151.,  103895.,\n",
       "        116971.,  109764.,  132812.,   58624.,   14904.,   29452.,\n",
       "        672460.,   68844.,   28854.,  162332., 3057960., 1570359.,\n",
       "         33478.,   93759.,   83544.,  696644.,   92548.,  185464.,\n",
       "         32105.,   43242.,   79690.,   51913.,  192491.,  100476.,\n",
       "        115784.,  107496.,  132518.,   62449.,   21719.,   33690.,\n",
       "        662342.,   82794.,   31466.,  161012., 3078631., 1600191.,\n",
       "         26705.,   90611.,   63975.,  657638.,   90097.,  182732.,\n",
       "         29956.,   42657.,   73022.,   16289.,  170753.,   99794.,\n",
       "        117433.,  101619.,  108541.,   51881.,   13307.,   26388.,\n",
       "        567280.,   33196.,   32557.,  154411., 3189376., 1399046.,\n",
       "         26317.,   89050.,   63896.,  641199.,   88608.,  180353.,\n",
       "         29705.,   43203.,   71913.,   16225.,  170733.,   97619.,\n",
       "        115339.,  101288.,  107633.,   51873.,   26486.,  562882.,\n",
       "         34475.,  152771., 3142701., 1401459.,   27034.,   88847.,\n",
       "         63765.,  636555.,   88096.,  180245.,   29513.,   42625.,\n",
       "         71828.,   16316.,  170725.,   97390.,  113835.,  101020.,\n",
       "        106935.,   51921.,   26464.,  561832.,   35051.,  151652.,\n",
       "       3086592., 1403104.,   26970.,   89230.,   63952.,  642591.,\n",
       "         88340.,  181149.,   27716.,   42538.,   70364.,   16930.,\n",
       "        170624.,   97997.,  112603.,  101026.,  107791.,   13293.,\n",
       "         26257.,  567011.,   35660.,   31925.,  151319., 3045291.,\n",
       "       1394584.,   26556.,   88251.,   63856.,  634914.,   86956.,\n",
       "        178373.,   28802.,   41189.,   68888.,   16736.,  170824.,\n",
       "         95815.,  110515.,  100704.,  104932.,   52013.,   13256.,\n",
       "         26153.,  564474.,   36961.,   31359.,  148677., 2942515.,\n",
       "       1337896.,   26389.,   86651.,   63800.,  609926.,   85536.,\n",
       "        174813.,   28314.,   40289.,   65929.,   16691.,  170810.,\n",
       "         92958.,  104261.,   99822.,  102426.,   51994.,   13232.,\n",
       "         26287.,  551996.,   37698.,   30486.,  146637., 2959385.,\n",
       "       1370226.,   26472.,   86553.,   64019.,  626070.,   85435.,\n",
       "        174137.,   28089.,   39924.,   66366.,   16932.,  170807.,\n",
       "         92853.,  107416.,   99722.,  101920.,   52029.,   13218.,\n",
       "         26403.,  561672.,   39135.,   29953.,  146095., 2928765.,\n",
       "       1372068.,   26093.,   85370.,   63883.,  622998.,   84959.,\n",
       "        172434.,   27752.,   39550.,   65471.,   16771.,  170823.,\n",
       "         91622.,  100616.,   99614.,  100573.,   52030.,   13219.,\n",
       "         26271.,  556738.,   39397.,   33737.,  144314., 2883790.,\n",
       "       1346284.,   25679.,   83848.,   63485.,  609746.,   83316.,\n",
       "        169492.,   27050.,   37722.,   64052.,   16509.,   88519.,\n",
       "         97885.,   98727.,   98267.,   51988.,   13221.,   25763.,\n",
       "        546388.,   39378.,   33579.,  140677., 2861842., 1332721.,\n",
       "         25332.,   81360.,   65273.,  596957.,   81531.,  166070.,\n",
       "         26700.,   36611.,   62697.,   16333.,  170160.,   85146.,\n",
       "         95742.,   97333.,   96811.,   51819.,   26641.,  536437.,\n",
       "         39252.,   33456.,  138276., 2816407., 1330520.,   25493.,\n",
       "         66035.,   68542.,  590432.,   65710.,  140813.,   26207.,\n",
       "         36002.,   57380.,   16402.,  169614.,   77229.,   95396.,\n",
       "         96260.,   93947.,   52119.,   13147.,   25713.,  529397.,\n",
       "         39317.,   28990.,  137424., 2849565., 1317825.,   24686.,\n",
       "         63746.,   69137.,  585431.,   63549.,  136733.,   25937.,\n",
       "         33741.,   62425.,   15916.,  167924.,   75327.,  102367.,\n",
       "         97780.,   92954.,   51779.,   13046.,   26110.,  520887.,\n",
       "         37548.,   28792.,  132066., 2764546., 1310215.,   24683.,\n",
       "         63279.,   70519.,  576952.,   62958.,  135583.,   25600.,\n",
       "         34361.,   55628.,   15912.,  166807.,   74689.,   92288.,\n",
       "         95957.,   91974.,   51646.,   13055.,   27169.,  512358.,\n",
       "         38011.,   28209.,  132069., 2739876., 1299918.,   24232.,\n",
       "         62556.,   70221.,  566910.,   62236.,  134331.,   25422.,\n",
       "         33827.,   54193.,   15711.,  165845.,   73950.,   90380.,\n",
       "         95066.,   91290.,   51298.,   12557.,   26764.,  506612.,\n",
       "         37133.,   28038.,  130032.])"
      ]
     },
     "execution_count": 432,
     "metadata": {},
     "output_type": "execute_result"
    }
   ],
   "source": [
    "acc_tecyprov['Total'].unique() "
   ]
  },
  {
   "attachments": {},
   "cell_type": "markdown",
   "metadata": {},
   "source": [
    "**V.-Accesos a banda ancha y banda angosta por provincia.**"
   ]
  },
  {
   "attachments": {},
   "cell_type": "markdown",
   "metadata": {},
   "source": [
    "Apreciamos que contiene 792 filas, 6 columnas, 3 numéricas, 1 string (provincia) y 2 que se refieren a fechas que  probablemente sea necesario vincularlas a un calendario en Powerby. \n",
    "\n",
    "Además,  las columnas numéricas tiene los miles marcados con '.' los que se reemplazaran en forma conjunta con la incorporación de los datos. Ademas, también detectamos que existen valores '-0' lo que hace necesario realizar una normalización mas especifica en la columna dial up.\n",
    "\n",
    "Nos brinda información concerniente al acceso a internet por banda ancha y dial up teniendo en cuenta el año, trimestre y provincia y por lo tanto permite ver su evolucion en el tiempo y cual es la composición de cada provincia. \n",
    "\n"
   ]
  },
  {
   "cell_type": "code",
   "execution_count": 433,
   "metadata": {},
   "outputs": [
    {
     "data": {
      "text/html": [
       "<div>\n",
       "<style scoped>\n",
       "    .dataframe tbody tr th:only-of-type {\n",
       "        vertical-align: middle;\n",
       "    }\n",
       "\n",
       "    .dataframe tbody tr th {\n",
       "        vertical-align: top;\n",
       "    }\n",
       "\n",
       "    .dataframe thead th {\n",
       "        text-align: right;\n",
       "    }\n",
       "</style>\n",
       "<table border=\"1\" class=\"dataframe\">\n",
       "  <thead>\n",
       "    <tr style=\"text-align: right;\">\n",
       "      <th></th>\n",
       "      <th>Año</th>\n",
       "      <th>Trimestre</th>\n",
       "      <th>Provincia</th>\n",
       "      <th>Banda ancha fija</th>\n",
       "      <th>Dial up</th>\n",
       "      <th>Total</th>\n",
       "    </tr>\n",
       "  </thead>\n",
       "  <tbody>\n",
       "    <tr>\n",
       "      <th>0</th>\n",
       "      <td>2022</td>\n",
       "      <td>1</td>\n",
       "      <td>Buenos Aires</td>\n",
       "      <td>4549131</td>\n",
       "      <td>6.293</td>\n",
       "      <td>4555424</td>\n",
       "    </tr>\n",
       "    <tr>\n",
       "      <th>1</th>\n",
       "      <td>2022</td>\n",
       "      <td>1</td>\n",
       "      <td>Capital Federal</td>\n",
       "      <td>1415378</td>\n",
       "      <td>2.163</td>\n",
       "      <td>1417541</td>\n",
       "    </tr>\n",
       "    <tr>\n",
       "      <th>2</th>\n",
       "      <td>2022</td>\n",
       "      <td>1</td>\n",
       "      <td>Catamarca</td>\n",
       "      <td>62377</td>\n",
       "      <td>1</td>\n",
       "      <td>62378</td>\n",
       "    </tr>\n",
       "    <tr>\n",
       "      <th>3</th>\n",
       "      <td>2022</td>\n",
       "      <td>1</td>\n",
       "      <td>Chaco</td>\n",
       "      <td>144114</td>\n",
       "      <td>5</td>\n",
       "      <td>144119</td>\n",
       "    </tr>\n",
       "    <tr>\n",
       "      <th>4</th>\n",
       "      <td>2022</td>\n",
       "      <td>1</td>\n",
       "      <td>Chubut</td>\n",
       "      <td>170701</td>\n",
       "      <td>927</td>\n",
       "      <td>171628</td>\n",
       "    </tr>\n",
       "  </tbody>\n",
       "</table>\n",
       "</div>"
      ],
      "text/plain": [
       "    Año  Trimestre        Provincia  Banda ancha fija Dial up    Total\n",
       "0  2022          1     Buenos Aires           4549131   6.293  4555424\n",
       "1  2022          1  Capital Federal           1415378   2.163  1417541\n",
       "2  2022          1        Catamarca             62377       1    62378\n",
       "3  2022          1            Chaco            144114       5   144119\n",
       "4  2022          1           Chubut            170701     927   171628"
      ]
     },
     "execution_count": 433,
     "metadata": {},
     "output_type": "execute_result"
    }
   ],
   "source": [
    "acc_bandayprov.head()\n"
   ]
  },
  {
   "cell_type": "code",
   "execution_count": 434,
   "metadata": {},
   "outputs": [
    {
     "name": "stdout",
     "output_type": "stream",
     "text": [
      "<class 'pandas.core.frame.DataFrame'>\n",
      "RangeIndex: 792 entries, 0 to 791\n",
      "Data columns (total 6 columns):\n",
      " #   Column            Non-Null Count  Dtype \n",
      "---  ------            --------------  ----- \n",
      " 0   Año               792 non-null    int64 \n",
      " 1   Trimestre         792 non-null    int64 \n",
      " 2   Provincia         792 non-null    object\n",
      " 3   Banda ancha fija  792 non-null    int64 \n",
      " 4   Dial up           790 non-null    object\n",
      " 5   Total             792 non-null    int64 \n",
      "dtypes: int64(4), object(2)\n",
      "memory usage: 37.2+ KB\n"
     ]
    }
   ],
   "source": [
    "acc_bandayprov.info()"
   ]
  },
  {
   "cell_type": "code",
   "execution_count": 435,
   "metadata": {},
   "outputs": [
    {
     "data": {
      "text/plain": [
       "<AxesSubplot: >"
      ]
     },
     "execution_count": 435,
     "metadata": {},
     "output_type": "execute_result"
    },
    {
     "data": {
      "image/png": "[encoded data removed]",
      "text/plain": [
       "<Figure size 640x480 with 2 Axes>"
      ]
     },
     "metadata": {},
     "output_type": "display_data"
    }
   ],
   "source": [
    "sns.heatmap(acc_tecyprov.isnull())"
   ]
  },
  {
   "attachments": {},
   "cell_type": "markdown",
   "metadata": {},
   "source": [
    "Apreciamos que contiene 792 filas, 12 columnas, 8 numericas y 4 que no. Vemos que la 0 y 1 se refieren a fechas y que probablemente sea conveniente vincularlas a un calendario en Powerby. Además, el resto, con excepción de Provincia, debe ser de tipo float, pero se deben hacer correcciones en cuanto a los puntos. "
   ]
  },
  {
   "cell_type": "code",
   "execution_count": 436,
   "metadata": {},
   "outputs": [
    {
     "name": "stderr",
     "output_type": "stream",
     "text": [
      "C:\\Users\\guill\\AppData\\Local\\Temp\\ipykernel_24000\\2441143313.py:1: FutureWarning: The default value of regex will change from True to False in a future version. In addition, single character regular expressions will *not* be treated as literal strings when regex=True.\n",
      "  acc_bandayprov['Dial up'] = acc_bandayprov['Dial up'].str.replace('.','')\n"
     ]
    }
   ],
   "source": [
    "acc_bandayprov['Dial up'] = acc_bandayprov['Dial up'].str.replace('.','')\n",
    "acc_bandayprov['Dial up'] = acc_bandayprov['Dial up'].str.replace('-','')"
   ]
  },
  {
   "cell_type": "code",
   "execution_count": 437,
   "metadata": {},
   "outputs": [],
   "source": [
    "acc_bandayprov['Dial up']= pd.to_numeric(acc_bandayprov['Dial up'])"
   ]
  },
  {
   "attachments": {},
   "cell_type": "markdown",
   "metadata": {},
   "source": [
    "Vamos a analizar individualmente los valores de las columnas con la finalidad de entender mejor su contenido y para detectar si hay errores evidentes de carga."
   ]
  },
  {
   "cell_type": "code",
   "execution_count": 438,
   "metadata": {},
   "outputs": [
    {
     "data": {
      "text/plain": [
       "array([2022, 2021, 2020, 2019, 2018, 2017, 2016, 2015, 2014], dtype=int64)"
      ]
     },
     "execution_count": 438,
     "metadata": {},
     "output_type": "execute_result"
    }
   ],
   "source": [
    "acc_bandayprov['Año'].unique() # Apreciamos que los datos van del año 2014 al 2022."
   ]
  },
  {
   "cell_type": "code",
   "execution_count": 439,
   "metadata": {},
   "outputs": [
    {
     "data": {
      "text/plain": [
       "array([1, 4, 3, 2], dtype=int64)"
      ]
     },
     "execution_count": 439,
     "metadata": {},
     "output_type": "execute_result"
    }
   ],
   "source": [
    "acc_bandayprov['Trimestre'].unique() # se aplica a los cuatro trimestres del año."
   ]
  },
  {
   "cell_type": "code",
   "execution_count": 440,
   "metadata": {},
   "outputs": [
    {
     "data": {
      "text/plain": [
       "array(['Buenos Aires', 'Capital Federal', 'Catamarca', 'Chaco', 'Chubut',\n",
       "       'Córdoba', 'Corrientes', 'Entre Ríos', 'Formosa', 'Jujuy',\n",
       "       'La Pampa', 'La Rioja', 'Mendoza', 'Misiones', 'Neuquén',\n",
       "       'Río Negro', 'Salta', 'San Juan', 'San Luis', 'Santa Cruz',\n",
       "       'Santa Fe', 'Santiago Del Estero', 'Tierra Del Fuego', 'Tucumán'],\n",
       "      dtype=object)"
      ]
     },
     "execution_count": 440,
     "metadata": {},
     "output_type": "execute_result"
    }
   ],
   "source": [
    "acc_bandayprov['Provincia'].unique() # abarca las 23 provincias y el distrito federal, es decir la totalidad de argentina."
   ]
  },
  {
   "cell_type": "code",
   "execution_count": 441,
   "metadata": {},
   "outputs": [
    {
     "data": {
      "text/plain": [
       "array([4549131, 1415378,   62377,  144114,  170701, 1003729,  142574,\n",
       "        267904,   54548,  116509,  109560,   84299,  274399,  171508,\n",
       "        149208,  156821,  197510,   87888,  119659,   48898,  870364,\n",
       "        116459,   52298,  245554, 4502772, 1409935,   59089,  143740,\n",
       "        159364,  986693,  135908,  265024,   53663,  113915,  106834,\n",
       "         83124,  266783,  171132,  146989,  153189,  199399,   79667,\n",
       "        118662,   48276,  866265,  115859,   52042,  238609, 4246425,\n",
       "       1411797,   56253,  139868,  155266,  946726,  133816,  260360,\n",
       "         52795,  111158,  100371,   82157,  255320,  158528,  139436,\n",
       "        144084,  195831,   79227,  117716,   48779,  841433,  115457,\n",
       "         49934,  232447, 4127167, 1398747,   55743,  140726,  138412,\n",
       "        930818,  129498,  257617,   51551,  111848,   97551,   81599,\n",
       "        229052,  156176,  137877,  143583,  191637,   78677,  122670,\n",
       "         48785,  840449,  114089,   35404,  233026, 4054936, 1378283,\n",
       "         51967,  139767,  131515,  910826,  126622,  251950,   50686,\n",
       "        110456,   96989,   52625,  218308,  149387,  132862,  140667,\n",
       "        187572,   78011,  119006,   45868,  825990,  111640,   40133,\n",
       "        231890, 4028195, 1378140,   52395,  139088,  129749,  902646,\n",
       "        125656,  247368,   50206,  105851,   96779,   52775,  214838,\n",
       "        147161,  132762,  140709,  187388,   72340,  119287,   40477,\n",
       "        820676,  106668,   39325,  231067, 3932211, 1371285,   49903,\n",
       "        133951,  129202,  867417,  123388,  241482,   49209,  106728,\n",
       "         93619,   52613,  207173,  143186,  128862,  130966,  180844,\n",
       "         77071,  116417,   39084,  802861,  105491,   39366,  223854,\n",
       "       3772480, 1356431,   47975,  128129,  107831,  836413,  118863,\n",
       "        234100,   47932,   94316,   89693,   52152,  200569,  140340,\n",
       "        125799,  128985,  177760,   69521,  113804,   38672,  777795,\n",
       "        105446,   38900,  217134, 3702985, 1352104,   39634,  120274,\n",
       "         95938,  811044,  113967,  231833,   46434,   91665,   89110,\n",
       "         48337,  182837,  133552,  121354,  125699,  170379,   63975,\n",
       "        110404,   38625,  770981,  102754,   38505,  200045, 3681120,\n",
       "       1356695,   38310,  117900,   95292,  806633,  113831,  239017,\n",
       "         46711,   88881,   90280,   48999,  185157,  135813,  116069,\n",
       "        126636,  172443,   64715,  108053,   39170,  769019,  103587,\n",
       "         40101,  198621, 3950114, 1437734,   32391,  114438,   87481,\n",
       "        782946,  112749,  238057,   46066,   86575,   90559,   49659,\n",
       "        223015,  133883,  123435,  143391,  151834,   72535,  122409,\n",
       "         37642,  760706,  133130,   48043,  164099, 3845594, 1412177,\n",
       "         33626,  108721,   86038,  775023,  111539,  235780,   46438,\n",
       "         86706,   89937,   50283,  222535,  132878,  120954,  137632,\n",
       "        142567,   69461,  117094,   30225,  743258,  126752,   46910,\n",
       "        166299, 3736563, 1396157,   33613,  103664,   78260,  744010,\n",
       "        102477,  232403,   45211,   90146,   88892,   51638,  204976,\n",
       "        122720,  112321,  120173,  136019,   61881,   96044,   24580,\n",
       "        736851,   89851,   45903,  171970, 3626502, 1385577,   33574,\n",
       "        103257,   77204,  737234,  100591,  222003,   45204,   90132,\n",
       "         85368,   51633,  204982,  116273,  112309,  115922,  134577,\n",
       "         61834,   96040,   24443,  720161,   89333,   45716,  171972,\n",
       "       3599714, 1385804,   34215,  102021,  101310,  725764,   99445,\n",
       "        204560,   44865,   44934,   83180,   51855,  205545,  108042,\n",
       "        114713,  112433,  132882,   63823,   74121,   33565,  694883,\n",
       "         86358,   45056,  171135, 3490134, 1362498,   34078,   98509,\n",
       "         98137,  712979,   97946,  199937,   44554,   45132,   82177,\n",
       "         51931,  199468,  106147,  113842,  111176,  134166,   63443,\n",
       "         21168,   33970,  684243,   83773,   44199,  169926, 3464882,\n",
       "       1359882,   33934,   96925,   95532,  713825,   94406,  197346,\n",
       "         32328,   44405,   82668,   52228,  199463,  103580,  115897,\n",
       "        110057,  133182,   62610,   21096,  679717,   82916,   31106,\n",
       "        168026, 3171206, 1575418,   29548,   96603,   91012,  709874,\n",
       "         93760,  193654,   32056,   43551,   81675,   52177,  178661,\n",
       "        103895,  114965,  108702,  132811,   57965,   14604,   29018,\n",
       "        672137,   68842,   28346,  162298, 3046758, 1563289,   33467,\n",
       "         93747,   81067,  696536,   92536,  185414,   32105,   43241,\n",
       "         79280,   51896,  190958,  100476,  113755,  106393,  132517,\n",
       "         61789,   21408,   33222,  662086,   82792,   30883,  160979,\n",
       "       3067430, 1592175,   26692,   90597,   62245,  657505,   90085,\n",
       "        182675,   29956,   42656,   72573,   16271,  169302,   99794,\n",
       "        115321,  100621,  108540,   51261,   12992,   26019,  566918,\n",
       "         33194,   31938,  154374, 3178174, 1391030,   26304,   89036,\n",
       "         62166,  641066,   88596,  180296,   29705,   43202,   71458,\n",
       "         16207,  169282,   97619,  113227,  100288,  107632,   51253,\n",
       "         26116,  562520,   34473,  152734, 3131499, 1393443,   27021,\n",
       "         88833,   62035,  636422,   88084,  180188,   29513,   42624,\n",
       "         71368,   16298,  169274,   97390,  111723,  100020,  106934,\n",
       "         51301,   26094,  561470,   35049,  151615, 3075387, 1395053,\n",
       "         26957,   89216,   62222,  642458,   88328,  181092,   27716,\n",
       "         42537,   69903,   16912,  169174,   97997,  110491,  100024,\n",
       "        107790,   51348,   12978,   25886,  566625,   35658,   31306,\n",
       "        151282, 3032776, 1384824,   26543,   88235,   62116,  634680,\n",
       "         86932,  178194,   28801,   41187,   68403,   16718,   95808,\n",
       "        108224,   99631,  104929,   51392,   12939,   25797,  563867,\n",
       "         36958,   30740,  148636, 2929903, 1328079,   26376,   86635,\n",
       "         62060,  609692,   85510,  174634,   28313,   40287,   65442,\n",
       "         16673,  169257,   92951,  101969,   98745,  102423,   51373,\n",
       "         12915,   25931,  551378,   37695,   29867,  146596, 2946743,\n",
       "       1360381,   26459,   86537,   62279,  625835,   85409,  173957,\n",
       "         28088,   39922,   66054,   16914,  169251,   92846,  105122,\n",
       "         98655,  101917,   51408,   12901,   26047,  561045,   39132,\n",
       "         29334,  146053, 2916070, 1362193,   26080,   85354,   62143,\n",
       "        622761,   84931,  172252,   27751,   39548,   64976,   16753,\n",
       "        169261,   91615,   98376,   98529,  100570,   51409,   12902,\n",
       "         25912,  556097,   39394,   33118,  144272, 2871079, 1336391,\n",
       "         25666,   83832,   61745,  609510,   83288,  169309,   27013,\n",
       "         37720,   63552,   16491,  169259,   88512,   95644,   97640,\n",
       "         98264,   51367,   12904,   25384,  545739,   39375,   32960,\n",
       "        140635, 2847076, 1321139,   25312,   81329,   63327,  596663,\n",
       "         81488,  165839,   26657,   36608,   62155,   16310,  168355,\n",
       "         85139,   93373,   96145,   96793,   51117,   12878,   26217,\n",
       "        535640,   39244,   32726,  138184, 2801178, 1318526,   25472,\n",
       "         65998,   66557,  590113,   65656,  140567,   26156,   35999,\n",
       "         56813,   16379,  167766,   77222,   92999,   95050,   93921,\n",
       "         51390,   12788,   25277,  528459,   39308,   28249,  137329,\n",
       "       2835537, 1307195,   24665,   63710,   67130,  585231,   63516,\n",
       "        136618,   25873,   33739,   61861,   15893,  166184,   75327,\n",
       "        100099,   96629,   92929,   51031,   12683,   25664,  520196,\n",
       "         37539,   28037,  131978, 2750430, 1299502,   24660,   63243,\n",
       "         68503,  576747,   62925,  135468,   25535,   34359,   55048,\n",
       "         15889,  165046,   74689,   90053,   94812,   91949,   50891,\n",
       "         12691,   26710,  511753,   38002,   27443,  131981, 2725732,\n",
       "       1289204,   24209,   62520,   68205,  566705,   62203,  134216,\n",
       "         25335,   33825,   53601,   15688,  164084,   73950,   88077,\n",
       "         93909,   91265,   50543,   12193,  506000,   37124,   27272,\n",
       "        129944], dtype=int64)"
      ]
     },
     "execution_count": 441,
     "metadata": {},
     "output_type": "execute_result"
    }
   ],
   "source": [
    "acc_bandayprov['Banda ancha fija'].unique() "
   ]
  },
  {
   "cell_type": "code",
   "execution_count": 442,
   "metadata": {},
   "outputs": [
    {
     "data": {
      "text/plain": [
       "array([6.2930e+03, 2.1630e+03, 1.0000e+00, 5.0000e+00, 9.2700e+02,\n",
       "       7.4000e+01, 4.0000e+00, 2.2000e+01, 0.0000e+00, 1.7200e+02,\n",
       "       7.8600e+02, 4.7100e+02, 5.5300e+02, 2.9000e+02, 1.8500e+02,\n",
       "       2.0400e+02, 1.1500e+02, 2.0000e+00, 3.1300e+02, 3.0000e+01,\n",
       "       6.3850e+03, 2.1840e+03, 9.4400e+02, 7.7000e+01, 1.7300e+02,\n",
       "       8.0400e+02, 4.7700e+02, 5.6400e+02, 6.0000e+00, 2.9100e+02,\n",
       "       1.8700e+02, 2.1000e+02, 1.7600e+02, 3.1500e+02, 5.1840e+03,\n",
       "       1.6080e+03, 3.0000e+00, 8.0000e+02, 6.2000e+01, 1.5000e+01,\n",
       "       1.1600e+02, 6.1900e+02, 3.7300e+02, 5.0100e+02, 2.5600e+02,\n",
       "       1.4800e+02, 1.9700e+02, 1.5100e+02, 2.8900e+02, 2.5000e+01,\n",
       "       8.2500e+02, 5.0660e+03, 1.3900e+03, 5.5000e+01, 1.3000e+01,\n",
       "       6.1500e+02, 1.3700e+02, 5.1340e+03, 1.4100e+03, 8.1000e+02,\n",
       "       1.1900e+02, 6.2300e+02, 3.7600e+02, 5.0400e+02, 2.5900e+02,\n",
       "       2.0000e+02, 1.5000e+02, 2.3000e+01, 1.0119e+04, 3.4770e+03,\n",
       "       9.0000e+00, 1.5240e+03, 1.0700e+02, 1.0000e+01, 4.5000e+01,\n",
       "       2.6900e+02, 1.8000e+01, 1.3220e+03, 1.9860e+03, 9.0400e+02,\n",
       "       5.6300e+02, 3.2800e+02, 2.2800e+02, 5.4400e+02, 3.2000e+01,\n",
       "       1.0104e+04, 3.4430e+03, 1.5180e+03, 1.0500e+02, 4.4000e+01,\n",
       "       2.6800e+02, 1.9990e+03, 9.1500e+02, 3.2500e+02, 2.2600e+02,\n",
       "       2.0560e+03, 2.2700e+02, 2.2900e+02, 1.0563e+04, 6.6860e+03,\n",
       "       1.1000e+01, 1.2000e+01, 2.4260e+03, 9.4000e+01, 4.8000e+01,\n",
       "       2.4400e+02, 1.7000e+01, 1.4840e+03, 2.0050e+03, 1.0590e+03,\n",
       "       6.5800e+02, 3.0000e+02, 4.3400e+02, 2.1700e+02, 5.0800e+02,\n",
       "       3.1000e+01, 1.0565e+04, 6.6880e+03, 2.4270e+03,        nan,\n",
       "       2.0060e+03, 4.3500e+02, 3.0900e+02, 1.0564e+04, 1.0100e+02,\n",
       "       3.9600e+02, 1.0620e+03, 1.0690e+04, 6.9060e+03, 2.4280e+03,\n",
       "       4.9000e+01, 1.4900e+03, 6.5900e+02, 3.2300e+02, 3.4000e+01,\n",
       "       1.1202e+04, 7.0700e+03, 2.4770e+03, 1.0800e+02, 5.0000e+01,\n",
       "       4.1000e+02, 1.5330e+03, 2.0290e+03, 1.1030e+03, 6.6000e+02,\n",
       "       3.1100e+02, 4.6800e+02, 5.8300e+02, 3.3000e+01, 1.1201e+04,\n",
       "       8.0160e+03, 1.4000e+01, 1.7300e+03, 1.3300e+02, 5.7000e+01,\n",
       "       4.4900e+02, 1.4510e+03, 2.1120e+03, 9.9800e+02, 6.2000e+02,\n",
       "       3.6900e+02, 3.6200e+02, 3.7000e+01, 4.5500e+02, 1.0000e+03,\n",
       "       3.7000e+02, 4.6000e+02, 1.1205e+04, 8.0510e+03, 4.6100e+02,\n",
       "       1.4500e+03, 1.0020e+03, 3.7100e+02, 3.8600e+02, 1.2515e+04,\n",
       "       9.7600e+03, 1.6000e+01, 1.7400e+03, 2.3400e+02, 2.4000e+01,\n",
       "       1.7900e+02, 4.8500e+02, 1.5500e+03, 7.0000e+00, 2.2910e+03,\n",
       "       1.0730e+03, 6.2100e+02, 3.1700e+02, 3.5600e+02, 6.0700e+02,\n",
       "       4.1000e+01, 1.2612e+04, 9.8170e+03, 2.6000e+01, 4.8700e+02,\n",
       "       1.5530e+03, 2.2920e+03, 1.0770e+03, 6.1800e+02, 1.2642e+04,\n",
       "       9.8450e+03, 2.3500e+02, 1.8000e+02, 3.1200e+02, 1.5560e+03,\n",
       "       2.2940e+03, 1.0670e+03, 6.2700e+02, 4.2000e+01, 1.2695e+04,\n",
       "       9.8750e+03, 2.3700e+02, 2.8000e+01, 1.8200e+02, 4.9500e+02,\n",
       "       1.5620e+03, 2.2400e+03, 1.0850e+03, 3.5900e+02, 6.4100e+02,\n",
       "       1.2711e+04, 9.8930e+03, 2.3600e+02, 1.8300e+02, 5.0000e+02,\n",
       "       1.5640e+03, 2.2410e+03, 1.0870e+03, 3.7900e+02, 6.4900e+02,\n",
       "       1.4766e+04, 1.1582e+04, 2.0000e+01, 1.9460e+03, 2.9400e+02,\n",
       "       4.3000e+01, 2.3100e+02, 5.4200e+02, 1.8050e+03, 2.3690e+03,\n",
       "       1.1880e+03, 7.0200e+02, 3.5400e+02, 4.2400e+02, 7.9700e+02,\n",
       "       8.0000e+00, 7.3000e+02, 9.2000e+01, 1.5229e+04, 1.1994e+04,\n",
       "       2.1000e+01, 1.9850e+03, 3.1900e+02, 5.4000e+01, 2.4600e+02,\n",
       "       5.1000e+01, 5.6700e+02, 1.8480e+03, 2.3970e+03, 1.2100e+03,\n",
       "       7.2900e+02, 4.3600e+02, 9.3800e+02, 7.4100e+02, 9.5000e+01,\n",
       "       1.4028e+04, 1.0630e+04, 3.6000e+01, 2.0070e+03, 6.4000e+01,\n",
       "       2.2680e+03, 1.1510e+03, 7.4800e+02, 3.6300e+02, 4.4600e+02,\n",
       "       6.9100e+02, 7.5500e+02, 8.8000e+01, 1.4116e+04, 1.0713e+04,\n",
       "       2.0160e+03, 2.0500e+02, 6.5000e+01, 5.8000e+02, 1.7610e+03,\n",
       "       2.2350e+03, 1.1450e+03, 3.6400e+02, 4.5900e+02, 6.0500e+02,\n",
       "       7.6600e+02, 1.4144e+04, 1.0714e+04, 8.7000e+01, 5.9200e+02,\n",
       "       2.3030e+03, 1.1570e+03, 6.1200e+02])"
      ]
     },
     "execution_count": 442,
     "metadata": {},
     "output_type": "execute_result"
    }
   ],
   "source": [
    "acc_bandayprov['Dial up'].unique() "
   ]
  },
  {
   "cell_type": "code",
   "execution_count": 443,
   "metadata": {},
   "outputs": [
    {
     "data": {
      "text/plain": [
       "array([4555424, 1417541,   62378,  144119,  171628, 1003803,  142578,\n",
       "        267926,   54548,  116509,  109732,   84303,  275185,  171508,\n",
       "        149679,  157374,  197515,   88178,  119844,   49102,  870479,\n",
       "        116461,   52611,  245584, 4509157, 1412119,   59090,  143745,\n",
       "        160308,  986770,  135912,  265046,   53663,  113915,  107007,\n",
       "         83128,  267587,  171132,  147466,  153753,  199405,   79958,\n",
       "        118849,   48486,  866441,  115861,   52357,  238639, 4251609,\n",
       "       1413405,   56254,  139871,  156066,  946788,  133819,  260375,\n",
       "         52795,  111158,  100487,   82160,  255939,  158528,  139809,\n",
       "        144585,  195833,   79483,  117864,   48976,  841584,  115458,\n",
       "         50223,  232472, 4132351, 1400355,   55744,  140729,  139237,\n",
       "        930880,  129501,  257632,   51551,  111848,   97667,   81602,\n",
       "        229671,  156176,  138250,  144084,  191639,   78933,  122818,\n",
       "         48982,  840600,  114090,   35693,  233051, 4060002, 1379673,\n",
       "         51968,  139770,  132340,  910881,  126625,  251963,   50686,\n",
       "        110456,   97105,   52628,  218923,  149387,  133235,  141168,\n",
       "        187574,   78267,  119154,   46065,  826127,  111641,   40422,\n",
       "        231912, 4033261, 1379530,   52396,  139091,  130574,  902701,\n",
       "        125659,  247381,   50206,  105851,   96895,   52778,  215453,\n",
       "        147161,  133135,  141210,  187390,   72596,  119435,   40674,\n",
       "        820813,  106669,   39614,  231089, 3937277, 1372675,   49904,\n",
       "        133954,  130027,  867472,  123391,  241495,   49209,  106728,\n",
       "         93735,   52616,  207788,  143186,  129235,  131467,  180846,\n",
       "         77327,  116565,   39281,  802998,  105492,   39655,  223876,\n",
       "       3777546, 1357821,   47976,  128132,  108656,  836468,  118866,\n",
       "        234113,   47932,   94316,   89809,   52155,  201184,  140340,\n",
       "        126172,  129486,  177762,   69777,  113952,   38869,  777932,\n",
       "        105447,   39189,  217156, 3708051, 1353494,   39635,  120277,\n",
       "         96738,  811099,  113970,  231846,   46434,   91665,   89226,\n",
       "         48340,  183452,  133552,  121727,  126200,  170381,   64231,\n",
       "        110552,   38822,  771118,  102755,   38794,  200067, 3686254,\n",
       "       1358105,   38311,  117903,   96102,  806688,  113834,  239030,\n",
       "         46711,   88881,   90399,   49002,  185780,  135813,  116445,\n",
       "        127140,  172445,   64974,  108201,   39370,  769169,  103588,\n",
       "         40392,  198644, 3960233, 1441211,   32400,  114451,   89005,\n",
       "        783053,  112759,  238102,   46066,   86576,   90828,   49677,\n",
       "        224337,  133883,  125421,  144295,  151835,   73098,  122700,\n",
       "         37970,  760934,  133132,   48587,  164131, 3855698, 1415620,\n",
       "         33635,  108734,   87556,  775128,  111549,  235824,   46438,\n",
       "         86707,   90205,   50301,  223857,  132878,  122953,  138547,\n",
       "        142568,   70025,  117385,   30550,  743484,  126754,   47454,\n",
       "        166331, 3746667, 1399600,   33622,  103677,   79778,  744115,\n",
       "        102487,  232447,   45211,   90147,   89160,   51656,  206298,\n",
       "        122720,  114377,  121088,  136020,   62445,   96335,   24905,\n",
       "        737078,   89853,   46447,  172002, 3636606, 1389020,   33583,\n",
       "        103270,   78722,  737339,  100601,  222047,   45204,   90133,\n",
       "         85636,   51651,  206304,  116273,  114365,  116837,  134578,\n",
       "         62398,   96331,   24768,  720390,   89335,   46260,  172004,\n",
       "       3610277, 1392490,   34226,  102033,  103736,  725858,   99456,\n",
       "        204608,   44865,   44935,   83424,   51872,  207029,  108042,\n",
       "        116718,  113492,  132883,   64481,   74421,   33999,  695100,\n",
       "         86360,   45564,  171166, 3500699, 1369186,   34089,   98521,\n",
       "        100564,  713073,   97957,  199985,   44554,   45133,   82421,\n",
       "         51948,  200952,  106147,  115848,  112235,  134167,   64101,\n",
       "         21468,   34405,  684552,   83775,   44707,  169957, 3475446,\n",
       "       1366570,   33945,   96937,   97959,  713926,   94417,  197394,\n",
       "         32328,   44406,   83064,   52245,  200947,  103580,  111119,\n",
       "        133183,   63268,   21396,  680026,   82918,   31614,  168057,\n",
       "       3181896, 1582324,   29558,   96615,   93440,  709979,   93771,\n",
       "        193703,   32056,   43552,   82071,   52194,  180151,  103895,\n",
       "        116971,  109764,  132812,   58624,   14904,   29452,  672460,\n",
       "         68844,   28854,  162332, 3057960, 1570359,   33478,   93759,\n",
       "         83544,  696644,   92548,  185464,   32105,   43242,   79690,\n",
       "         51913,  192491,  100476,  115784,  107496,  132518,   62449,\n",
       "         21719,   33690,  662342,   82794,   31466,  161012, 3078631,\n",
       "       1600191,   26705,   90611,   63975,  657638,   90097,  182732,\n",
       "         29956,   42657,   73022,   16289,  170753,   99794,  117433,\n",
       "        101619,  108541,   51881,   13307,   26388,  567280,   33196,\n",
       "         32557,  154411, 3189376, 1399046,   26317,   89050,   63896,\n",
       "        641199,   88608,  180353,   29705,   43203,   71913,   16225,\n",
       "        170733,   97619,  115339,  101288,  107633,   51873,   26486,\n",
       "        562882,   34475,  152771, 3142701, 1401459,   27034,   88847,\n",
       "         63765,  636555,   88096,  180245,   29513,   42625,   71828,\n",
       "         16316,  170725,   97390,  113835,  101020,  106935,   51921,\n",
       "         26464,  561832,   35051,  151652, 3086592, 1403104,   26970,\n",
       "         89230,   63952,  642591,   88340,  181149,   27716,   42538,\n",
       "         70364,   16930,  170624,   97997,  112603,  101026,  107791,\n",
       "         13293,   26257,  567011,   35660,   31925,  151319, 3045291,\n",
       "       1394584,   26556,   88251,   63856,  634914,   86956,  178373,\n",
       "         28802,   41189,   68888,   16736,  170824,   95815,  110515,\n",
       "        100704,  104932,   52013,   13256,   26153,  564474,   36961,\n",
       "         31359,  148677, 2942515, 1337896,   26389,   86651,   63800,\n",
       "        609926,   85536,  174813,   28314,   40289,   65929,   16691,\n",
       "        170810,   92958,  104261,   99822,  102426,   51994,   13232,\n",
       "         26287,  551996,   37698,   30486,  146637, 2959385, 1370226,\n",
       "         26472,   86553,   64019,  626070,   85435,  174137,   28089,\n",
       "         39924,   66366,   16932,  170807,   92853,  107416,   99722,\n",
       "        101920,   52029,   13218,   26403,  561672,   39135,   29953,\n",
       "        146095, 2928765, 1372068,   26093,   85370,   63883,  622998,\n",
       "         84959,  172434,   27752,   39550,   65471,   16771,  170823,\n",
       "         91622,  100616,   99614,  100573,   52030,   13219,   26271,\n",
       "        556738,   39397,   33737,  144314, 2883790, 1346284,   25679,\n",
       "         83848,   63485,  609746,   83316,  169492,   27050,   37722,\n",
       "         64052,   16509,   88519,   97885,   98727,   98267,   51988,\n",
       "         13221,   25763,  546388,   39378,   33579,  140677, 2861842,\n",
       "       1332721,   25332,   81360,   65273,  596957,   81531,  166070,\n",
       "         26700,   36611,   62697,   16333,  170160,   85146,   95742,\n",
       "         97333,   96811,   51819,   26641,  536437,   39252,   33456,\n",
       "        138276, 2816407, 1330520,   25493,   66035,   68542,  590432,\n",
       "         65710,  140813,   26207,   36002,   57380,   16402,  169614,\n",
       "         77229,   95396,   96260,   93947,   52119,   13147,   25713,\n",
       "        529397,   39317,   28990,  137424, 2849565, 1317825,   24686,\n",
       "         63746,   69137,  585431,   63549,  136733,   25937,   33741,\n",
       "         62425,   15916,  167924,   75327,  102367,   97780,   92954,\n",
       "         51779,   13046,   26110,  520887,   37548,   28792,  132066,\n",
       "       2764546, 1310215,   24683,   63279,   70519,  576952,   62958,\n",
       "        135583,   25600,   34361,   55628,   15912,  166807,   74689,\n",
       "         92288,   95957,   91974,   51646,   13055,   27169,  512358,\n",
       "         38011,   28209,  132069, 2739876, 1299918,   24232,   62556,\n",
       "         70221,  566910,   62236,  134331,   25422,   33827,   54193,\n",
       "         15711,  165845,   73950,   90380,   95066,   91290,   51298,\n",
       "         12557,   26764,  506612,   37133,   28038,  130032], dtype=int64)"
      ]
     },
     "execution_count": 443,
     "metadata": {},
     "output_type": "execute_result"
    }
   ],
   "source": [
    "acc_bandayprov['Total'].unique() "
   ]
  },
  {
   "attachments": {},
   "cell_type": "markdown",
   "metadata": {},
   "source": [
    "**VI.-Velocidad media de bajada de Internet fijo por provincia.**"
   ]
  },
  {
   "attachments": {},
   "cell_type": "markdown",
   "metadata": {},
   "source": [
    "Apreciamos que contiene 792 filas, 4 columnas, 1 numéricas, 1 string (provincia) y 2 que se refieren a fechas que  probablemente sea necesario vincularlas a un calendario en Powerby. \n",
    "\n",
    "No parece ser necesario ningun trabajo de transformación.\n",
    "\n",
    "Nos brinda información concerniente a la media de bajada teniendo en cuenta el año, trimestre y provincia y por lo tanto permite ver su evolucion en el tiempo y cual es la composición de cada provincia. \n",
    "\n",
    "Es muy práctica, porque permite apreciar de modo muy sencillo la pontencia de la red y en consecuencia inferir si un servicio sería competitivo o no y el nivel de desarrollo en las diferentes provincias en un momento determinado."
   ]
  },
  {
   "cell_type": "code",
   "execution_count": 444,
   "metadata": {},
   "outputs": [
    {
     "data": {
      "text/html": [
       "<div>\n",
       "<style scoped>\n",
       "    .dataframe tbody tr th:only-of-type {\n",
       "        vertical-align: middle;\n",
       "    }\n",
       "\n",
       "    .dataframe tbody tr th {\n",
       "        vertical-align: top;\n",
       "    }\n",
       "\n",
       "    .dataframe thead th {\n",
       "        text-align: right;\n",
       "    }\n",
       "</style>\n",
       "<table border=\"1\" class=\"dataframe\">\n",
       "  <thead>\n",
       "    <tr style=\"text-align: right;\">\n",
       "      <th></th>\n",
       "      <th>Año</th>\n",
       "      <th>Trimestre</th>\n",
       "      <th>Provincia</th>\n",
       "      <th>Mbps (Media de bajada)</th>\n",
       "    </tr>\n",
       "  </thead>\n",
       "  <tbody>\n",
       "    <tr>\n",
       "      <th>0</th>\n",
       "      <td>2022</td>\n",
       "      <td>1</td>\n",
       "      <td>Buenos Aires</td>\n",
       "      <td>63</td>\n",
       "    </tr>\n",
       "    <tr>\n",
       "      <th>1</th>\n",
       "      <td>2022</td>\n",
       "      <td>1</td>\n",
       "      <td>Capital Federal</td>\n",
       "      <td>88</td>\n",
       "    </tr>\n",
       "    <tr>\n",
       "      <th>2</th>\n",
       "      <td>2022</td>\n",
       "      <td>1</td>\n",
       "      <td>Catamarca</td>\n",
       "      <td>51</td>\n",
       "    </tr>\n",
       "    <tr>\n",
       "      <th>3</th>\n",
       "      <td>2022</td>\n",
       "      <td>1</td>\n",
       "      <td>Chaco</td>\n",
       "      <td>46</td>\n",
       "    </tr>\n",
       "    <tr>\n",
       "      <th>4</th>\n",
       "      <td>2022</td>\n",
       "      <td>1</td>\n",
       "      <td>Chubut</td>\n",
       "      <td>13</td>\n",
       "    </tr>\n",
       "  </tbody>\n",
       "</table>\n",
       "</div>"
      ],
      "text/plain": [
       "    Año  Trimestre        Provincia  Mbps (Media de bajada)\n",
       "0  2022          1     Buenos Aires                      63\n",
       "1  2022          1  Capital Federal                      88\n",
       "2  2022          1        Catamarca                      51\n",
       "3  2022          1            Chaco                      46\n",
       "4  2022          1           Chubut                      13"
      ]
     },
     "execution_count": 444,
     "metadata": {},
     "output_type": "execute_result"
    }
   ],
   "source": [
    "velmed_xprov.head()\n"
   ]
  },
  {
   "cell_type": "code",
   "execution_count": 445,
   "metadata": {},
   "outputs": [
    {
     "name": "stdout",
     "output_type": "stream",
     "text": [
      "<class 'pandas.core.frame.DataFrame'>\n",
      "RangeIndex: 792 entries, 0 to 791\n",
      "Data columns (total 4 columns):\n",
      " #   Column                  Non-Null Count  Dtype \n",
      "---  ------                  --------------  ----- \n",
      " 0   Año                     792 non-null    int64 \n",
      " 1   Trimestre               792 non-null    int64 \n",
      " 2   Provincia               792 non-null    object\n",
      " 3   Mbps (Media de bajada)  792 non-null    int64 \n",
      "dtypes: int64(3), object(1)\n",
      "memory usage: 24.9+ KB\n"
     ]
    }
   ],
   "source": [
    "velmed_xprov.info()"
   ]
  },
  {
   "cell_type": "code",
   "execution_count": 446,
   "metadata": {},
   "outputs": [
    {
     "data": {
      "text/plain": [
       "<AxesSubplot: >"
      ]
     },
     "execution_count": 446,
     "metadata": {},
     "output_type": "execute_result"
    },
    {
     "data": {
      "image/png": "[encoded data removed]",
      "text/plain": [
       "<Figure size 640x480 with 2 Axes>"
      ]
     },
     "metadata": {},
     "output_type": "display_data"
    }
   ],
   "source": [
    "sns.heatmap(velmed_xprov.isnull())"
   ]
  },
  {
   "attachments": {},
   "cell_type": "markdown",
   "metadata": {},
   "source": [
    "Vamos a analizar individualmente los valores de las columnas con la finalidad de entender mejor su contenido y para detectar si hay errores evidentes de carga."
   ]
  },
  {
   "cell_type": "code",
   "execution_count": 447,
   "metadata": {},
   "outputs": [
    {
     "data": {
      "text/plain": [
       "array([2022, 2021, 2020, 2019, 2018, 2017, 2016, 2015, 2014], dtype=int64)"
      ]
     },
     "execution_count": 447,
     "metadata": {},
     "output_type": "execute_result"
    }
   ],
   "source": [
    "velmed_xprov['Año'].unique() # Apreciamos que los datos van del año 2014 al 2022."
   ]
  },
  {
   "cell_type": "code",
   "execution_count": 448,
   "metadata": {},
   "outputs": [
    {
     "data": {
      "text/plain": [
       "array([1, 4, 3, 2], dtype=int64)"
      ]
     },
     "execution_count": 448,
     "metadata": {},
     "output_type": "execute_result"
    }
   ],
   "source": [
    "velmed_xprov['Trimestre'].unique() # se aplica a los cuatro trimestres del año."
   ]
  },
  {
   "cell_type": "code",
   "execution_count": 449,
   "metadata": {},
   "outputs": [
    {
     "data": {
      "text/plain": [
       "array(['Buenos Aires', 'Capital Federal', 'Catamarca', 'Chaco', 'Chubut',\n",
       "       'Córdoba', 'Corrientes', 'Entre Ríos', 'Formosa', 'Jujuy',\n",
       "       'La Pampa', 'La Rioja', 'Mendoza', 'Misiones', 'Neuquén',\n",
       "       'Río Negro', 'Salta', 'San Juan', 'San Luis', 'Santa Cruz',\n",
       "       'Santa Fe', 'Santiago Del Estero', 'Tierra Del Fuego', 'Tucumán'],\n",
       "      dtype=object)"
      ]
     },
     "execution_count": 449,
     "metadata": {},
     "output_type": "execute_result"
    }
   ],
   "source": [
    "velmed_xprov['Provincia'].unique() # abarca las 23 provincias y el distrito federal, es decir la totalidad de argentina."
   ]
  },
  {
   "cell_type": "code",
   "execution_count": 450,
   "metadata": {},
   "outputs": [
    {
     "data": {
      "text/plain": [
       "array([63, 88, 51, 46, 13, 50, 38, 36, 30, 28, 15, 41, 26, 42, 43, 31, 37,\n",
       "       12, 21, 11, 39, 14, 47, 60, 83,  9, 33, 29, 27, 40, 22, 34, 45, 56,\n",
       "       78,  8, 32, 25,  7, 10, 53, 73, 24, 68, 67, 35, 20,  6, 48, 64, 18,\n",
       "       17, 16, 23, 59, 19, 44,  5,  4,  3], dtype=int64)"
      ]
     },
     "execution_count": 450,
     "metadata": {},
     "output_type": "execute_result"
    }
   ],
   "source": [
    "velmed_xprov['Mbps (Media de bajada)'].unique() "
   ]
  },
  {
   "attachments": {},
   "cell_type": "markdown",
   "metadata": {},
   "source": [
    "<h4>a.-Nacionales.-<h4>"
   ]
  },
  {
   "attachments": {},
   "cell_type": "markdown",
   "metadata": {},
   "source": [
    "**I.-Penetración por hogares nacional de Internet fijo**"
   ]
  },
  {
   "attachments": {},
   "cell_type": "markdown",
   "metadata": {},
   "source": [
    "Apreciamos que contiene 33 filas, 5 columnas, 2 numéricas y 3 que se refieren a fechas que  probablemente sea necesario vincularlas a un calendario en Powerby.  \n",
    "\n",
    "La quinta columna es redundante y se eliminará. Además, las columnas numéricas  tienen decimales con ',' los que se reemplazaran en forma conjunta con la incorporación de los datos. No vemos valores faltantes.\n",
    "\n",
    "Nos brinda información concerniente a la cantidad de conexiones cada 100 hogares y cada 100 habitantes por año y trimestre a nivel nacional. Esto nos permite ver su evolucion en el tiempo. \n",
    "\n",
    "Se conserva por tener la distribución en basa a 100 habitantes y puede ser útil a los fines del proyecto."
   ]
  },
  {
   "cell_type": "code",
   "execution_count": 451,
   "metadata": {},
   "outputs": [
    {
     "data": {
      "text/html": [
       "<div>\n",
       "<style scoped>\n",
       "    .dataframe tbody tr th:only-of-type {\n",
       "        vertical-align: middle;\n",
       "    }\n",
       "\n",
       "    .dataframe tbody tr th {\n",
       "        vertical-align: top;\n",
       "    }\n",
       "\n",
       "    .dataframe thead th {\n",
       "        text-align: right;\n",
       "    }\n",
       "</style>\n",
       "<table border=\"1\" class=\"dataframe\">\n",
       "  <thead>\n",
       "    <tr style=\"text-align: right;\">\n",
       "      <th></th>\n",
       "      <th>Año</th>\n",
       "      <th>Trimestre</th>\n",
       "      <th>Accesos por cada 100 hogares</th>\n",
       "      <th>Accesos por cada 100 hab</th>\n",
       "      <th>Periodo</th>\n",
       "    </tr>\n",
       "  </thead>\n",
       "  <tbody>\n",
       "    <tr>\n",
       "      <th>0</th>\n",
       "      <td>2022</td>\n",
       "      <td>1</td>\n",
       "      <td>73.88</td>\n",
       "      <td>23.05</td>\n",
       "      <td>Ene-Mar 2022</td>\n",
       "    </tr>\n",
       "    <tr>\n",
       "      <th>1</th>\n",
       "      <td>2021</td>\n",
       "      <td>4</td>\n",
       "      <td>73.18</td>\n",
       "      <td>22.81</td>\n",
       "      <td>Oct-Dic 2021</td>\n",
       "    </tr>\n",
       "    <tr>\n",
       "      <th>2</th>\n",
       "      <td>2021</td>\n",
       "      <td>3</td>\n",
       "      <td>70.58</td>\n",
       "      <td>21.98</td>\n",
       "      <td>Jul-Sept 2021</td>\n",
       "    </tr>\n",
       "    <tr>\n",
       "      <th>3</th>\n",
       "      <td>2021</td>\n",
       "      <td>2</td>\n",
       "      <td>69.24</td>\n",
       "      <td>21.55</td>\n",
       "      <td>Abr-Jun 2021</td>\n",
       "    </tr>\n",
       "    <tr>\n",
       "      <th>4</th>\n",
       "      <td>2021</td>\n",
       "      <td>1</td>\n",
       "      <td>67.95</td>\n",
       "      <td>21.13</td>\n",
       "      <td>Ene-Mar 2021</td>\n",
       "    </tr>\n",
       "  </tbody>\n",
       "</table>\n",
       "</div>"
      ],
      "text/plain": [
       "    Año  Trimestre  Accesos por cada 100 hogares  Accesos por cada 100 hab  \\\n",
       "0  2022          1                         73.88                     23.05   \n",
       "1  2021          4                         73.18                     22.81   \n",
       "2  2021          3                         70.58                     21.98   \n",
       "3  2021          2                         69.24                     21.55   \n",
       "4  2021          1                         67.95                     21.13   \n",
       "\n",
       "         Periodo  \n",
       "0   Ene-Mar 2022  \n",
       "1   Oct-Dic 2021  \n",
       "2  Jul-Sept 2021  \n",
       "3   Abr-Jun 2021  \n",
       "4   Ene-Mar 2021  "
      ]
     },
     "execution_count": 451,
     "metadata": {},
     "output_type": "execute_result"
    }
   ],
   "source": [
    "penet_hog.head()\n"
   ]
  },
  {
   "cell_type": "code",
   "execution_count": 452,
   "metadata": {},
   "outputs": [
    {
     "name": "stdout",
     "output_type": "stream",
     "text": [
      "<class 'pandas.core.frame.DataFrame'>\n",
      "RangeIndex: 33 entries, 0 to 32\n",
      "Data columns (total 5 columns):\n",
      " #   Column                        Non-Null Count  Dtype  \n",
      "---  ------                        --------------  -----  \n",
      " 0   Año                           33 non-null     int64  \n",
      " 1   Trimestre                     33 non-null     int64  \n",
      " 2   Accesos por cada 100 hogares  33 non-null     float64\n",
      " 3   Accesos por cada 100 hab      33 non-null     float64\n",
      " 4   Periodo                       33 non-null     object \n",
      "dtypes: float64(2), int64(2), object(1)\n",
      "memory usage: 1.4+ KB\n"
     ]
    }
   ],
   "source": [
    "penet_hog.info()"
   ]
  },
  {
   "cell_type": "code",
   "execution_count": 453,
   "metadata": {},
   "outputs": [
    {
     "data": {
      "text/plain": [
       "<AxesSubplot: >"
      ]
     },
     "execution_count": 453,
     "metadata": {},
     "output_type": "execute_result"
    },
    {
     "data": {
      "image/png": "[encoded data removed]",
      "text/plain": [
       "<Figure size 640x480 with 2 Axes>"
      ]
     },
     "metadata": {},
     "output_type": "display_data"
    }
   ],
   "source": [
    "sns.heatmap(penet_hog.isnull())"
   ]
  },
  {
   "cell_type": "code",
   "execution_count": 454,
   "metadata": {},
   "outputs": [],
   "source": [
    "penet_hog.drop('Periodo', axis=1, inplace=True)"
   ]
  },
  {
   "attachments": {},
   "cell_type": "markdown",
   "metadata": {},
   "source": [
    "Vamos a analizar individualmente los valores de las columnas con la finalidad de entender mejor su contenido y para detectar si hay errores evidentes de carga."
   ]
  },
  {
   "cell_type": "code",
   "execution_count": 455,
   "metadata": {},
   "outputs": [
    {
     "data": {
      "text/plain": [
       "array([2022, 2021, 2020, 2019, 2018, 2017, 2016, 2015, 2014], dtype=int64)"
      ]
     },
     "execution_count": 455,
     "metadata": {},
     "output_type": "execute_result"
    }
   ],
   "source": [
    "penet_hog['Año'].unique() # Apreciamos que los datos van del año 2014 al 2022."
   ]
  },
  {
   "cell_type": "code",
   "execution_count": 456,
   "metadata": {},
   "outputs": [
    {
     "data": {
      "text/plain": [
       "array([1, 4, 3, 2], dtype=int64)"
      ]
     },
     "execution_count": 456,
     "metadata": {},
     "output_type": "execute_result"
    }
   ],
   "source": [
    "penet_hog['Trimestre'].unique() # se aplica a los cuatro trimestres del año."
   ]
  },
  {
   "cell_type": "code",
   "execution_count": 457,
   "metadata": {},
   "outputs": [
    {
     "data": {
      "text/plain": [
       "array([73.88, 73.18, 70.58, 69.24, 67.95, 67.62, 66.31, 64.21, 62.86,\n",
       "       62.92, 65.79, 64.53, 62.48, 61.42, 60.69, 59.16, 58.82, 57.78,\n",
       "       56.9 , 54.9 , 54.16, 53.94, 53.73, 53.34, 51.85, 52.63, 52.46,\n",
       "       51.76, 51.36, 50.5 , 50.67, 49.86, 49.55])"
      ]
     },
     "execution_count": 457,
     "metadata": {},
     "output_type": "execute_result"
    }
   ],
   "source": [
    "penet_hog['Accesos por cada 100 hogares'].unique() "
   ]
  },
  {
   "cell_type": "code",
   "execution_count": 458,
   "metadata": {},
   "outputs": [
    {
     "data": {
      "text/plain": [
       "49.55"
      ]
     },
     "execution_count": 458,
     "metadata": {},
     "output_type": "execute_result"
    }
   ],
   "source": [
    "penet_hog['Accesos por cada 100 hogares'].min()"
   ]
  },
  {
   "cell_type": "code",
   "execution_count": 459,
   "metadata": {},
   "outputs": [
    {
     "data": {
      "text/plain": [
       "73.88"
      ]
     },
     "execution_count": 459,
     "metadata": {},
     "output_type": "execute_result"
    }
   ],
   "source": [
    "penet_hog['Accesos por cada 100 hogares'].max()"
   ]
  },
  {
   "cell_type": "code",
   "execution_count": 460,
   "metadata": {},
   "outputs": [
    {
     "data": {
      "text/plain": [
       "59.303939393939395"
      ]
     },
     "execution_count": 460,
     "metadata": {},
     "output_type": "execute_result"
    }
   ],
   "source": [
    "penet_hog['Accesos por cada 100 hogares'].mean()"
   ]
  },
  {
   "cell_type": "code",
   "execution_count": 461,
   "metadata": {},
   "outputs": [
    {
     "data": {
      "text/plain": [
       "array([23.05, 22.81, 21.98, 21.55, 21.13, 21.01, 20.59, 19.92, 19.48,\n",
       "       19.49, 20.36, 19.96, 19.31, 18.97, 18.73, 18.24, 18.12, 17.79,\n",
       "       17.51, 16.88, 16.64, 16.56, 16.5 , 16.37, 15.9 , 16.12, 16.05,\n",
       "       15.82, 15.68, 15.39, 15.43, 15.16, 15.05])"
      ]
     },
     "execution_count": 461,
     "metadata": {},
     "output_type": "execute_result"
    }
   ],
   "source": [
    "penet_hog['Accesos por cada 100 hab'].unique() "
   ]
  },
  {
   "cell_type": "code",
   "execution_count": 462,
   "metadata": {},
   "outputs": [
    {
     "data": {
      "text/plain": [
       "15.05"
      ]
     },
     "execution_count": 462,
     "metadata": {},
     "output_type": "execute_result"
    }
   ],
   "source": [
    "penet_hog['Accesos por cada 100 hab'].min()"
   ]
  },
  {
   "cell_type": "code",
   "execution_count": 463,
   "metadata": {},
   "outputs": [
    {
     "data": {
      "text/plain": [
       "23.05"
      ]
     },
     "execution_count": 463,
     "metadata": {},
     "output_type": "execute_result"
    }
   ],
   "source": [
    "penet_hog['Accesos por cada 100 hab'].max()"
   ]
  },
  {
   "cell_type": "code",
   "execution_count": 464,
   "metadata": {},
   "outputs": [
    {
     "data": {
      "text/plain": [
       "18.28939393939394"
      ]
     },
     "execution_count": 464,
     "metadata": {},
     "output_type": "execute_result"
    }
   ],
   "source": [
    "penet_hog['Accesos por cada 100 hab'].mean()"
   ]
  },
  {
   "attachments": {},
   "cell_type": "markdown",
   "metadata": {},
   "source": [
    "**II.-Velocidad Media de bajada de Internet fijo.**"
   ]
  },
  {
   "attachments": {},
   "cell_type": "markdown",
   "metadata": {},
   "source": [
    "Apreciamos que contiene 33 filas, 4 columnas, 1 numéricas y 3 que se refieren a fechas que  probablemente sea necesario vincularlas a un calendario en Powerby.  \n",
    "\n",
    "La cuarta columna es redundante y se eliminará. Además, las columnas numéricas  tienen decimales con ',' los que se reemplazaran en forma conjunta con la incorporación de los datos. No vemos valores faltantes.\n",
    "\n",
    "Nos brinda información concerniente a la media de bajada por año y trimestre a nivel nacional. Esto nos permite ver su evolución en el tiempo. \n",
    "\n",
    "Permite inferir de manera sencilla la evolución y la potencia de bajada en un determinado momento."
   ]
  },
  {
   "cell_type": "code",
   "execution_count": 465,
   "metadata": {},
   "outputs": [
    {
     "data": {
      "text/html": [
       "<div>\n",
       "<style scoped>\n",
       "    .dataframe tbody tr th:only-of-type {\n",
       "        vertical-align: middle;\n",
       "    }\n",
       "\n",
       "    .dataframe tbody tr th {\n",
       "        vertical-align: top;\n",
       "    }\n",
       "\n",
       "    .dataframe thead th {\n",
       "        text-align: right;\n",
       "    }\n",
       "</style>\n",
       "<table border=\"1\" class=\"dataframe\">\n",
       "  <thead>\n",
       "    <tr style=\"text-align: right;\">\n",
       "      <th></th>\n",
       "      <th>Año</th>\n",
       "      <th>Trimestre</th>\n",
       "      <th>Mbps (Media de bajada)</th>\n",
       "      <th>Trimestre.1</th>\n",
       "    </tr>\n",
       "  </thead>\n",
       "  <tbody>\n",
       "    <tr>\n",
       "      <th>0</th>\n",
       "      <td>2022</td>\n",
       "      <td>1</td>\n",
       "      <td>55.11</td>\n",
       "      <td>Ene-Mar 2022</td>\n",
       "    </tr>\n",
       "    <tr>\n",
       "      <th>1</th>\n",
       "      <td>2021</td>\n",
       "      <td>4</td>\n",
       "      <td>52.34</td>\n",
       "      <td>Oct-Dic 2021</td>\n",
       "    </tr>\n",
       "    <tr>\n",
       "      <th>2</th>\n",
       "      <td>2021</td>\n",
       "      <td>3</td>\n",
       "      <td>48.46</td>\n",
       "      <td>Jul-Sept 2021</td>\n",
       "    </tr>\n",
       "    <tr>\n",
       "      <th>3</th>\n",
       "      <td>2021</td>\n",
       "      <td>2</td>\n",
       "      <td>45.63</td>\n",
       "      <td>Abr-Jun 2021</td>\n",
       "    </tr>\n",
       "    <tr>\n",
       "      <th>4</th>\n",
       "      <td>2021</td>\n",
       "      <td>1</td>\n",
       "      <td>43.11</td>\n",
       "      <td>Ene-Mar 2021</td>\n",
       "    </tr>\n",
       "  </tbody>\n",
       "</table>\n",
       "</div>"
      ],
      "text/plain": [
       "    Año  Trimestre  Mbps (Media de bajada)    Trimestre.1\n",
       "0  2022          1                   55.11   Ene-Mar 2022\n",
       "1  2021          4                   52.34   Oct-Dic 2021\n",
       "2  2021          3                   48.46  Jul-Sept 2021\n",
       "3  2021          2                   45.63   Abr-Jun 2021\n",
       "4  2021          1                   43.11   Ene-Mar 2021"
      ]
     },
     "execution_count": 465,
     "metadata": {},
     "output_type": "execute_result"
    }
   ],
   "source": [
    "velmed.head()\n"
   ]
  },
  {
   "cell_type": "code",
   "execution_count": 466,
   "metadata": {},
   "outputs": [
    {
     "name": "stdout",
     "output_type": "stream",
     "text": [
      "<class 'pandas.core.frame.DataFrame'>\n",
      "RangeIndex: 33 entries, 0 to 32\n",
      "Data columns (total 4 columns):\n",
      " #   Column                  Non-Null Count  Dtype  \n",
      "---  ------                  --------------  -----  \n",
      " 0   Año                     33 non-null     int64  \n",
      " 1   Trimestre               33 non-null     int64  \n",
      " 2   Mbps (Media de bajada)  33 non-null     float64\n",
      " 3   Trimestre.1             33 non-null     object \n",
      "dtypes: float64(1), int64(2), object(1)\n",
      "memory usage: 1.2+ KB\n"
     ]
    }
   ],
   "source": [
    "velmed.info()"
   ]
  },
  {
   "cell_type": "code",
   "execution_count": 467,
   "metadata": {},
   "outputs": [
    {
     "data": {
      "text/plain": [
       "<AxesSubplot: >"
      ]
     },
     "execution_count": 467,
     "metadata": {},
     "output_type": "execute_result"
    },
    {
     "data": {
      "image/png": "[encoded data removed]",
      "text/plain": [
       "<Figure size 640x480 with 2 Axes>"
      ]
     },
     "metadata": {},
     "output_type": "display_data"
    }
   ],
   "source": [
    "sns.heatmap(velmed.isnull())"
   ]
  },
  {
   "cell_type": "code",
   "execution_count": 468,
   "metadata": {},
   "outputs": [
    {
     "data": {
      "text/plain": [
       "array(['Ene-Mar 2022', 'Oct-Dic 2021', 'Jul-Sept 2021', 'Abr-Jun 2021',\n",
       "       'Ene-Mar 2021', 'Oct-Dic 2020', 'Jul-Sept 2020', 'Abr-Jun 2020',\n",
       "       'Ene-Mar 2020', 'Oct-Dic 2019', 'Jul-Sept 2019', 'Abr-Jun 2019',\n",
       "       'Ene-Mar 2019', 'Oct-Dic 2018', 'Jul-Sept 2018', 'Abr-Jun 2018',\n",
       "       'Ene-Mar 2018', 'Oct-Dic 2017', 'Jul-Sept 2017', 'Abr-Jun 2017',\n",
       "       'Ene-Mar 2017', 'Oct-Dic 2016', 'Jul-Sept 2016', 'Abr-Jun 2016',\n",
       "       'Ene-Mar 2016', 'Oct-Dic 2015', 'Jul-Sept 2015', 'Abr-Jun 2015',\n",
       "       'Ene-Mar 2015', 'Oct-Dic 2014', 'Jul-Sept 2014', 'Abr-Jun 2014',\n",
       "       'Ene-Mar 2014'], dtype=object)"
      ]
     },
     "execution_count": 468,
     "metadata": {},
     "output_type": "execute_result"
    }
   ],
   "source": [
    "velmed['Trimestre.1'].unique()"
   ]
  },
  {
   "cell_type": "code",
   "execution_count": 469,
   "metadata": {},
   "outputs": [],
   "source": [
    "velmed.drop('Trimestre.1', axis=1, inplace=True)#Se elimina columna 4."
   ]
  },
  {
   "attachments": {},
   "cell_type": "markdown",
   "metadata": {},
   "source": [
    "Vamos a analizar individualmente los valores de las columnas con la finalidad de entender mejor su contenido y para detectar si hay errores evidentes de carga."
   ]
  },
  {
   "cell_type": "code",
   "execution_count": 470,
   "metadata": {},
   "outputs": [
    {
     "data": {
      "text/plain": [
       "array([2022, 2021, 2020, 2019, 2018, 2017, 2016, 2015, 2014], dtype=int64)"
      ]
     },
     "execution_count": 470,
     "metadata": {},
     "output_type": "execute_result"
    }
   ],
   "source": [
    "velmed['Año'].unique() # Apreciamos que los datos van del año 2014 al 2022."
   ]
  },
  {
   "cell_type": "code",
   "execution_count": 471,
   "metadata": {},
   "outputs": [
    {
     "data": {
      "text/plain": [
       "array([1, 4, 3, 2], dtype=int64)"
      ]
     },
     "execution_count": 471,
     "metadata": {},
     "output_type": "execute_result"
    }
   ],
   "source": [
    "velmed['Trimestre'].unique() # se aplica a los cuatro trimestres del año."
   ]
  },
  {
   "cell_type": "code",
   "execution_count": 472,
   "metadata": {},
   "outputs": [
    {
     "data": {
      "text/plain": [
       "array([55.11, 52.34, 48.46, 45.63, 43.11, 42.36, 40.67, 38.32, 37.52,\n",
       "       28.26, 24.18, 20.33, 17.38, 15.95, 15.36, 13.85, 13.22, 12.01,\n",
       "        8.34,  7.16,  6.62,  6.34,  5.94,  5.42,  5.08,  4.99,  4.79,\n",
       "        4.55,  4.35,  4.16,  3.87,  3.76,  3.62])"
      ]
     },
     "execution_count": 472,
     "metadata": {},
     "output_type": "execute_result"
    }
   ],
   "source": [
    "velmed['Mbps (Media de bajada)'].unique() # vemos que hay gran variedad de datos. Se evaluara si conviene hacer rangos. "
   ]
  },
  {
   "cell_type": "code",
   "execution_count": 473,
   "metadata": {},
   "outputs": [
    {
     "data": {
      "text/plain": [
       "3.62"
      ]
     },
     "execution_count": 473,
     "metadata": {},
     "output_type": "execute_result"
    }
   ],
   "source": [
    "velmed['Mbps (Media de bajada)'].min()"
   ]
  },
  {
   "cell_type": "code",
   "execution_count": 474,
   "metadata": {},
   "outputs": [
    {
     "data": {
      "text/plain": [
       "55.11"
      ]
     },
     "execution_count": 474,
     "metadata": {},
     "output_type": "execute_result"
    }
   ],
   "source": [
    "velmed['Mbps (Media de bajada)'].max()"
   ]
  },
  {
   "cell_type": "code",
   "execution_count": 475,
   "metadata": {},
   "outputs": [
    {
     "data": {
      "text/plain": [
       "19.486363636363638"
      ]
     },
     "execution_count": 475,
     "metadata": {},
     "output_type": "execute_result"
    }
   ],
   "source": [
    "velmed['Mbps (Media de bajada)'].mean()"
   ]
  },
  {
   "attachments": {},
   "cell_type": "markdown",
   "metadata": {},
   "source": [
    "**III.-Distribución de los accesos totales nacionales a Internet fijo por velocidad.**"
   ]
  },
  {
   "attachments": {},
   "cell_type": "markdown",
   "metadata": {},
   "source": [
    "Apreciamos que contiene 33 filas, 12 columnas, 9 numéricas, 1 vacía y 2 que se refieren a fechas que  probablemente sea necesario vincularlas a un calendario en Powerby.  \n",
    "\n",
    "Las columnas numéricas  tienen miles con '.' los que se reemplazaran en forma conjunta con la incorporación de los datos. No vemos valores faltantes.\n",
    "\n",
    "Nos brinda información concerniente a a rangos de velocidad de bajada por año y trimestre a nivel nacional. Esto nos permite ver su evolución en el tiempo. \n",
    "\n",
    "Permite inferir de manera sencilla la composición de la velocidad de bajada en un determinado momento."
   ]
  },
  {
   "cell_type": "code",
   "execution_count": 476,
   "metadata": {},
   "outputs": [
    {
     "data": {
      "text/html": [
       "<div>\n",
       "<style scoped>\n",
       "    .dataframe tbody tr th:only-of-type {\n",
       "        vertical-align: middle;\n",
       "    }\n",
       "\n",
       "    .dataframe tbody tr th {\n",
       "        vertical-align: top;\n",
       "    }\n",
       "\n",
       "    .dataframe thead th {\n",
       "        text-align: right;\n",
       "    }\n",
       "</style>\n",
       "<table border=\"1\" class=\"dataframe\">\n",
       "  <thead>\n",
       "    <tr style=\"text-align: right;\">\n",
       "      <th></th>\n",
       "      <th>Año</th>\n",
       "      <th>Trimestre</th>\n",
       "      <th>Hasta 512 kbps</th>\n",
       "      <th>Entre 512 Kbps y 1 Mbps</th>\n",
       "      <th>Entre 1 Mbps y 6 Mbps</th>\n",
       "      <th>Entre 6 Mbps y 10 Mbps</th>\n",
       "      <th>Entre 10 Mbps y 20 Mbps</th>\n",
       "      <th>Entre 20 Mbps y 30 Mbps</th>\n",
       "      <th>Más de 30 Mbps</th>\n",
       "      <th>OTROS</th>\n",
       "      <th>Total</th>\n",
       "      <th>Unnamed: 11</th>\n",
       "    </tr>\n",
       "  </thead>\n",
       "  <tbody>\n",
       "    <tr>\n",
       "      <th>0</th>\n",
       "      <td>2022</td>\n",
       "      <td>1</td>\n",
       "      <td>34890</td>\n",
       "      <td>104840</td>\n",
       "      <td>1263273</td>\n",
       "      <td>1209148</td>\n",
       "      <td>967508</td>\n",
       "      <td>509830</td>\n",
       "      <td>6336187</td>\n",
       "      <td>198333</td>\n",
       "      <td>10624009</td>\n",
       "      <td>NaN</td>\n",
       "    </tr>\n",
       "    <tr>\n",
       "      <th>1</th>\n",
       "      <td>2021</td>\n",
       "      <td>4</td>\n",
       "      <td>41262</td>\n",
       "      <td>28521</td>\n",
       "      <td>1413208</td>\n",
       "      <td>1245333</td>\n",
       "      <td>976539</td>\n",
       "      <td>558358</td>\n",
       "      <td>6032322</td>\n",
       "      <td>194251</td>\n",
       "      <td>10489794</td>\n",
       "      <td>NaN</td>\n",
       "    </tr>\n",
       "    <tr>\n",
       "      <th>2</th>\n",
       "      <td>2021</td>\n",
       "      <td>3</td>\n",
       "      <td>40174</td>\n",
       "      <td>41437</td>\n",
       "      <td>2550229</td>\n",
       "      <td>1095772</td>\n",
       "      <td>710122</td>\n",
       "      <td>536364</td>\n",
       "      <td>4948174</td>\n",
       "      <td>163269</td>\n",
       "      <td>10085541</td>\n",
       "      <td>NaN</td>\n",
       "    </tr>\n",
       "    <tr>\n",
       "      <th>3</th>\n",
       "      <td>2021</td>\n",
       "      <td>2</td>\n",
       "      <td>40172</td>\n",
       "      <td>42024</td>\n",
       "      <td>2531271</td>\n",
       "      <td>1080279</td>\n",
       "      <td>693277</td>\n",
       "      <td>647401</td>\n",
       "      <td>4661291</td>\n",
       "      <td>167369</td>\n",
       "      <td>9863084</td>\n",
       "      <td>NaN</td>\n",
       "    </tr>\n",
       "    <tr>\n",
       "      <th>4</th>\n",
       "      <td>2021</td>\n",
       "      <td>1</td>\n",
       "      <td>39487</td>\n",
       "      <td>41674</td>\n",
       "      <td>2593477</td>\n",
       "      <td>1072722</td>\n",
       "      <td>737930</td>\n",
       "      <td>595920</td>\n",
       "      <td>4379965</td>\n",
       "      <td>186797</td>\n",
       "      <td>9647972</td>\n",
       "      <td>NaN</td>\n",
       "    </tr>\n",
       "  </tbody>\n",
       "</table>\n",
       "</div>"
      ],
      "text/plain": [
       "    Año  Trimestre  Hasta 512 kbps  Entre 512 Kbps y 1 Mbps  \\\n",
       "0  2022          1           34890                   104840   \n",
       "1  2021          4           41262                    28521   \n",
       "2  2021          3           40174                    41437   \n",
       "3  2021          2           40172                    42024   \n",
       "4  2021          1           39487                    41674   \n",
       "\n",
       "   Entre 1 Mbps y 6 Mbps  Entre 6 Mbps y 10 Mbps  Entre 10 Mbps y 20 Mbps  \\\n",
       "0                1263273                 1209148                   967508   \n",
       "1                1413208                 1245333                   976539   \n",
       "2                2550229                 1095772                   710122   \n",
       "3                2531271                 1080279                   693277   \n",
       "4                2593477                 1072722                   737930   \n",
       "\n",
       "   Entre 20 Mbps y 30 Mbps  Más de 30 Mbps   OTROS     Total  Unnamed: 11  \n",
       "0                   509830         6336187  198333  10624009          NaN  \n",
       "1                   558358         6032322  194251  10489794          NaN  \n",
       "2                   536364         4948174  163269  10085541          NaN  \n",
       "3                   647401         4661291  167369   9863084          NaN  \n",
       "4                   595920         4379965  186797   9647972          NaN  "
      ]
     },
     "execution_count": 476,
     "metadata": {},
     "output_type": "execute_result"
    }
   ],
   "source": [
    "distr_totnac_vel.head()\n"
   ]
  },
  {
   "cell_type": "code",
   "execution_count": 477,
   "metadata": {},
   "outputs": [
    {
     "name": "stdout",
     "output_type": "stream",
     "text": [
      "<class 'pandas.core.frame.DataFrame'>\n",
      "RangeIndex: 33 entries, 0 to 32\n",
      "Data columns (total 12 columns):\n",
      " #   Column                   Non-Null Count  Dtype  \n",
      "---  ------                   --------------  -----  \n",
      " 0   Año                      33 non-null     int64  \n",
      " 1   Trimestre                33 non-null     int64  \n",
      " 2   Hasta 512 kbps           33 non-null     int64  \n",
      " 3   Entre 512 Kbps y 1 Mbps  33 non-null     int64  \n",
      " 4   Entre 1 Mbps y 6 Mbps    33 non-null     int64  \n",
      " 5   Entre 6 Mbps y 10 Mbps   33 non-null     int64  \n",
      " 6   Entre 10 Mbps y 20 Mbps  33 non-null     int64  \n",
      " 7   Entre 20 Mbps y 30 Mbps  33 non-null     int64  \n",
      " 8   Más de 30 Mbps           33 non-null     int64  \n",
      " 9   OTROS                    33 non-null     int64  \n",
      " 10  Total                    33 non-null     int64  \n",
      " 11  Unnamed: 11              0 non-null      float64\n",
      "dtypes: float64(1), int64(11)\n",
      "memory usage: 3.2 KB\n"
     ]
    }
   ],
   "source": [
    "distr_totnac_vel.info()"
   ]
  },
  {
   "cell_type": "code",
   "execution_count": 478,
   "metadata": {},
   "outputs": [
    {
     "data": {
      "text/plain": [
       "<AxesSubplot: >"
      ]
     },
     "execution_count": 478,
     "metadata": {},
     "output_type": "execute_result"
    },
    {
     "data": {
      "image/png": "[encoded data removed]",
      "text/plain": [
       "<Figure size 640x480 with 2 Axes>"
      ]
     },
     "metadata": {},
     "output_type": "display_data"
    }
   ],
   "source": [
    "sns.heatmap(distr_totnac_vel.isnull())"
   ]
  },
  {
   "cell_type": "code",
   "execution_count": 479,
   "metadata": {},
   "outputs": [
    {
     "data": {
      "text/plain": [
       "Index(['Año', 'Trimestre', 'Hasta 512 kbps', 'Entre 512 Kbps y 1 Mbps',\n",
       "       'Entre 1 Mbps y 6 Mbps', 'Entre 6 Mbps y 10 Mbps',\n",
       "       'Entre 10 Mbps y 20 Mbps', 'Entre 20 Mbps y 30 Mbps', 'Más de 30 Mbps',\n",
       "       'OTROS', 'Total', 'Unnamed: 11'],\n",
       "      dtype='object')"
      ]
     },
     "execution_count": 479,
     "metadata": {},
     "output_type": "execute_result"
    }
   ],
   "source": [
    "distr_totnac_vel.columns"
   ]
  },
  {
   "attachments": {},
   "cell_type": "markdown",
   "metadata": {},
   "source": [
    "Vamos a analizar individualmente los valores de las columnas con la finalidad de entender mejor su contenido y para detectar si hay errores evidentes de carga."
   ]
  },
  {
   "cell_type": "code",
   "execution_count": 480,
   "metadata": {},
   "outputs": [
    {
     "data": {
      "text/plain": [
       "array([2022, 2021, 2020, 2019, 2018, 2017, 2016, 2015, 2014], dtype=int64)"
      ]
     },
     "execution_count": 480,
     "metadata": {},
     "output_type": "execute_result"
    }
   ],
   "source": [
    "distr_totnac_vel['Año'].unique() # Apreciamos que los datos van del año 2014 al 2022."
   ]
  },
  {
   "cell_type": "code",
   "execution_count": 481,
   "metadata": {},
   "outputs": [
    {
     "data": {
      "text/plain": [
       "array([1, 4, 3, 2], dtype=int64)"
      ]
     },
     "execution_count": 481,
     "metadata": {},
     "output_type": "execute_result"
    }
   ],
   "source": [
    "distr_totnac_vel['Trimestre'].unique() # se aplica a los cuatro trimestres del año."
   ]
  },
  {
   "cell_type": "code",
   "execution_count": 482,
   "metadata": {},
   "outputs": [
    {
     "data": {
      "text/plain": [
       "array([ 34890,  41262,  40174,  40172,  39487,  39510,  41038,  42550,\n",
       "        38272, 241713, 202790, 166573, 138740,   5675,   5972,   7309,\n",
       "        15041,  19022,  22366,  20653,  20724,  20104,  44008,  30428,\n",
       "        34243,  35030,  40723,  41158,  44075,  37430,  41064,  52684],\n",
       "      dtype=int64)"
      ]
     },
     "execution_count": 482,
     "metadata": {},
     "output_type": "execute_result"
    }
   ],
   "source": [
    "distr_totnac_vel['Hasta 512 kbps'].unique() # vemos que el punto marca los miles y es necesario corregirlo."
   ]
  },
  {
   "cell_type": "code",
   "execution_count": 483,
   "metadata": {},
   "outputs": [
    {
     "data": {
      "text/plain": [
       "array([104840,  28521,  41437,  42024,  41674,  42185,  44005,  48690,\n",
       "        56170,  28980,  80599,  95980, 195706, 201196, 220589, 219467,\n",
       "       215406, 221474, 217997, 222766, 230159, 233398, 294413, 384221,\n",
       "       404810, 427394, 455777, 500175, 516919, 554749, 608018, 656408,\n",
       "       687619], dtype=int64)"
      ]
     },
     "execution_count": 483,
     "metadata": {},
     "output_type": "execute_result"
    }
   ],
   "source": [
    "distr_totnac_vel['Entre 512 Kbps y 1 Mbps'].unique()  "
   ]
  },
  {
   "cell_type": "code",
   "execution_count": 484,
   "metadata": {},
   "outputs": [
    {
     "data": {
      "text/plain": [
       "array([1263273, 1413208, 2550229, 2531271, 2593477, 2622638, 2637984,\n",
       "       2651502, 2649819, 2792684, 3309137, 3444458, 3428759, 3349666,\n",
       "       3401277, 3316868, 3272724, 3773159, 4062226, 4416065, 4584534,\n",
       "       4673339, 4816081, 5058481, 4944358, 5049640, 5087802, 5138431,\n",
       "       5121423, 5084556, 5153437, 5149574, 5130294], dtype=int64)"
      ]
     },
     "execution_count": 484,
     "metadata": {},
     "output_type": "execute_result"
    }
   ],
   "source": [
    "distr_totnac_vel['Entre 1 Mbps y 6 Mbps'].unique() "
   ]
  },
  {
   "cell_type": "code",
   "execution_count": 485,
   "metadata": {},
   "outputs": [
    {
     "data": {
      "text/plain": [
       "array([1209148, 1245333, 1095772, 1080279, 1072722, 1073875, 1040017,\n",
       "       1053107, 1022014, 1046128, 1026859,  871142,  882836,  882388,\n",
       "        859413,  979416,  976956, 1005545, 1062810,  990281,  975027,\n",
       "        971094,  936533,  796998,  762999,  726740,  701187,  645440,\n",
       "        571620,  496251,  373372,  341689,  289182], dtype=int64)"
      ]
     },
     "execution_count": 485,
     "metadata": {},
     "output_type": "execute_result"
    }
   ],
   "source": [
    "distr_totnac_vel['Entre 6 Mbps y 10 Mbps'].unique()  "
   ]
  },
  {
   "cell_type": "code",
   "execution_count": 486,
   "metadata": {},
   "outputs": [
    {
     "data": {
      "text/plain": [
       "array([ 967508,  976539,  710122,  693277,  737930,  786595,  799350,\n",
       "        807775,  814470,  851619,  806466, 1169632, 1464748, 1472634,\n",
       "       1607137, 1905839, 2068087, 1730353, 1592304, 1342000, 1129987,\n",
       "       1038029,  919208,  785759,  641646,  639011,  539414,  432762,\n",
       "        348102,  276254,  182483,  147273,  101127], dtype=int64)"
      ]
     },
     "execution_count": 486,
     "metadata": {},
     "output_type": "execute_result"
    }
   ],
   "source": [
    "distr_totnac_vel['Entre 10 Mbps y 20 Mbps'].unique()  "
   ]
  },
  {
   "cell_type": "code",
   "execution_count": 487,
   "metadata": {},
   "outputs": [
    {
     "data": {
      "text/plain": [
       "array([ 509830,  558358,  536364,  647401,  595920,  582420,  538567,\n",
       "        523437,  532309, 1004083, 1141545, 1250366, 1244215, 1690612,\n",
       "       1571692, 1000036,  862010,  631946,  353480,  231604,  210668,\n",
       "        169522,  124564,   73977,   27664,   17568,   13101,   10045,\n",
       "          7643,    4371,     507,     478,     345], dtype=int64)"
      ]
     },
     "execution_count": 487,
     "metadata": {},
     "output_type": "execute_result"
    }
   ],
   "source": [
    "distr_totnac_vel['Entre 20 Mbps y 30 Mbps'].unique()  "
   ]
  },
  {
   "cell_type": "code",
   "execution_count": 488,
   "metadata": {},
   "outputs": [
    {
     "data": {
      "text/plain": [
       "array([6336187, 6032322, 4948174, 4661291, 4379965, 4239237, 4053461,\n",
       "       3711499, 3500882, 2831253, 2314898, 1677830, 1138728,  599579,\n",
       "        524777,  444391,  397977,  337559,  245790,   98635,   47990,\n",
       "         38590,   31022,   29020,   23380,   22170,   20677,   18529,\n",
       "         16347,   15229,   12424,   12259,   11595], dtype=int64)"
      ]
     },
     "execution_count": 488,
     "metadata": {},
     "output_type": "execute_result"
    }
   ],
   "source": [
    "distr_totnac_vel['Más de 30 Mbps'].unique()"
   ]
  },
  {
   "cell_type": "code",
   "execution_count": 489,
   "metadata": {},
   "outputs": [
    {
     "data": {
      "text/plain": [
       "array([10624009, 10489794, 10085541,  9863084,  9647972,  9571562,\n",
       "        9356199,  9031056,  8812426,  8793181,  9164684,  8960181,\n",
       "        8648135,  8473655,  8347035,  8110444,  8037053,  7870222,\n",
       "        7553629,  7323717,  7199018,  7144696,  7141925,  7172464,\n",
       "        6835285,  6916766,  6852988,  6786105,  6623212,  6475485,\n",
       "        6367671,  6348745,  6272846], dtype=int64)"
      ]
     },
     "execution_count": 489,
     "metadata": {},
     "output_type": "execute_result"
    }
   ],
   "source": [
    "distr_totnac_vel['Total'].unique() "
   ]
  },
  {
   "cell_type": "code",
   "execution_count": 490,
   "metadata": {},
   "outputs": [
    {
     "data": {
      "text/plain": [
       "array([nan])"
      ]
     },
     "execution_count": 490,
     "metadata": {},
     "output_type": "execute_result"
    }
   ],
   "source": [
    "distr_totnac_vel['Unnamed: 11'].unique() # vacio"
   ]
  },
  {
   "cell_type": "code",
   "execution_count": 491,
   "metadata": {},
   "outputs": [],
   "source": [
    "distr_totnac_vel.drop('Unnamed: 11', axis=1, inplace=True)#Se elimina columna vacía.\n"
   ]
  },
  {
   "attachments": {},
   "cell_type": "markdown",
   "metadata": {},
   "source": [
    "**IV.-Total nacional de accesos a Internet fijo por banda ancha y banda angosta.**"
   ]
  },
  {
   "attachments": {},
   "cell_type": "markdown",
   "metadata": {},
   "source": [
    "Apreciamos que contiene 33 filas, 6 columnas, 3 numéricas y 3 que se refieren a fechas que  probablemente sea necesario vincularlas a un calendario en Powerby.  Periodo es redundante.\n",
    "\n",
    "Las columnas numéricas  tienen miles con '.' los que se reemplazaran en forma conjunta con la incorporación de los datos. No vemos valores faltantes.\n",
    "\n",
    "No lo encontramos relavante para el presente proyecto."
   ]
  },
  {
   "cell_type": "code",
   "execution_count": 492,
   "metadata": {},
   "outputs": [
    {
     "data": {
      "text/html": [
       "<div>\n",
       "<style scoped>\n",
       "    .dataframe tbody tr th:only-of-type {\n",
       "        vertical-align: middle;\n",
       "    }\n",
       "\n",
       "    .dataframe tbody tr th {\n",
       "        vertical-align: top;\n",
       "    }\n",
       "\n",
       "    .dataframe thead th {\n",
       "        text-align: right;\n",
       "    }\n",
       "</style>\n",
       "<table border=\"1\" class=\"dataframe\">\n",
       "  <thead>\n",
       "    <tr style=\"text-align: right;\">\n",
       "      <th></th>\n",
       "      <th>Año</th>\n",
       "      <th>Trimestre</th>\n",
       "      <th>Banda ancha fija</th>\n",
       "      <th>Dial up</th>\n",
       "      <th>Total</th>\n",
       "      <th>Periodo</th>\n",
       "    </tr>\n",
       "  </thead>\n",
       "  <tbody>\n",
       "    <tr>\n",
       "      <th>0</th>\n",
       "      <td>2022</td>\n",
       "      <td>1</td>\n",
       "      <td>10611390</td>\n",
       "      <td>12619</td>\n",
       "      <td>10624009</td>\n",
       "      <td>Ene-Mar 2022</td>\n",
       "    </tr>\n",
       "    <tr>\n",
       "      <th>1</th>\n",
       "      <td>2021</td>\n",
       "      <td>4</td>\n",
       "      <td>10476933</td>\n",
       "      <td>12861</td>\n",
       "      <td>10489794</td>\n",
       "      <td>Oct-Dic 2021</td>\n",
       "    </tr>\n",
       "    <tr>\n",
       "      <th>2</th>\n",
       "      <td>2021</td>\n",
       "      <td>3</td>\n",
       "      <td>10075184</td>\n",
       "      <td>10357</td>\n",
       "      <td>10085541</td>\n",
       "      <td>Jul-Sept 2021</td>\n",
       "    </tr>\n",
       "    <tr>\n",
       "      <th>3</th>\n",
       "      <td>2021</td>\n",
       "      <td>2</td>\n",
       "      <td>9852702</td>\n",
       "      <td>10382</td>\n",
       "      <td>9863084</td>\n",
       "      <td>Abr-Jun 2021</td>\n",
       "    </tr>\n",
       "    <tr>\n",
       "      <th>4</th>\n",
       "      <td>2021</td>\n",
       "      <td>1</td>\n",
       "      <td>9637956</td>\n",
       "      <td>10016</td>\n",
       "      <td>9647972</td>\n",
       "      <td>Ene-Mar 2021</td>\n",
       "    </tr>\n",
       "  </tbody>\n",
       "</table>\n",
       "</div>"
      ],
      "text/plain": [
       "    Año  Trimestre  Banda ancha fija  Dial up     Total        Periodo\n",
       "0  2022          1          10611390    12619  10624009   Ene-Mar 2022\n",
       "1  2021          4          10476933    12861  10489794   Oct-Dic 2021\n",
       "2  2021          3          10075184    10357  10085541  Jul-Sept 2021\n",
       "3  2021          2           9852702    10382   9863084   Abr-Jun 2021\n",
       "4  2021          1           9637956    10016   9647972   Ene-Mar 2021"
      ]
     },
     "execution_count": 492,
     "metadata": {},
     "output_type": "execute_result"
    }
   ],
   "source": [
    "totalnac_xbanda.head()\n"
   ]
  },
  {
   "cell_type": "code",
   "execution_count": 493,
   "metadata": {},
   "outputs": [
    {
     "name": "stdout",
     "output_type": "stream",
     "text": [
      "<class 'pandas.core.frame.DataFrame'>\n",
      "RangeIndex: 33 entries, 0 to 32\n",
      "Data columns (total 6 columns):\n",
      " #   Column            Non-Null Count  Dtype \n",
      "---  ------            --------------  ----- \n",
      " 0   Año               33 non-null     int64 \n",
      " 1   Trimestre         33 non-null     int64 \n",
      " 2   Banda ancha fija  33 non-null     int64 \n",
      " 3   Dial up           33 non-null     int64 \n",
      " 4   Total             33 non-null     int64 \n",
      " 5   Periodo           33 non-null     object\n",
      "dtypes: int64(5), object(1)\n",
      "memory usage: 1.7+ KB\n"
     ]
    }
   ],
   "source": [
    "totalnac_xbanda.info()"
   ]
  },
  {
   "cell_type": "code",
   "execution_count": 494,
   "metadata": {},
   "outputs": [
    {
     "data": {
      "text/plain": [
       "<AxesSubplot: >"
      ]
     },
     "execution_count": 494,
     "metadata": {},
     "output_type": "execute_result"
    },
    {
     "data": {
      "image/png": "[encoded data removed]",
      "text/plain": [
       "<Figure size 640x480 with 2 Axes>"
      ]
     },
     "metadata": {},
     "output_type": "display_data"
    }
   ],
   "source": [
    "sns.heatmap(totalnac_xbanda.isnull())"
   ]
  },
  {
   "attachments": {},
   "cell_type": "markdown",
   "metadata": {},
   "source": [
    "Vamos a analizar individualmente los valores de las columnas con la finalidad de entender mejor su contenido y para detectar si hay errores evidentes de carga."
   ]
  },
  {
   "cell_type": "code",
   "execution_count": 495,
   "metadata": {},
   "outputs": [
    {
     "data": {
      "text/plain": [
       "array([2022, 2021, 2020, 2019, 2018, 2017, 2016, 2015, 2014], dtype=int64)"
      ]
     },
     "execution_count": 495,
     "metadata": {},
     "output_type": "execute_result"
    }
   ],
   "source": [
    "totalnac_xbanda['Año'].unique() # Apreciamos que los datos van del año 2014 al 2022."
   ]
  },
  {
   "cell_type": "code",
   "execution_count": 496,
   "metadata": {},
   "outputs": [
    {
     "data": {
      "text/plain": [
       "array([1, 4, 3, 2], dtype=int64)"
      ]
     },
     "execution_count": 496,
     "metadata": {},
     "output_type": "execute_result"
    }
   ],
   "source": [
    "totalnac_xbanda['Trimestre'].unique() # se aplica a los cuatro trimestres del año."
   ]
  },
  {
   "cell_type": "code",
   "execution_count": 497,
   "metadata": {},
   "outputs": [
    {
     "data": {
      "text/plain": [
       "array([10611390, 10476933, 10075184,  9852702,  9637956,  9561546,\n",
       "        9346183,  9021040,  8802435,  8783053,  9142891,  8938427,\n",
       "        8626323,  8451841,  8320223,  8083533,  8009981,  7842778,\n",
       "        7696594,  7401134,  7277314,  7223128,  7178340,  7097604,\n",
       "        6874704,  6952289,  6902267,  6783279,  6699714,  6559172,\n",
       "        6559264,  6428329,  6362108], dtype=int64)"
      ]
     },
     "execution_count": 497,
     "metadata": {},
     "output_type": "execute_result"
    }
   ],
   "source": [
    "totalnac_xbanda['Banda ancha fija'].unique()  "
   ]
  },
  {
   "cell_type": "code",
   "execution_count": 498,
   "metadata": {},
   "outputs": [
    {
     "data": {
      "text/plain": [
       "array([12619, 12861, 10357, 10382, 10016,  9991, 10128, 21793, 21754,\n",
       "       21812, 21814, 26812, 26911, 27072, 27444, 28349, 28530, 28540,\n",
       "       28545, 28610, 32475, 32652, 32542, 32801, 32909, 38018, 39324,\n",
       "       36007, 36139, 36290], dtype=int64)"
      ]
     },
     "execution_count": 498,
     "metadata": {},
     "output_type": "execute_result"
    }
   ],
   "source": [
    "totalnac_xbanda['Dial up'].unique()"
   ]
  },
  {
   "cell_type": "code",
   "execution_count": 499,
   "metadata": {},
   "outputs": [
    {
     "data": {
      "text/plain": [
       "array([10624009, 10489794, 10085541,  9863084,  9647972,  9571562,\n",
       "        9356199,  9031056,  8812426,  8793181,  9164684,  8960181,\n",
       "        8648135,  8473655,  8347035,  8110444,  8037053,  7870222,\n",
       "        7724943,  7429664,  7305854,  7251673,  7206950,  7130079,\n",
       "        6907356,  6984831,  6935068,  6816188,  6737732,  6598496,\n",
       "        6595271,  6464468,  6398398], dtype=int64)"
      ]
     },
     "execution_count": 499,
     "metadata": {},
     "output_type": "execute_result"
    }
   ],
   "source": [
    "totalnac_xbanda['Total'].unique()"
   ]
  },
  {
   "cell_type": "code",
   "execution_count": 500,
   "metadata": {},
   "outputs": [
    {
     "data": {
      "text/plain": [
       "array(['Ene-Mar 2022', 'Oct-Dic 2021', 'Jul-Sept 2021', 'Abr-Jun 2021',\n",
       "       'Ene-Mar 2021', 'Oct-Dic 2020', 'Jul-Sept 2020', 'Abr-Jun 2020',\n",
       "       'Ene-Mar 2020', 'Oct-Dic 2019', 'Jul-Sept 2019', 'Abr-Jun 2019',\n",
       "       'Ene-Mar 2019', 'Oct-Dic 2018', 'Jul-Sept 2018', 'Abr-Jun 2018',\n",
       "       'Ene-Mar 2018', 'Oct-Dic 2017', 'Jul-Sept 2017', 'Abr-Jun 2017',\n",
       "       'Ene-Mar 2017', 'Oct-Dic 2016', 'Jul-Sept 2016', 'Abr-Jun 2016',\n",
       "       'Ene-Mar 2016', 'Oct-Dic 2015', 'Jul-Sept 2015', 'Abr-Jun 2015',\n",
       "       'Ene-Mar 2015', 'Oct-Dic 2014', 'Jul-Sept 2014', 'Abr-Jun 2014',\n",
       "       'Ene-Mar 2014'], dtype=object)"
      ]
     },
     "execution_count": 500,
     "metadata": {},
     "output_type": "execute_result"
    }
   ],
   "source": [
    "totalnac_xbanda['Periodo'].unique()"
   ]
  },
  {
   "cell_type": "code",
   "execution_count": 501,
   "metadata": {},
   "outputs": [],
   "source": [
    "totalnac_xbanda.drop('Periodo', axis=1, inplace=True)"
   ]
  },
  {
   "attachments": {},
   "cell_type": "markdown",
   "metadata": {},
   "source": [
    "**V.-Ingresos trimestrales por la prestación del servicio de Internet fijo**"
   ]
  },
  {
   "attachments": {},
   "cell_type": "markdown",
   "metadata": {},
   "source": [
    "Apreciamos que contiene 33 filas, 4 columnas, 1 numéricas y 3 que se refieren a fechas que  probablemente sea necesario vincularlas a un calendario en Powerby. La columna4 es redundante.  \n",
    "\n",
    "Las columnas numéricas  tienen miles con '.' los que se reemplazaran en forma conjunta con la incorporación de los datos. No vemos valores faltantes.\n",
    "\n",
    "Nos brinda información concerniente a los ingresos por año y trimestre a nivel nacional. Esto nos permite ver su evolución en el tiempo. \n",
    "\n",
    "Es la unica tabla que habla de ingresos y puede ser pertinente para nuestro trabajo."
   ]
  },
  {
   "cell_type": "code",
   "execution_count": 502,
   "metadata": {},
   "outputs": [
    {
     "data": {
      "text/html": [
       "<div>\n",
       "<style scoped>\n",
       "    .dataframe tbody tr th:only-of-type {\n",
       "        vertical-align: middle;\n",
       "    }\n",
       "\n",
       "    .dataframe tbody tr th {\n",
       "        vertical-align: top;\n",
       "    }\n",
       "\n",
       "    .dataframe thead th {\n",
       "        text-align: right;\n",
       "    }\n",
       "</style>\n",
       "<table border=\"1\" class=\"dataframe\">\n",
       "  <thead>\n",
       "    <tr style=\"text-align: right;\">\n",
       "      <th></th>\n",
       "      <th>Año</th>\n",
       "      <th>Trimestre</th>\n",
       "      <th>Ingresos (miles de pesos)</th>\n",
       "      <th>Periodo</th>\n",
       "    </tr>\n",
       "  </thead>\n",
       "  <tbody>\n",
       "    <tr>\n",
       "      <th>0</th>\n",
       "      <td>2022</td>\n",
       "      <td>1</td>\n",
       "      <td>51432896</td>\n",
       "      <td>Ene-Mar 2022</td>\n",
       "    </tr>\n",
       "    <tr>\n",
       "      <th>1</th>\n",
       "      <td>2021</td>\n",
       "      <td>4</td>\n",
       "      <td>45467887</td>\n",
       "      <td>Oct-Dic 2021</td>\n",
       "    </tr>\n",
       "    <tr>\n",
       "      <th>2</th>\n",
       "      <td>2021</td>\n",
       "      <td>3</td>\n",
       "      <td>42999944</td>\n",
       "      <td>Jul-Sept 2021</td>\n",
       "    </tr>\n",
       "    <tr>\n",
       "      <th>3</th>\n",
       "      <td>2021</td>\n",
       "      <td>2</td>\n",
       "      <td>38239667</td>\n",
       "      <td>Abr-Jun 2021</td>\n",
       "    </tr>\n",
       "    <tr>\n",
       "      <th>4</th>\n",
       "      <td>2021</td>\n",
       "      <td>1</td>\n",
       "      <td>36676371</td>\n",
       "      <td>Ene-Mar 2021</td>\n",
       "    </tr>\n",
       "  </tbody>\n",
       "</table>\n",
       "</div>"
      ],
      "text/plain": [
       "    Año  Trimestre  Ingresos (miles de pesos)        Periodo\n",
       "0  2022          1                   51432896   Ene-Mar 2022\n",
       "1  2021          4                   45467887   Oct-Dic 2021\n",
       "2  2021          3                   42999944  Jul-Sept 2021\n",
       "3  2021          2                   38239667   Abr-Jun 2021\n",
       "4  2021          1                   36676371   Ene-Mar 2021"
      ]
     },
     "execution_count": 502,
     "metadata": {},
     "output_type": "execute_result"
    }
   ],
   "source": [
    "ingre_trimes.head()\n"
   ]
  },
  {
   "cell_type": "code",
   "execution_count": 503,
   "metadata": {},
   "outputs": [
    {
     "name": "stdout",
     "output_type": "stream",
     "text": [
      "<class 'pandas.core.frame.DataFrame'>\n",
      "RangeIndex: 33 entries, 0 to 32\n",
      "Data columns (total 4 columns):\n",
      " #   Column                     Non-Null Count  Dtype \n",
      "---  ------                     --------------  ----- \n",
      " 0   Año                        33 non-null     int64 \n",
      " 1   Trimestre                  33 non-null     int64 \n",
      " 2   Ingresos (miles de pesos)  33 non-null     int64 \n",
      " 3   Periodo                    33 non-null     object\n",
      "dtypes: int64(3), object(1)\n",
      "memory usage: 1.2+ KB\n"
     ]
    }
   ],
   "source": [
    "ingre_trimes.info()"
   ]
  },
  {
   "cell_type": "code",
   "execution_count": 504,
   "metadata": {},
   "outputs": [
    {
     "data": {
      "text/plain": [
       "<AxesSubplot: >"
      ]
     },
     "execution_count": 504,
     "metadata": {},
     "output_type": "execute_result"
    },
    {
     "data": {
      "image/png": "[encoded data removed]",
      "text/plain": [
       "<Figure size 640x480 with 2 Axes>"
      ]
     },
     "metadata": {},
     "output_type": "display_data"
    }
   ],
   "source": [
    "sns.heatmap(ingre_trimes.isnull())"
   ]
  },
  {
   "attachments": {},
   "cell_type": "markdown",
   "metadata": {},
   "source": [
    "Vamos a analizar individualmente los valores de las columnas con la finalidad de entender mejor su contenido y para detectar si hay errores evidentes de carga."
   ]
  },
  {
   "cell_type": "code",
   "execution_count": 505,
   "metadata": {},
   "outputs": [
    {
     "data": {
      "text/plain": [
       "array([2022, 2021, 2020, 2019, 2018, 2017, 2016, 2015, 2014], dtype=int64)"
      ]
     },
     "execution_count": 505,
     "metadata": {},
     "output_type": "execute_result"
    }
   ],
   "source": [
    "ingre_trimes['Año'].unique() # Apreciamos que los datos van del año 2014 al 2022."
   ]
  },
  {
   "cell_type": "code",
   "execution_count": 506,
   "metadata": {},
   "outputs": [
    {
     "data": {
      "text/plain": [
       "array([1, 4, 3, 2], dtype=int64)"
      ]
     },
     "execution_count": 506,
     "metadata": {},
     "output_type": "execute_result"
    }
   ],
   "source": [
    "ingre_trimes['Trimestre'].unique() # se aplica a los cuatro trimestres del año."
   ]
  },
  {
   "cell_type": "code",
   "execution_count": 507,
   "metadata": {},
   "outputs": [
    {
     "data": {
      "text/plain": [
       "array(['Ene-Mar 2022', 'Oct-Dic 2021', 'Jul-Sept 2021', 'Abr-Jun 2021',\n",
       "       'Ene-Mar 2021', 'Oct-Dic 2020', 'Jul-Sept 2020', 'Abr-Jun 2020',\n",
       "       'Ene-Mar 2020', 'Oct-Dic 2019', 'Jul-Sept 2019', 'Abr-Jun 2019',\n",
       "       'Ene-Mar 2019', 'Oct-Dic 2018', 'Jul-Sept 2018', 'Abr-Jun 2018',\n",
       "       'Ene-Mar 2018', 'Oct-Dic 2017', 'Jul-Sept 2017', 'Abr-Jun 2017',\n",
       "       'Ene-Mar 2017', 'Oct-Dic 2016', 'Jul-Sept 2016', 'Abr-Jun 2016',\n",
       "       'Ene-Mar 2016', 'Oct-Dic 2015', 'Jul-Sept 2015', 'Abr-Jun 2015',\n",
       "       'Ene-Mar 2015', 'Oct-Dic 2014', 'Jul-Sept 2014', 'Abr-Jun 2014',\n",
       "       'Ene-Mar 2014'], dtype=object)"
      ]
     },
     "execution_count": 507,
     "metadata": {},
     "output_type": "execute_result"
    }
   ],
   "source": [
    "ingre_trimes['Periodo'].unique() # abarca las 23 provincias y el distrito federal, es decir la totalidad de argentina."
   ]
  },
  {
   "cell_type": "code",
   "execution_count": 508,
   "metadata": {},
   "outputs": [
    {
     "data": {
      "text/plain": [
       "array([51432896, 45467887, 42999944, 38239667, 36676371, 33539703,\n",
       "       31997445, 32102476, 29946216, 24169251, 21652748, 20743118,\n",
       "       20207414, 16637687, 15410981, 14319467, 13171459, 11226127,\n",
       "       10065998,  9678647,  8701201,  7483980,  6912442,  6534241,\n",
       "        5936845,  5376899,  5153739,  4701791,  4876385,  3950441,\n",
       "        3478638,  3270816,  2984054], dtype=int64)"
      ]
     },
     "execution_count": 508,
     "metadata": {},
     "output_type": "execute_result"
    }
   ],
   "source": [
    "ingre_trimes[\"Ingresos (miles de pesos)\"].unique()  "
   ]
  },
  {
   "cell_type": "code",
   "execution_count": 509,
   "metadata": {},
   "outputs": [
    {
     "data": {
      "text/plain": [
       "2984054"
      ]
     },
     "execution_count": 509,
     "metadata": {},
     "output_type": "execute_result"
    }
   ],
   "source": [
    "ingre_trimes[\"Ingresos (miles de pesos)\"].min()"
   ]
  },
  {
   "cell_type": "code",
   "execution_count": 510,
   "metadata": {},
   "outputs": [
    {
     "data": {
      "text/plain": [
       "51432896"
      ]
     },
     "execution_count": 510,
     "metadata": {},
     "output_type": "execute_result"
    }
   ],
   "source": [
    "ingre_trimes[\"Ingresos (miles de pesos)\"].max()"
   ]
  },
  {
   "cell_type": "code",
   "execution_count": 511,
   "metadata": {},
   "outputs": [
    {
     "data": {
      "text/plain": [
       "17849908.303030305"
      ]
     },
     "execution_count": 511,
     "metadata": {},
     "output_type": "execute_result"
    }
   ],
   "source": [
    "ingre_trimes[\"Ingresos (miles de pesos)\"].mean()"
   ]
  },
  {
   "cell_type": "code",
   "execution_count": 512,
   "metadata": {},
   "outputs": [],
   "source": [
    "ingre_trimes.drop('Periodo', axis=1, inplace=True)"
   ]
  },
  {
   "attachments": {},
   "cell_type": "markdown",
   "metadata": {},
   "source": [
    "**VI.-Serie trimestral de accesos a Internet fijo por tecnología.**"
   ]
  },
  {
   "attachments": {},
   "cell_type": "markdown",
   "metadata": {},
   "source": [
    "Nos brinda información concerniente a la distribución de las tecnologías utilizadas para el acceso a internet. \n",
    "\n",
    "La info suministrada resulta redundante y puede ser suplido con facilidad por otras tablas.\n"
   ]
  },
  {
   "cell_type": "code",
   "execution_count": 513,
   "metadata": {},
   "outputs": [
    {
     "data": {
      "text/html": [
       "<div>\n",
       "<style scoped>\n",
       "    .dataframe tbody tr th:only-of-type {\n",
       "        vertical-align: middle;\n",
       "    }\n",
       "\n",
       "    .dataframe tbody tr th {\n",
       "        vertical-align: top;\n",
       "    }\n",
       "\n",
       "    .dataframe thead th {\n",
       "        text-align: right;\n",
       "    }\n",
       "</style>\n",
       "<table border=\"1\" class=\"dataframe\">\n",
       "  <thead>\n",
       "    <tr style=\"text-align: right;\">\n",
       "      <th></th>\n",
       "      <th>Año</th>\n",
       "      <th>Trimestre</th>\n",
       "      <th>ADSL</th>\n",
       "      <th>Cablemodem</th>\n",
       "      <th>Fibra óptica</th>\n",
       "      <th>Wireless</th>\n",
       "      <th>Otros</th>\n",
       "      <th>Total</th>\n",
       "      <th>Periodo</th>\n",
       "    </tr>\n",
       "  </thead>\n",
       "  <tbody>\n",
       "    <tr>\n",
       "      <th>0</th>\n",
       "      <td>2022</td>\n",
       "      <td>1</td>\n",
       "      <td>1533240</td>\n",
       "      <td>6073426</td>\n",
       "      <td>2219533</td>\n",
       "      <td>545814</td>\n",
       "      <td>251996</td>\n",
       "      <td>10624009</td>\n",
       "      <td>Ene-Mar 2022</td>\n",
       "    </tr>\n",
       "    <tr>\n",
       "      <th>1</th>\n",
       "      <td>2021</td>\n",
       "      <td>4</td>\n",
       "      <td>1657615</td>\n",
       "      <td>5984240</td>\n",
       "      <td>2072236</td>\n",
       "      <td>523107</td>\n",
       "      <td>252596</td>\n",
       "      <td>10489794</td>\n",
       "      <td>Oct-Dic 2021</td>\n",
       "    </tr>\n",
       "    <tr>\n",
       "      <th>2</th>\n",
       "      <td>2021</td>\n",
       "      <td>3</td>\n",
       "      <td>1950631</td>\n",
       "      <td>5826257</td>\n",
       "      <td>1566048</td>\n",
       "      <td>492415</td>\n",
       "      <td>250190</td>\n",
       "      <td>10085541</td>\n",
       "      <td>Jul-Sept 2021</td>\n",
       "    </tr>\n",
       "    <tr>\n",
       "      <th>3</th>\n",
       "      <td>2021</td>\n",
       "      <td>2</td>\n",
       "      <td>2018587</td>\n",
       "      <td>5641731</td>\n",
       "      <td>1472246</td>\n",
       "      <td>476968</td>\n",
       "      <td>253552</td>\n",
       "      <td>9863084</td>\n",
       "      <td>Abr-Jun 2021</td>\n",
       "    </tr>\n",
       "    <tr>\n",
       "      <th>4</th>\n",
       "      <td>2021</td>\n",
       "      <td>1</td>\n",
       "      <td>2175211</td>\n",
       "      <td>5424782</td>\n",
       "      <td>1362976</td>\n",
       "      <td>434548</td>\n",
       "      <td>250455</td>\n",
       "      <td>9647972</td>\n",
       "      <td>Ene-Mar 2021</td>\n",
       "    </tr>\n",
       "  </tbody>\n",
       "</table>\n",
       "</div>"
      ],
      "text/plain": [
       "    Año  Trimestre     ADSL  Cablemodem  Fibra óptica  Wireless   Otros  \\\n",
       "0  2022          1  1533240     6073426       2219533    545814  251996   \n",
       "1  2021          4  1657615     5984240       2072236    523107  252596   \n",
       "2  2021          3  1950631     5826257       1566048    492415  250190   \n",
       "3  2021          2  2018587     5641731       1472246    476968  253552   \n",
       "4  2021          1  2175211     5424782       1362976    434548  250455   \n",
       "\n",
       "      Total        Periodo  \n",
       "0  10624009   Ene-Mar 2022  \n",
       "1  10489794   Oct-Dic 2021  \n",
       "2  10085541  Jul-Sept 2021  \n",
       "3   9863084   Abr-Jun 2021  \n",
       "4   9647972   Ene-Mar 2021  "
      ]
     },
     "execution_count": 513,
     "metadata": {},
     "output_type": "execute_result"
    }
   ],
   "source": [
    "trim_accint_tec.head()\n"
   ]
  },
  {
   "cell_type": "code",
   "execution_count": 514,
   "metadata": {},
   "outputs": [
    {
     "name": "stdout",
     "output_type": "stream",
     "text": [
      "<class 'pandas.core.frame.DataFrame'>\n",
      "RangeIndex: 33 entries, 0 to 32\n",
      "Data columns (total 9 columns):\n",
      " #   Column        Non-Null Count  Dtype \n",
      "---  ------        --------------  ----- \n",
      " 0   Año           33 non-null     int64 \n",
      " 1   Trimestre     33 non-null     int64 \n",
      " 2   ADSL          33 non-null     int64 \n",
      " 3   Cablemodem    33 non-null     int64 \n",
      " 4   Fibra óptica  33 non-null     int64 \n",
      " 5   Wireless      33 non-null     int64 \n",
      " 6   Otros         33 non-null     int64 \n",
      " 7   Total         33 non-null     int64 \n",
      " 8   Periodo       33 non-null     object\n",
      "dtypes: int64(8), object(1)\n",
      "memory usage: 2.4+ KB\n"
     ]
    }
   ],
   "source": [
    "trim_accint_tec.info()"
   ]
  },
  {
   "cell_type": "code",
   "execution_count": 515,
   "metadata": {},
   "outputs": [
    {
     "data": {
      "text/plain": [
       "<AxesSubplot: >"
      ]
     },
     "execution_count": 515,
     "metadata": {},
     "output_type": "execute_result"
    },
    {
     "data": {
      "image/png": "[encoded data removed]",
      "text/plain": [
       "<Figure size 640x480 with 2 Axes>"
      ]
     },
     "metadata": {},
     "output_type": "display_data"
    }
   ],
   "source": [
    "sns.heatmap(trim_accint_tec.isnull())"
   ]
  },
  {
   "attachments": {},
   "cell_type": "markdown",
   "metadata": {},
   "source": [
    "Vamos a analizar individualmente los valores de las columnas con la finalidad de entender mejor su contenido y para detectar si hay errores evidentes de carga."
   ]
  },
  {
   "cell_type": "code",
   "execution_count": 516,
   "metadata": {},
   "outputs": [
    {
     "data": {
      "text/plain": [
       "array([2022, 2021, 2020, 2019, 2018, 2017, 2016, 2015, 2014], dtype=int64)"
      ]
     },
     "execution_count": 516,
     "metadata": {},
     "output_type": "execute_result"
    }
   ],
   "source": [
    "trim_accint_tec['Año'].unique() # Apreciamos que los datos van del año 2014 al 2022."
   ]
  },
  {
   "cell_type": "code",
   "execution_count": 517,
   "metadata": {},
   "outputs": [
    {
     "data": {
      "text/plain": [
       "array([1, 4, 3, 2], dtype=int64)"
      ]
     },
     "execution_count": 517,
     "metadata": {},
     "output_type": "execute_result"
    }
   ],
   "source": [
    "trim_accint_tec['Trimestre'].unique() # se aplica a los cuatro trimestres del año."
   ]
  },
  {
   "cell_type": "code",
   "execution_count": 518,
   "metadata": {},
   "outputs": [
    {
     "data": {
      "text/plain": [
       "array([1533240, 1657615, 1950631, 2018587, 2175211, 2213949, 2263889,\n",
       "       2295533, 2299457, 2414575, 2909805, 2990457, 3132789, 3329027,\n",
       "       3521447, 3557216, 3574294, 3584311, 3622575, 3723518, 3708898,\n",
       "       3722794, 3776442, 3782085, 3792493, 3803024, 3788696, 3767821,\n",
       "       3756153, 3764038, 3714764, 3708882, 3697066], dtype=int64)"
      ]
     },
     "execution_count": 518,
     "metadata": {},
     "output_type": "execute_result"
    }
   ],
   "source": [
    "trim_accint_tec['ADSL'].unique() "
   ]
  },
  {
   "cell_type": "code",
   "execution_count": 519,
   "metadata": {},
   "outputs": [
    {
     "data": {
      "text/plain": [
       "array([6073426, 5984240, 5826257, 5641731, 5424782, 5371824, 5259351,\n",
       "       5005115, 4903674, 4883869, 4800091, 4635575, 4435439, 4313831,\n",
       "       4238171, 4038141, 3981129, 3818157, 3670221, 3383434, 3276251,\n",
       "       3210602, 3124855, 3035272, 2806359, 2898226, 2840203, 2756294,\n",
       "       2668248, 2536219, 2569868, 2461670, 2407330], dtype=int64)"
      ]
     },
     "execution_count": 519,
     "metadata": {},
     "output_type": "execute_result"
    }
   ],
   "source": [
    "trim_accint_tec['Cablemodem'].unique() "
   ]
  },
  {
   "cell_type": "code",
   "execution_count": 520,
   "metadata": {},
   "outputs": [
    {
     "data": {
      "text/plain": [
       "array([2219533, 2072236, 1566048, 1472246, 1362976, 1311199, 1170879,\n",
       "       1106725, 1047817,  941295,  852221,  760794,  637099,  388013,\n",
       "        247366,  226285,  217460,  211425,  193964,  180777,  180146,\n",
       "        178070,  169898,  167788,  164371,  139187,  162663,  150839,\n",
       "        168188,  149682,  155494,  149363,  150323], dtype=int64)"
      ]
     },
     "execution_count": 520,
     "metadata": {},
     "output_type": "execute_result"
    }
   ],
   "source": [
    "trim_accint_tec['Fibra óptica'].unique()"
   ]
  },
  {
   "cell_type": "code",
   "execution_count": 521,
   "metadata": {},
   "outputs": [
    {
     "data": {
      "text/plain": [
       "array([545814, 523107, 492415, 476968, 434548, 421554, 413259, 376667,\n",
       "       352333, 340144, 338241, 308027, 276419, 264299, 246181, 194267,\n",
       "       165300, 155775, 106443,  85813,  84813,  85119,  81455,  85452,\n",
       "        85370,  85726,  84530,  82077,  79098,  76984,  85096,  72405,\n",
       "        70749], dtype=int64)"
      ]
     },
     "execution_count": 521,
     "metadata": {},
     "output_type": "execute_result"
    }
   ],
   "source": [
    "trim_accint_tec['Wireless'].unique()"
   ]
  },
  {
   "cell_type": "code",
   "execution_count": 522,
   "metadata": {},
   "outputs": [
    {
     "data": {
      "text/plain": [
       "array([251996, 252596, 250190, 253552, 250455, 253036, 248821, 247016,\n",
       "       209145, 213298, 264326, 265328, 166389, 178485,  93870,  94535,\n",
       "        98870, 100554, 131740,  56122,  55746,  55088,  54300,  59482,\n",
       "        58763,  58668,  58976,  59157,  66045,  71573,  70049,  72148,\n",
       "        72930], dtype=int64)"
      ]
     },
     "execution_count": 522,
     "metadata": {},
     "output_type": "execute_result"
    }
   ],
   "source": [
    "trim_accint_tec[\"Otros\"].unique() "
   ]
  },
  {
   "cell_type": "code",
   "execution_count": 523,
   "metadata": {},
   "outputs": [
    {
     "data": {
      "text/plain": [
       "array([10624009, 10489794, 10085541,  9863084,  9647972,  9571562,\n",
       "        9356199,  9031056,  8812426,  8793181,  9164684,  8960181,\n",
       "        8648135,  8473655,  8347035,  8110444,  8037053,  7870222,\n",
       "        7724943,  7429664,  7305854,  7251673,  7206950,  7130079,\n",
       "        6907356,  6984831,  6935068,  6816188,  6737732,  6598496,\n",
       "        6595271,  6464468,  6398398], dtype=int64)"
      ]
     },
     "execution_count": 523,
     "metadata": {},
     "output_type": "execute_result"
    }
   ],
   "source": [
    "trim_accint_tec[\"Total\"].unique()"
   ]
  },
  {
   "cell_type": "code",
   "execution_count": 524,
   "metadata": {},
   "outputs": [
    {
     "data": {
      "text/plain": [
       "array(['Ene-Mar 2022', 'Oct-Dic 2021', 'Jul-Sept 2021', 'Abr-Jun 2021',\n",
       "       'Ene-Mar 2021', 'Oct-Dic 2020', 'Jul-Sept 2020', 'Abr-Jun 2020',\n",
       "       'Ene-Mar 2020', 'Oct-Dic 2019', 'Jul-Sept 2019', 'Abr-Jun 2019',\n",
       "       'Ene-Mar 2019', 'Oct-Dic 2018', 'Jul-Sept 2018', 'Abr-Jun 2018',\n",
       "       'Ene-Mar 2018', 'Oct-Dic 2017', 'Jul-Sept 2017', 'Abr-Jun 2017',\n",
       "       'Ene-Mar 2017', 'Oct-Dic 2016', 'Jul-Sept 2016', 'Abr-Jun 2016',\n",
       "       'Ene-Mar 2016', 'Oct-Dic 2015', 'Jul-Sept 2015', 'Abr-Jun 2015',\n",
       "       'Ene-Mar 2015', 'Oct-Dic 2014', 'Jul-Sept 2014', 'Abr-Jun 2014',\n",
       "       'Ene-Mar 2014'], dtype=object)"
      ]
     },
     "execution_count": 524,
     "metadata": {},
     "output_type": "execute_result"
    }
   ],
   "source": [
    "trim_accint_tec[\"Periodo\"].unique()"
   ]
  },
  {
   "attachments": {},
   "cell_type": "markdown",
   "metadata": {},
   "source": [
    "<h3>3.-Armado de datasets para proyecto.<h3>"
   ]
  },
  {
   "attachments": {},
   "cell_type": "markdown",
   "metadata": {},
   "source": [
    "En esta etapa vamos a confeccionar dos dataset uno provincial y otra nacional con la información que necesitamos para el proyecto y luego los guardaremos en formato .csv en la carpeta 'Datasets definitivos' para poder trabajar con ellos en power by."
   ]
  },
  {
   "cell_type": "code",
   "execution_count": 525,
   "metadata": {},
   "outputs": [],
   "source": [
    "velmed.drop(['Año','Trimestre'], axis=1, inplace=True)\n",
    "distr_totnac_vel.drop(['Año','Trimestre','Total'], axis=1, inplace=True)\n",
    "ingre_trimes.drop(['Año','Trimestre'], axis=1, inplace=True)\n"
   ]
  },
  {
   "cell_type": "code",
   "execution_count": 526,
   "metadata": {},
   "outputs": [],
   "source": [
    "df_nacional = pd.concat([penet_hog,velmed,distr_totnac_vel,ingre_trimes],axis=1)"
   ]
  },
  {
   "cell_type": "code",
   "execution_count": 527,
   "metadata": {},
   "outputs": [
    {
     "data": {
      "text/html": [
       "<div>\n",
       "<style scoped>\n",
       "    .dataframe tbody tr th:only-of-type {\n",
       "        vertical-align: middle;\n",
       "    }\n",
       "\n",
       "    .dataframe tbody tr th {\n",
       "        vertical-align: top;\n",
       "    }\n",
       "\n",
       "    .dataframe thead th {\n",
       "        text-align: right;\n",
       "    }\n",
       "</style>\n",
       "<table border=\"1\" class=\"dataframe\">\n",
       "  <thead>\n",
       "    <tr style=\"text-align: right;\">\n",
       "      <th></th>\n",
       "      <th>Año</th>\n",
       "      <th>Trimestre</th>\n",
       "      <th>Accesos por cada 100 hogares</th>\n",
       "      <th>Accesos por cada 100 hab</th>\n",
       "      <th>Mbps (Media de bajada)</th>\n",
       "      <th>Hasta 512 kbps</th>\n",
       "      <th>Entre 512 Kbps y 1 Mbps</th>\n",
       "      <th>Entre 1 Mbps y 6 Mbps</th>\n",
       "      <th>Entre 6 Mbps y 10 Mbps</th>\n",
       "      <th>Entre 10 Mbps y 20 Mbps</th>\n",
       "      <th>Entre 20 Mbps y 30 Mbps</th>\n",
       "      <th>Más de 30 Mbps</th>\n",
       "      <th>OTROS</th>\n",
       "      <th>Ingresos (miles de pesos)</th>\n",
       "    </tr>\n",
       "  </thead>\n",
       "  <tbody>\n",
       "    <tr>\n",
       "      <th>0</th>\n",
       "      <td>2022</td>\n",
       "      <td>1</td>\n",
       "      <td>73.88</td>\n",
       "      <td>23.05</td>\n",
       "      <td>55.11</td>\n",
       "      <td>34890</td>\n",
       "      <td>104840</td>\n",
       "      <td>1263273</td>\n",
       "      <td>1209148</td>\n",
       "      <td>967508</td>\n",
       "      <td>509830</td>\n",
       "      <td>6336187</td>\n",
       "      <td>198333</td>\n",
       "      <td>51432896</td>\n",
       "    </tr>\n",
       "    <tr>\n",
       "      <th>1</th>\n",
       "      <td>2021</td>\n",
       "      <td>4</td>\n",
       "      <td>73.18</td>\n",
       "      <td>22.81</td>\n",
       "      <td>52.34</td>\n",
       "      <td>41262</td>\n",
       "      <td>28521</td>\n",
       "      <td>1413208</td>\n",
       "      <td>1245333</td>\n",
       "      <td>976539</td>\n",
       "      <td>558358</td>\n",
       "      <td>6032322</td>\n",
       "      <td>194251</td>\n",
       "      <td>45467887</td>\n",
       "    </tr>\n",
       "    <tr>\n",
       "      <th>2</th>\n",
       "      <td>2021</td>\n",
       "      <td>3</td>\n",
       "      <td>70.58</td>\n",
       "      <td>21.98</td>\n",
       "      <td>48.46</td>\n",
       "      <td>40174</td>\n",
       "      <td>41437</td>\n",
       "      <td>2550229</td>\n",
       "      <td>1095772</td>\n",
       "      <td>710122</td>\n",
       "      <td>536364</td>\n",
       "      <td>4948174</td>\n",
       "      <td>163269</td>\n",
       "      <td>42999944</td>\n",
       "    </tr>\n",
       "    <tr>\n",
       "      <th>3</th>\n",
       "      <td>2021</td>\n",
       "      <td>2</td>\n",
       "      <td>69.24</td>\n",
       "      <td>21.55</td>\n",
       "      <td>45.63</td>\n",
       "      <td>40172</td>\n",
       "      <td>42024</td>\n",
       "      <td>2531271</td>\n",
       "      <td>1080279</td>\n",
       "      <td>693277</td>\n",
       "      <td>647401</td>\n",
       "      <td>4661291</td>\n",
       "      <td>167369</td>\n",
       "      <td>38239667</td>\n",
       "    </tr>\n",
       "    <tr>\n",
       "      <th>4</th>\n",
       "      <td>2021</td>\n",
       "      <td>1</td>\n",
       "      <td>67.95</td>\n",
       "      <td>21.13</td>\n",
       "      <td>43.11</td>\n",
       "      <td>39487</td>\n",
       "      <td>41674</td>\n",
       "      <td>2593477</td>\n",
       "      <td>1072722</td>\n",
       "      <td>737930</td>\n",
       "      <td>595920</td>\n",
       "      <td>4379965</td>\n",
       "      <td>186797</td>\n",
       "      <td>36676371</td>\n",
       "    </tr>\n",
       "  </tbody>\n",
       "</table>\n",
       "</div>"
      ],
      "text/plain": [
       "    Año  Trimestre  Accesos por cada 100 hogares  Accesos por cada 100 hab  \\\n",
       "0  2022          1                         73.88                     23.05   \n",
       "1  2021          4                         73.18                     22.81   \n",
       "2  2021          3                         70.58                     21.98   \n",
       "3  2021          2                         69.24                     21.55   \n",
       "4  2021          1                         67.95                     21.13   \n",
       "\n",
       "   Mbps (Media de bajada)  Hasta 512 kbps  Entre 512 Kbps y 1 Mbps  \\\n",
       "0                   55.11           34890                   104840   \n",
       "1                   52.34           41262                    28521   \n",
       "2                   48.46           40174                    41437   \n",
       "3                   45.63           40172                    42024   \n",
       "4                   43.11           39487                    41674   \n",
       "\n",
       "   Entre 1 Mbps y 6 Mbps  Entre 6 Mbps y 10 Mbps  Entre 10 Mbps y 20 Mbps  \\\n",
       "0                1263273                 1209148                   967508   \n",
       "1                1413208                 1245333                   976539   \n",
       "2                2550229                 1095772                   710122   \n",
       "3                2531271                 1080279                   693277   \n",
       "4                2593477                 1072722                   737930   \n",
       "\n",
       "   Entre 20 Mbps y 30 Mbps  Más de 30 Mbps   OTROS  Ingresos (miles de pesos)  \n",
       "0                   509830         6336187  198333                   51432896  \n",
       "1                   558358         6032322  194251                   45467887  \n",
       "2                   536364         4948174  163269                   42999944  \n",
       "3                   647401         4661291  167369                   38239667  \n",
       "4                   595920         4379965  186797                   36676371  "
      ]
     },
     "execution_count": 527,
     "metadata": {},
     "output_type": "execute_result"
    }
   ],
   "source": [
    "df_nacional.head()"
   ]
  },
  {
   "attachments": {},
   "cell_type": "markdown",
   "metadata": {},
   "source": [
    "penet_100hog =/Datasets/dataset/Penetración de Internet fijo (accesos por cada 100 hogares)')#Primer kpi\n",
    "\n",
    "\n",
    "\n",
    "acc_ranvelyprov = Acceso a Internet Fijo por rangos de velocidad de bajada y provincia\n",
    "velmed_xprov = Velocidad media de bajada de Internet fijo por provincia\n",
    "acc_tecyprov =Acceso a Internet fijo por tecnología y provincia\n",
    "\n",
    "\n"
   ]
  },
  {
   "cell_type": "code",
   "execution_count": 528,
   "metadata": {},
   "outputs": [],
   "source": [
    "velmed_xprov.drop(['Año','Trimestre','Provincia'], axis=1, inplace=True)\n",
    "acc_ranvelyprov.drop(['Año','Trimestre','Provincia','Total'], axis=1, inplace=True)\n",
    "acc_tecyprov.drop(['Año','Trimestre','Provincia','Total'], axis=1, inplace=True)"
   ]
  },
  {
   "cell_type": "code",
   "execution_count": 530,
   "metadata": {},
   "outputs": [],
   "source": [
    "df_provincial = pd.concat([penet_100hog,velmed_xprov,acc_ranvelyprov,acc_tecyprov],axis=1)"
   ]
  },
  {
   "cell_type": "code",
   "execution_count": 531,
   "metadata": {},
   "outputs": [
    {
     "data": {
      "text/html": [
       "<div>\n",
       "<style scoped>\n",
       "    .dataframe tbody tr th:only-of-type {\n",
       "        vertical-align: middle;\n",
       "    }\n",
       "\n",
       "    .dataframe tbody tr th {\n",
       "        vertical-align: top;\n",
       "    }\n",
       "\n",
       "    .dataframe thead th {\n",
       "        text-align: right;\n",
       "    }\n",
       "</style>\n",
       "<table border=\"1\" class=\"dataframe\">\n",
       "  <thead>\n",
       "    <tr style=\"text-align: right;\">\n",
       "      <th></th>\n",
       "      <th>Año</th>\n",
       "      <th>Trimestre</th>\n",
       "      <th>Provincia</th>\n",
       "      <th>Accesos por cada 100 hogares</th>\n",
       "      <th>Mbps (Media de bajada)</th>\n",
       "      <th>HASTA 512 kbps</th>\n",
       "      <th>+ 512 Kbps - 1 Mbps</th>\n",
       "      <th>+ 1 Mbps - 6 Mbps</th>\n",
       "      <th>+ 6 Mbps - 10 Mbps</th>\n",
       "      <th>+ 10 Mbps - 20 Mbps</th>\n",
       "      <th>+ 20 Mbps - 30 Mbps</th>\n",
       "      <th>+ 30 Mbps</th>\n",
       "      <th>OTROS</th>\n",
       "      <th>ADSL</th>\n",
       "      <th>Cablemodem</th>\n",
       "      <th>Fibra óptica</th>\n",
       "      <th>Wireless</th>\n",
       "      <th>Otros</th>\n",
       "    </tr>\n",
       "  </thead>\n",
       "  <tbody>\n",
       "    <tr>\n",
       "      <th>0</th>\n",
       "      <td>2022</td>\n",
       "      <td>1</td>\n",
       "      <td>Buenos Aires</td>\n",
       "      <td>76.08</td>\n",
       "      <td>63</td>\n",
       "      <td>31591</td>\n",
       "      <td>30056</td>\n",
       "      <td>313382</td>\n",
       "      <td>321756</td>\n",
       "      <td>290127</td>\n",
       "      <td>161183</td>\n",
       "      <td>3381049</td>\n",
       "      <td>26280.0</td>\n",
       "      <td>392045.0</td>\n",
       "      <td>2728865</td>\n",
       "      <td>1242121</td>\n",
       "      <td>125521</td>\n",
       "      <td>66872.0</td>\n",
       "    </tr>\n",
       "    <tr>\n",
       "      <th>1</th>\n",
       "      <td>2022</td>\n",
       "      <td>1</td>\n",
       "      <td>Capital Federal</td>\n",
       "      <td>111.80</td>\n",
       "      <td>88</td>\n",
       "      <td>527</td>\n",
       "      <td>5575</td>\n",
       "      <td>39918</td>\n",
       "      <td>77390</td>\n",
       "      <td>61053</td>\n",
       "      <td>43289</td>\n",
       "      <td>1188072</td>\n",
       "      <td>1717.0</td>\n",
       "      <td>102290.0</td>\n",
       "      <td>1217225</td>\n",
       "      <td>62308</td>\n",
       "      <td>5784</td>\n",
       "      <td>29934.0</td>\n",
       "    </tr>\n",
       "    <tr>\n",
       "      <th>2</th>\n",
       "      <td>2022</td>\n",
       "      <td>1</td>\n",
       "      <td>Catamarca</td>\n",
       "      <td>58.21</td>\n",
       "      <td>51</td>\n",
       "      <td>71</td>\n",
       "      <td>456</td>\n",
       "      <td>4386</td>\n",
       "      <td>7009</td>\n",
       "      <td>8773</td>\n",
       "      <td>3761</td>\n",
       "      <td>35715</td>\n",
       "      <td>2207.0</td>\n",
       "      <td>14181.0</td>\n",
       "      <td>15517</td>\n",
       "      <td>29118</td>\n",
       "      <td>1328</td>\n",
       "      <td>2234.0</td>\n",
       "    </tr>\n",
       "    <tr>\n",
       "      <th>3</th>\n",
       "      <td>2022</td>\n",
       "      <td>1</td>\n",
       "      <td>Chaco</td>\n",
       "      <td>44.06</td>\n",
       "      <td>46</td>\n",
       "      <td>461</td>\n",
       "      <td>1099</td>\n",
       "      <td>16888</td>\n",
       "      <td>21235</td>\n",
       "      <td>20898</td>\n",
       "      <td>13012</td>\n",
       "      <td>62946</td>\n",
       "      <td>7580.0</td>\n",
       "      <td>32391.0</td>\n",
       "      <td>64546</td>\n",
       "      <td>36662</td>\n",
       "      <td>8164</td>\n",
       "      <td>2356.0</td>\n",
       "    </tr>\n",
       "    <tr>\n",
       "      <th>4</th>\n",
       "      <td>2022</td>\n",
       "      <td>1</td>\n",
       "      <td>Chubut</td>\n",
       "      <td>88.05</td>\n",
       "      <td>13</td>\n",
       "      <td>113</td>\n",
       "      <td>1677</td>\n",
       "      <td>61369</td>\n",
       "      <td>31856</td>\n",
       "      <td>33080</td>\n",
       "      <td>13871</td>\n",
       "      <td>14055</td>\n",
       "      <td>15607.0</td>\n",
       "      <td>44133.0</td>\n",
       "      <td>66667</td>\n",
       "      <td>9184</td>\n",
       "      <td>30592</td>\n",
       "      <td>21052.0</td>\n",
       "    </tr>\n",
       "    <tr>\n",
       "      <th>...</th>\n",
       "      <td>...</td>\n",
       "      <td>...</td>\n",
       "      <td>...</td>\n",
       "      <td>...</td>\n",
       "      <td>...</td>\n",
       "      <td>...</td>\n",
       "      <td>...</td>\n",
       "      <td>...</td>\n",
       "      <td>...</td>\n",
       "      <td>...</td>\n",
       "      <td>...</td>\n",
       "      <td>...</td>\n",
       "      <td>...</td>\n",
       "      <td>...</td>\n",
       "      <td>...</td>\n",
       "      <td>...</td>\n",
       "      <td>...</td>\n",
       "      <td>...</td>\n",
       "    </tr>\n",
       "    <tr>\n",
       "      <th>787</th>\n",
       "      <td>2014</td>\n",
       "      <td>1</td>\n",
       "      <td>Santa Cruz</td>\n",
       "      <td>28.94</td>\n",
       "      <td>3</td>\n",
       "      <td>161</td>\n",
       "      <td>1625</td>\n",
       "      <td>24972</td>\n",
       "      <td>1</td>\n",
       "      <td>1</td>\n",
       "      <td>0</td>\n",
       "      <td>0</td>\n",
       "      <td>0.0</td>\n",
       "      <td>18927.0</td>\n",
       "      <td>100</td>\n",
       "      <td>381</td>\n",
       "      <td>4092</td>\n",
       "      <td>3264.0</td>\n",
       "    </tr>\n",
       "    <tr>\n",
       "      <th>788</th>\n",
       "      <td>2014</td>\n",
       "      <td>1</td>\n",
       "      <td>Santa Fe</td>\n",
       "      <td>47.85</td>\n",
       "      <td>3</td>\n",
       "      <td>8456</td>\n",
       "      <td>124468</td>\n",
       "      <td>345225</td>\n",
       "      <td>20328</td>\n",
       "      <td>6845</td>\n",
       "      <td>23</td>\n",
       "      <td>668</td>\n",
       "      <td>0.0</td>\n",
       "      <td>322662.0</td>\n",
       "      <td>174296</td>\n",
       "      <td>3059</td>\n",
       "      <td>5951</td>\n",
       "      <td>644.0</td>\n",
       "    </tr>\n",
       "    <tr>\n",
       "      <th>789</th>\n",
       "      <td>2014</td>\n",
       "      <td>1</td>\n",
       "      <td>Santiago Del Estero</td>\n",
       "      <td>16.31</td>\n",
       "      <td>3</td>\n",
       "      <td>1234</td>\n",
       "      <td>10531</td>\n",
       "      <td>22817</td>\n",
       "      <td>2422</td>\n",
       "      <td>109</td>\n",
       "      <td>0</td>\n",
       "      <td>0</td>\n",
       "      <td>0.0</td>\n",
       "      <td>32567.0</td>\n",
       "      <td>3598</td>\n",
       "      <td>19</td>\n",
       "      <td>915</td>\n",
       "      <td>34.0</td>\n",
       "    </tr>\n",
       "    <tr>\n",
       "      <th>790</th>\n",
       "      <td>2014</td>\n",
       "      <td>1</td>\n",
       "      <td>Tierra Del Fuego</td>\n",
       "      <td>63.97</td>\n",
       "      <td>3</td>\n",
       "      <td>12</td>\n",
       "      <td>607</td>\n",
       "      <td>30902</td>\n",
       "      <td>6</td>\n",
       "      <td>0</td>\n",
       "      <td>0</td>\n",
       "      <td>0</td>\n",
       "      <td>0.0</td>\n",
       "      <td>21618.0</td>\n",
       "      <td>2837</td>\n",
       "      <td>648</td>\n",
       "      <td>1</td>\n",
       "      <td>2934.0</td>\n",
       "    </tr>\n",
       "    <tr>\n",
       "      <th>791</th>\n",
       "      <td>2014</td>\n",
       "      <td>1</td>\n",
       "      <td>Tucumán</td>\n",
       "      <td>33.42</td>\n",
       "      <td>3</td>\n",
       "      <td>6</td>\n",
       "      <td>34672</td>\n",
       "      <td>83210</td>\n",
       "      <td>11779</td>\n",
       "      <td>362</td>\n",
       "      <td>3</td>\n",
       "      <td>0</td>\n",
       "      <td>0.0</td>\n",
       "      <td>129717.0</td>\n",
       "      <td>83</td>\n",
       "      <td>121</td>\n",
       "      <td>13</td>\n",
       "      <td>98.0</td>\n",
       "    </tr>\n",
       "  </tbody>\n",
       "</table>\n",
       "<p>792 rows × 18 columns</p>\n",
       "</div>"
      ],
      "text/plain": [
       "      Año  Trimestre            Provincia  Accesos por cada 100 hogares  \\\n",
       "0    2022          1         Buenos Aires                         76.08   \n",
       "1    2022          1      Capital Federal                        111.80   \n",
       "2    2022          1            Catamarca                         58.21   \n",
       "3    2022          1                Chaco                         44.06   \n",
       "4    2022          1               Chubut                         88.05   \n",
       "..    ...        ...                  ...                           ...   \n",
       "787  2014          1           Santa Cruz                         28.94   \n",
       "788  2014          1             Santa Fe                         47.85   \n",
       "789  2014          1  Santiago Del Estero                         16.31   \n",
       "790  2014          1     Tierra Del Fuego                         63.97   \n",
       "791  2014          1              Tucumán                         33.42   \n",
       "\n",
       "     Mbps (Media de bajada)  HASTA 512 kbps  + 512 Kbps - 1 Mbps  \\\n",
       "0                        63           31591                30056   \n",
       "1                        88             527                 5575   \n",
       "2                        51              71                  456   \n",
       "3                        46             461                 1099   \n",
       "4                        13             113                 1677   \n",
       "..                      ...             ...                  ...   \n",
       "787                       3             161                 1625   \n",
       "788                       3            8456               124468   \n",
       "789                       3            1234                10531   \n",
       "790                       3              12                  607   \n",
       "791                       3               6                34672   \n",
       "\n",
       "     + 1 Mbps - 6 Mbps  + 6 Mbps - 10 Mbps  + 10 Mbps - 20 Mbps  \\\n",
       "0               313382              321756               290127   \n",
       "1                39918               77390                61053   \n",
       "2                 4386                7009                 8773   \n",
       "3                16888               21235                20898   \n",
       "4                61369               31856                33080   \n",
       "..                 ...                 ...                  ...   \n",
       "787              24972                   1                    1   \n",
       "788             345225               20328                 6845   \n",
       "789              22817                2422                  109   \n",
       "790              30902                   6                    0   \n",
       "791              83210               11779                  362   \n",
       "\n",
       "     + 20 Mbps - 30 Mbps  + 30 Mbps    OTROS      ADSL  Cablemodem  \\\n",
       "0                 161183    3381049  26280.0  392045.0     2728865   \n",
       "1                  43289    1188072   1717.0  102290.0     1217225   \n",
       "2                   3761      35715   2207.0   14181.0       15517   \n",
       "3                  13012      62946   7580.0   32391.0       64546   \n",
       "4                  13871      14055  15607.0   44133.0       66667   \n",
       "..                   ...        ...      ...       ...         ...   \n",
       "787                    0          0      0.0   18927.0         100   \n",
       "788                   23        668      0.0  322662.0      174296   \n",
       "789                    0          0      0.0   32567.0        3598   \n",
       "790                    0          0      0.0   21618.0        2837   \n",
       "791                    3          0      0.0  129717.0          83   \n",
       "\n",
       "     Fibra óptica  Wireless    Otros  \n",
       "0         1242121    125521  66872.0  \n",
       "1           62308      5784  29934.0  \n",
       "2           29118      1328   2234.0  \n",
       "3           36662      8164   2356.0  \n",
       "4            9184     30592  21052.0  \n",
       "..            ...       ...      ...  \n",
       "787           381      4092   3264.0  \n",
       "788          3059      5951    644.0  \n",
       "789            19       915     34.0  \n",
       "790           648         1   2934.0  \n",
       "791           121        13     98.0  \n",
       "\n",
       "[792 rows x 18 columns]"
      ]
     },
     "execution_count": 531,
     "metadata": {},
     "output_type": "execute_result"
    }
   ],
   "source": [
    "df_provincial"
   ]
  }
 ],
 "metadata": {
  "kernelspec": {
   "display_name": ".venv",
   "language": "python",
   "name": "python3"
  },
  "language_info": {
   "codemirror_mode": {
    "name": "ipython",
    "version": 3
   },
   "file_extension": ".py",
   "mimetype": "text/x-python",
   "name": "python",
   "nbconvert_exporter": "python",
   "pygments_lexer": "ipython3",
   "version": "3.9.4"
  },
  "orig_nbformat": 4,
  "vscode": {
   "interpreter": {
    "hash": "6f74753308690633fbc02edd1156e1c7ab63288c06a5e80e8a2ac5432a857420"
   }
  }
 },
 "nbformat": 4,
 "nbformat_minor": 2
}
